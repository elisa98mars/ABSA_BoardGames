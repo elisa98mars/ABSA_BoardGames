{
 "cells": [
  {
   "cell_type": "code",
   "execution_count": 7,
   "metadata": {},
   "outputs": [],
   "source": [
    "import pandas as pd\n",
    "import matplotlib.pyplot as plt\n",
    "import seaborn as sns\n",
    "import numpy as np\n",
    "import random\n",
    "from nltk.corpus import stopwords\n",
    "from collections import Counter\n",
    "import fasttext\n",
    "from HelperFunction import *\n",
    "\n",
    "from sklearn.cluster import KMeans\n",
    "from sentence_transformers import SentenceTransformer\n",
    "from sklearn.decomposition import NMF\n",
    "from sklearn.feature_extraction.text import TfidfVectorizer\n",
    "import pyLDAvis\n",
    "import pyLDAvis.gensim_models as gensimvis\n",
    "from gensim.corpora import Dictionary\n",
    "from gensim.models import HdpModel\n",
    "from gensim.models.coherencemodel import CoherenceModel\n",
    "import gensim.corpora as corpora\n",
    "from gensim.models import LdaMulticore\n",
    "from pprint import pprint\n",
    "from bertopic import BERTopic\n",
    "from sklearn.feature_extraction.text import CountVectorizer\n",
    "from transformers import pipeline\n",
    "from umap import UMAP\n",
    "from hdbscan import HDBSCAN\n",
    "\n",
    "import warnings\n",
    "warnings.filterwarnings(\"ignore\")"
   ]
  },
  {
   "cell_type": "markdown",
   "metadata": {},
   "source": [
    "# 1. Data"
   ]
  },
  {
   "cell_type": "markdown",
   "metadata": {},
   "source": [
    "## 1.1 Loading Data"
   ]
  },
  {
   "cell_type": "code",
   "execution_count": 2,
   "metadata": {},
   "outputs": [
    {
     "name": "stdout",
     "output_type": "stream",
     "text": [
      "Numebr of rows: 4727\n"
     ]
    },
    {
     "data": {
      "text/html": [
       "<div>\n",
       "<style scoped>\n",
       "    .dataframe tbody tr th:only-of-type {\n",
       "        vertical-align: middle;\n",
       "    }\n",
       "\n",
       "    .dataframe tbody tr th {\n",
       "        vertical-align: top;\n",
       "    }\n",
       "\n",
       "    .dataframe thead th {\n",
       "        text-align: right;\n",
       "    }\n",
       "</style>\n",
       "<table border=\"1\" class=\"dataframe\">\n",
       "  <thead>\n",
       "    <tr style=\"text-align: right;\">\n",
       "      <th></th>\n",
       "      <th>Name</th>\n",
       "      <th>Rulebook_Text</th>\n",
       "    </tr>\n",
       "  </thead>\n",
       "  <tbody>\n",
       "    <tr>\n",
       "      <th>0</th>\n",
       "      <td>1001: Hezar o Yek Sab Règle</td>\n",
       "      <td>NaN</td>\n",
       "    </tr>\n",
       "    <tr>\n",
       "      <th>1</th>\n",
       "      <td>1001 Islands</td>\n",
       "      <td>Game Designers:\\nGGaammee ccoonntteennttss\\nAn...</td>\n",
       "    </tr>\n",
       "    <tr>\n",
       "      <th>2</th>\n",
       "      <td>10′ to Kill Rulebook</td>\n",
       "      <td>components Goal\\nIn 10 minutes to kill, you ar...</td>\n",
       "    </tr>\n",
       "    <tr>\n",
       "      <th>3</th>\n",
       "      <td>123 Go ! Règle Multilingue</td>\n",
       "      <td>No new trees were felled to create this produc...</td>\n",
       "    </tr>\n",
       "    <tr>\n",
       "      <th>4</th>\n",
       "      <td>123 Puzzle Rulebook</td>\n",
       "      <td>The material contained in the package is usefu...</td>\n",
       "    </tr>\n",
       "  </tbody>\n",
       "</table>\n",
       "</div>"
      ],
      "text/plain": [
       "                          Name  \\\n",
       "0  1001: Hezar o Yek Sab Règle   \n",
       "1                 1001 Islands   \n",
       "2         10′ to Kill Rulebook   \n",
       "3   123 Go ! Règle Multilingue   \n",
       "4          123 Puzzle Rulebook   \n",
       "\n",
       "                                       Rulebook_Text  \n",
       "0                                                NaN  \n",
       "1  Game Designers:\\nGGaammee ccoonntteennttss\\nAn...  \n",
       "2  components Goal\\nIn 10 minutes to kill, you ar...  \n",
       "3  No new trees were felled to create this produc...  \n",
       "4  The material contained in the package is usefu...  "
      ]
     },
     "execution_count": 2,
     "metadata": {},
     "output_type": "execute_result"
    }
   ],
   "source": [
    "rulebook_data_original = pd.read_csv('boardgames_with_rulebooks.csv')\n",
    "print('Numebr of rows:', len(rulebook_data_original))\n",
    "rulebook_data_original.head()"
   ]
  },
  {
   "cell_type": "code",
   "execution_count": 3,
   "metadata": {},
   "outputs": [
    {
     "name": "stdout",
     "output_type": "stream",
     "text": [
      "<class 'pandas.core.frame.DataFrame'>\n",
      "RangeIndex: 4727 entries, 0 to 4726\n",
      "Data columns (total 2 columns):\n",
      " #   Column         Non-Null Count  Dtype \n",
      "---  ------         --------------  ----- \n",
      " 0   Name           4727 non-null   object\n",
      " 1   Rulebook_Text  4196 non-null   object\n",
      "dtypes: object(2)\n",
      "memory usage: 74.0+ KB\n"
     ]
    }
   ],
   "source": [
    "rulebook_data_original.info()"
   ]
  },
  {
   "cell_type": "markdown",
   "metadata": {},
   "source": [
    "## 1.2 Data Preparation"
   ]
  },
  {
   "cell_type": "code",
   "execution_count": 4,
   "metadata": {},
   "outputs": [
    {
     "name": "stdout",
     "output_type": "stream",
     "text": [
      "Numebr of null: 531\n",
      "Number of rows after removing nulls: 4196\n",
      "Number of rows after removing short texts: 4152\n"
     ]
    },
    {
     "data": {
      "text/html": [
       "<div>\n",
       "<style scoped>\n",
       "    .dataframe tbody tr th:only-of-type {\n",
       "        vertical-align: middle;\n",
       "    }\n",
       "\n",
       "    .dataframe tbody tr th {\n",
       "        vertical-align: top;\n",
       "    }\n",
       "\n",
       "    .dataframe thead th {\n",
       "        text-align: right;\n",
       "    }\n",
       "</style>\n",
       "<table border=\"1\" class=\"dataframe\">\n",
       "  <thead>\n",
       "    <tr style=\"text-align: right;\">\n",
       "      <th></th>\n",
       "      <th>Name</th>\n",
       "      <th>Rulebook_Text</th>\n",
       "    </tr>\n",
       "  </thead>\n",
       "  <tbody>\n",
       "    <tr>\n",
       "      <th>1</th>\n",
       "      <td>1001 Islands</td>\n",
       "      <td>Game Designers:\\nGGaammee ccoonntteennttss\\nAn...</td>\n",
       "    </tr>\n",
       "    <tr>\n",
       "      <th>2</th>\n",
       "      <td>10′ to Kill Rulebook</td>\n",
       "      <td>components Goal\\nIn 10 minutes to kill, you ar...</td>\n",
       "    </tr>\n",
       "    <tr>\n",
       "      <th>3</th>\n",
       "      <td>123 Go ! Règle Multilingue</td>\n",
       "      <td>No new trees were felled to create this produc...</td>\n",
       "    </tr>\n",
       "    <tr>\n",
       "      <th>4</th>\n",
       "      <td>123 Puzzle Rulebook</td>\n",
       "      <td>The material contained in the package is usefu...</td>\n",
       "    </tr>\n",
       "    <tr>\n",
       "      <th>5</th>\n",
       "      <td>1, 2, 3… Trésor à Bâbord Règle</td>\n",
       "      <td>Spielanleitung · Instructions · Règle du jeu\\n...</td>\n",
       "    </tr>\n",
       "  </tbody>\n",
       "</table>\n",
       "</div>"
      ],
      "text/plain": [
       "                             Name  \\\n",
       "1                    1001 Islands   \n",
       "2            10′ to Kill Rulebook   \n",
       "3      123 Go ! Règle Multilingue   \n",
       "4             123 Puzzle Rulebook   \n",
       "5  1, 2, 3… Trésor à Bâbord Règle   \n",
       "\n",
       "                                       Rulebook_Text  \n",
       "1  Game Designers:\\nGGaammee ccoonntteennttss\\nAn...  \n",
       "2  components Goal\\nIn 10 minutes to kill, you ar...  \n",
       "3  No new trees were felled to create this produc...  \n",
       "4  The material contained in the package is usefu...  \n",
       "5  Spielanleitung · Instructions · Règle du jeu\\n...  "
      ]
     },
     "execution_count": 4,
     "metadata": {},
     "output_type": "execute_result"
    }
   ],
   "source": [
    "# remove null values\n",
    "null = rulebook_data_original['Rulebook_Text'].isnull().sum()\n",
    "print('Numebr of null:', null)\n",
    "rulebook_data_no_null = rulebook_data_original.dropna()\n",
    "print('Number of rows after removing nulls:', len(rulebook_data_no_null))\n",
    "\n",
    "# remove rows where 'Rulebook_Text' has fewer than 30 words\n",
    "rulebook_data_no_null = rulebook_data_no_null[rulebook_data_no_null['Rulebook_Text'].str.split().str.len() >= 30]\n",
    "print('Number of rows after removing short texts:', len(rulebook_data_no_null))\n",
    "\n",
    "rulebook_data_no_null.head()"
   ]
  },
  {
   "cell_type": "markdown",
   "metadata": {},
   "source": [
    "## 1.3 Data Cleaning"
   ]
  },
  {
   "cell_type": "code",
   "execution_count": 5,
   "metadata": {},
   "outputs": [
    {
     "name": "stdout",
     "output_type": "stream",
     "text": [
      "Number of rows before language filtering: 4152\n",
      "Number of rows after removing non-english rows: 2709\n"
     ]
    }
   ],
   "source": [
    "# Load pre-trained language model\n",
    "model = fasttext.load_model('lid.176.ftz')\n",
    "\n",
    "def is_english_fasttext(text):\n",
    "    # ensure text is processed as a single line\n",
    "    text = text.replace('\\n', ' ').strip()\n",
    "    prediction = model.predict(text)\n",
    "    lang, confidence = prediction[0][0], prediction[1][0]\n",
    "    return lang == '__label__en' and confidence > 0.8\n",
    "\n",
    "print('Number of rows before language filtering:', len(rulebook_data_no_null))\n",
    "rulebook_data_no_null = rulebook_data_no_null[\n",
    "    rulebook_data_no_null['Rulebook_Text'].apply(is_english_fasttext)]\n",
    "print('Number of rows after removing non-english rows:', len(rulebook_data_no_null))"
   ]
  },
  {
   "cell_type": "code",
   "execution_count": 6,
   "metadata": {},
   "outputs": [],
   "source": [
    "# set up valid and artifact words\n",
    "all_words = \" \".join(rulebook_data_no_null['Rulebook_Text']).split()\n",
    "valid_words = set([word for word, count in Counter(all_words).items() if count > 1])\n",
    "artifact_words = ['cid', 'n', 'e', 'player', 'game', 'action', 'token', 'card', 'place', 'turn', 'may', 'one', 'tile', 'point', 'board', 'space']"
   ]
  },
  {
   "cell_type": "code",
   "execution_count": 7,
   "metadata": {},
   "outputs": [],
   "source": [
    "# Set up lemmatizer and stopwords\n",
    "stop_words = set(stopwords.words(\"english\"))\n",
    "lemmatizer = WordNetLemmatizer()"
   ]
  },
  {
   "cell_type": "code",
   "execution_count": 8,
   "metadata": {},
   "outputs": [
    {
     "name": "stdout",
     "output_type": "stream",
     "text": [
      "Number of rows before cleaning: 2709\n",
      "Number of rows after cleaning: 2709\n"
     ]
    },
    {
     "data": {
      "text/html": [
       "<div>\n",
       "<style scoped>\n",
       "    .dataframe tbody tr th:only-of-type {\n",
       "        vertical-align: middle;\n",
       "    }\n",
       "\n",
       "    .dataframe tbody tr th {\n",
       "        vertical-align: top;\n",
       "    }\n",
       "\n",
       "    .dataframe thead th {\n",
       "        text-align: right;\n",
       "    }\n",
       "</style>\n",
       "<table border=\"1\" class=\"dataframe\">\n",
       "  <thead>\n",
       "    <tr style=\"text-align: right;\">\n",
       "      <th></th>\n",
       "      <th>Name</th>\n",
       "      <th>Rulebook_Text</th>\n",
       "      <th>clean_rulebook</th>\n",
       "    </tr>\n",
       "  </thead>\n",
       "  <tbody>\n",
       "    <tr>\n",
       "      <th>1</th>\n",
       "      <td>1001 Islands</td>\n",
       "      <td>Game Designers:\\nGGaammee ccoonntteennttss\\nAn...</td>\n",
       "      <td>designer contents bauza bruno cathala artist c...</td>\n",
       "    </tr>\n",
       "    <tr>\n",
       "      <th>2</th>\n",
       "      <td>10′ to Kill Rulebook</td>\n",
       "      <td>components Goal\\nIn 10 minutes to kill, you ar...</td>\n",
       "      <td>component goal minute kil hitman goal kil targ...</td>\n",
       "    </tr>\n",
       "    <tr>\n",
       "      <th>4</th>\n",
       "      <td>123 Puzzle Rulebook</td>\n",
       "      <td>The material contained in the package is usefu...</td>\n",
       "      <td>material contained package useful familiarizin...</td>\n",
       "    </tr>\n",
       "    <tr>\n",
       "      <th>6</th>\n",
       "      <td>12 Gangsters Rulebook</td>\n",
       "      <td>Your gangster wants to steal the same amount a...</td>\n",
       "      <td>gangster want steal amount bos gangster sucesf...</td>\n",
       "    </tr>\n",
       "    <tr>\n",
       "      <th>7</th>\n",
       "      <td>13 Clues Rulebook</td>\n",
       "      <td>For 2-6 players, ages 8 and up\\nLondon, 1899: ...</td>\n",
       "      <td>age london city shaken heinous crime solution ...</td>\n",
       "    </tr>\n",
       "    <tr>\n",
       "      <th>...</th>\n",
       "      <td>...</td>\n",
       "      <td>...</td>\n",
       "      <td>...</td>\n",
       "    </tr>\n",
       "    <tr>\n",
       "      <th>4720</th>\n",
       "      <td>Zone-A: Le Secret de Tchernobyl Rulebook</td>\n",
       "      <td>I NST RUCT IONS\\nINTRODUCTION\\nGAMEPLAY\\nDETAI...</td>\n",
       "      <td>nst ion introduction gameplay detailed tragic ...</td>\n",
       "    </tr>\n",
       "    <tr>\n",
       "      <th>4721</th>\n",
       "      <td>Zooloretto Junior Rulebook</td>\n",
       "      <td>GAME SET-UP\\n• With 3 players, remove the anim...</td>\n",
       "      <td>setup remove animal ofspring two kind animal r...</td>\n",
       "    </tr>\n",
       "    <tr>\n",
       "      <th>4722</th>\n",
       "      <td>Zooloretto Rulebook</td>\n",
       "      <td>For 2 to 5 players ages 8 and up\\nOVERVIEW\\nEa...</td>\n",
       "      <td>age overview zo owner score atracting many vis...</td>\n",
       "    </tr>\n",
       "    <tr>\n",
       "      <th>4723</th>\n",
       "      <td>Zooloretto: The Dice Game Rulebook</td>\n",
       "      <td>Game end\\nShould one player, after passing, ha...</td>\n",
       "      <td>end pasing either filed enclosure left single ...</td>\n",
       "    </tr>\n",
       "    <tr>\n",
       "      <th>4725</th>\n",
       "      <td>Zoowaboo Rulebook</td>\n",
       "      <td>Carlo\\nA. Rossi\\nCarlo A. Rossi was born in 19...</td>\n",
       "      <td>born life girlfriend town northern italy work ...</td>\n",
       "    </tr>\n",
       "  </tbody>\n",
       "</table>\n",
       "<p>2709 rows × 3 columns</p>\n",
       "</div>"
      ],
      "text/plain": [
       "                                          Name  \\\n",
       "1                                 1001 Islands   \n",
       "2                         10′ to Kill Rulebook   \n",
       "4                          123 Puzzle Rulebook   \n",
       "6                        12 Gangsters Rulebook   \n",
       "7                            13 Clues Rulebook   \n",
       "...                                        ...   \n",
       "4720  Zone-A: Le Secret de Tchernobyl Rulebook   \n",
       "4721                Zooloretto Junior Rulebook   \n",
       "4722                       Zooloretto Rulebook   \n",
       "4723        Zooloretto: The Dice Game Rulebook   \n",
       "4725                         Zoowaboo Rulebook   \n",
       "\n",
       "                                          Rulebook_Text  \\\n",
       "1     Game Designers:\\nGGaammee ccoonntteennttss\\nAn...   \n",
       "2     components Goal\\nIn 10 minutes to kill, you ar...   \n",
       "4     The material contained in the package is usefu...   \n",
       "6     Your gangster wants to steal the same amount a...   \n",
       "7     For 2-6 players, ages 8 and up\\nLondon, 1899: ...   \n",
       "...                                                 ...   \n",
       "4720  I NST RUCT IONS\\nINTRODUCTION\\nGAMEPLAY\\nDETAI...   \n",
       "4721  GAME SET-UP\\n• With 3 players, remove the anim...   \n",
       "4722  For 2 to 5 players ages 8 and up\\nOVERVIEW\\nEa...   \n",
       "4723  Game end\\nShould one player, after passing, ha...   \n",
       "4725  Carlo\\nA. Rossi\\nCarlo A. Rossi was born in 19...   \n",
       "\n",
       "                                         clean_rulebook  \n",
       "1     designer contents bauza bruno cathala artist c...  \n",
       "2     component goal minute kil hitman goal kil targ...  \n",
       "4     material contained package useful familiarizin...  \n",
       "6     gangster want steal amount bos gangster sucesf...  \n",
       "7     age london city shaken heinous crime solution ...  \n",
       "...                                                 ...  \n",
       "4720  nst ion introduction gameplay detailed tragic ...  \n",
       "4721  setup remove animal ofspring two kind animal r...  \n",
       "4722  age overview zo owner score atracting many vis...  \n",
       "4723  end pasing either filed enclosure left single ...  \n",
       "4725  born life girlfriend town northern italy work ...  \n",
       "\n",
       "[2709 rows x 3 columns]"
      ]
     },
     "execution_count": 8,
     "metadata": {},
     "output_type": "execute_result"
    }
   ],
   "source": [
    "print('Number of rows before cleaning:', len(rulebook_data_no_null))\n",
    "rulebook_data_cleaned = rulebook_data_no_null.copy()\n",
    "\n",
    "# Cleaning the text\n",
    "rulebook_data_cleaned['clean_rulebook'] = rulebook_data_cleaned.Rulebook_Text.apply(lambda x: clean_text_rulebooks(x,lemmatizer,stop_words,valid_words,artifact_words))\n",
    "print('Number of rows after cleaning:', len(rulebook_data_cleaned))\n",
    "rulebook_data_cleaned"
   ]
  },
  {
   "cell_type": "code",
   "execution_count": 6,
   "metadata": {},
   "outputs": [
    {
     "name": "stdout",
     "output_type": "stream",
     "text": [
      "Number of rows: 2709\n"
     ]
    },
    {
     "data": {
      "text/html": [
       "<div>\n",
       "<style scoped>\n",
       "    .dataframe tbody tr th:only-of-type {\n",
       "        vertical-align: middle;\n",
       "    }\n",
       "\n",
       "    .dataframe tbody tr th {\n",
       "        vertical-align: top;\n",
       "    }\n",
       "\n",
       "    .dataframe thead th {\n",
       "        text-align: right;\n",
       "    }\n",
       "</style>\n",
       "<table border=\"1\" class=\"dataframe\">\n",
       "  <thead>\n",
       "    <tr style=\"text-align: right;\">\n",
       "      <th></th>\n",
       "      <th>Name</th>\n",
       "      <th>Rulebook_Text</th>\n",
       "      <th>clean_rulebook</th>\n",
       "    </tr>\n",
       "  </thead>\n",
       "  <tbody>\n",
       "    <tr>\n",
       "      <th>0</th>\n",
       "      <td>1001 Islands</td>\n",
       "      <td>Game Designers:\\nGGaammee ccoonntteennttss\\nAn...</td>\n",
       "      <td>designer contents bauza bruno cathala artist c...</td>\n",
       "    </tr>\n",
       "    <tr>\n",
       "      <th>1</th>\n",
       "      <td>10′ to Kill Rulebook</td>\n",
       "      <td>components Goal\\nIn 10 minutes to kill, you ar...</td>\n",
       "      <td>component goal minute kil hitman goal kil targ...</td>\n",
       "    </tr>\n",
       "    <tr>\n",
       "      <th>2</th>\n",
       "      <td>123 Puzzle Rulebook</td>\n",
       "      <td>The material contained in the package is usefu...</td>\n",
       "      <td>material contained package useful familiarizin...</td>\n",
       "    </tr>\n",
       "    <tr>\n",
       "      <th>3</th>\n",
       "      <td>12 Gangsters Rulebook</td>\n",
       "      <td>Your gangster wants to steal the same amount a...</td>\n",
       "      <td>gangster want steal amount bos gangster sucesf...</td>\n",
       "    </tr>\n",
       "    <tr>\n",
       "      <th>4</th>\n",
       "      <td>13 Clues Rulebook</td>\n",
       "      <td>For 2-6 players, ages 8 and up\\nLondon, 1899: ...</td>\n",
       "      <td>age london city shaken heinous crime solution ...</td>\n",
       "    </tr>\n",
       "  </tbody>\n",
       "</table>\n",
       "</div>"
      ],
      "text/plain": [
       "                    Name                                      Rulebook_Text  \\\n",
       "0           1001 Islands  Game Designers:\\nGGaammee ccoonntteennttss\\nAn...   \n",
       "1   10′ to Kill Rulebook  components Goal\\nIn 10 minutes to kill, you ar...   \n",
       "2    123 Puzzle Rulebook  The material contained in the package is usefu...   \n",
       "3  12 Gangsters Rulebook  Your gangster wants to steal the same amount a...   \n",
       "4      13 Clues Rulebook  For 2-6 players, ages 8 and up\\nLondon, 1899: ...   \n",
       "\n",
       "                                      clean_rulebook  \n",
       "0  designer contents bauza bruno cathala artist c...  \n",
       "1  component goal minute kil hitman goal kil targ...  \n",
       "2  material contained package useful familiarizin...  \n",
       "3  gangster want steal amount bos gangster sucesf...  \n",
       "4  age london city shaken heinous crime solution ...  "
      ]
     },
     "execution_count": 6,
     "metadata": {},
     "output_type": "execute_result"
    }
   ],
   "source": [
    "#rulebook_data_cleaned.to_excel('rulebook_data_cleaned.xlsx', index=False)\n",
    "rulebook_data_cleaned = pd.read_excel('rulebook_data_cleaned.xlsx')\n",
    "print('Number of rows:', len(rulebook_data_cleaned))\n",
    "rulebook_data_cleaned.head()"
   ]
  },
  {
   "cell_type": "markdown",
   "metadata": {},
   "source": [
    "# 2. Topic Modelling"
   ]
  },
  {
   "cell_type": "markdown",
   "metadata": {},
   "source": [
    "## 2.1 Sentence Embeddings and K-Means Clustering"
   ]
  },
  {
   "cell_type": "code",
   "execution_count": 10,
   "metadata": {},
   "outputs": [
    {
     "name": "stdout",
     "output_type": "stream",
     "text": [
      "Cluster 0:\n",
      "1      designer contents bauza bruno cathala artist c...\n",
      "75     content setup midle table shufle exploration f...\n",
      "135    lim dig site island began simple map said lead...\n",
      "177    folow lead famous navigator discoverer new lan...\n",
      "286    around world content rule year min content tra...\n",
      "Name: clean_rulebook, dtype: object\n",
      "Cluster 1:\n",
      "14    new component overview puting dice dice used p...\n",
      "16    sumer frantic race reach south pole first tok ...\n",
      "24    age duration minute piece number intermediate ...\n",
      "38    tricky shape search age familiar use either si...\n",
      "39    overview special example played low playing ca...\n",
      "Name: clean_rulebook, dtype: object\n",
      "Cluster 2:\n",
      "17    minute year old botleger acquired establishmen...\n",
      "53    bauza give lever stand move earth content wond...\n",
      "57    great wal special rule stage great wal built o...\n",
      "58    adventurous race around world inspired diary e...\n",
      "99    important make sure take joker asistant played...\n",
      "Name: clean_rulebook, dtype: object\n",
      "Cluster 3:\n",
      "4     material contained package useful familiarizin...\n",
      "31    original loto give child hour skil fun playing...\n",
      "71    rule last vilage ransacked barbarian barely ti...\n",
      "93    fake artist go new chip piece includes color p...\n",
      "97    for to years of the alpine cow strol meadow va...\n",
      "Name: clean_rulebook, dtype: object\n",
      "Cluster 4:\n",
      "2     component goal minute kil hitman goal kil targ...\n",
      "6     gangster want steal amount bos gangster sucesf...\n",
      "7     age london city shaken heinous crime solution ...\n",
      "22    component list cybernetic tat site asi site ga...\n",
      "23    time run detective corectly guesed elusive cha...\n",
      "Name: clean_rulebook, dtype: object\n",
      "Cluster 5:\n",
      "74    depest reach kingdom abys guild smugler taken ...\n",
      "83    world savage chaos five combatant locked insid...\n",
      "85    helper ap download fre bonus ap version advent...\n",
      "88    exciting strategy adventurer age michael adven...\n",
      "89    basic rule basic rule version released novembe...\n",
      "Name: clean_rulebook, dtype: object\n",
      "Cluster 6:\n",
      "8     jue inl dean secretary state sam day misile cr...\n",
      "11    rule bok version chose faction french choses f...\n",
      "12    rule scenario bok version militia chose factio...\n",
      "13    invasion year war raging acros europe emperor ...\n",
      "18    race take role chief staf quartermaster thre m...\n",
      "Name: clean_rulebook, dtype: object\n",
      "Cluster 7:\n",
      "29    four god gathered create new world despite ini...\n",
      "35    rulebok worker location leader contact base vi...\n",
      "36    rulebok introduction united state lay ruin bur...\n",
      "45    bauza would move world first move content nava...\n",
      "48    bauza rule wisdom begin wonder content princip...\n",
      "Name: clean_rulebook, dtype: object\n",
      "Cluster 8:\n",
      "Series([], Name: clean_rulebook, dtype: object)\n",
      "Cluster 9:\n",
      "Series([], Name: clean_rulebook, dtype: object)\n"
     ]
    }
   ],
   "source": [
    "# Generate embeddings\n",
    "model = SentenceTransformer(\"all-MiniLM-L6-v2\")  # or other pre-trained models\n",
    "embeddings = model.encode(rulebook_data_cleaned[\"clean_rulebook\"].tolist())\n",
    "\n",
    "# Cluster embeddings\n",
    "kmeans = KMeans(n_clusters=8, random_state=42)\n",
    "labels = kmeans.fit_predict(embeddings)\n",
    "\n",
    "# Assign clusters to rulebooks\n",
    "rulebook_data_cleaned[\"Cluster\"] = labels\n",
    "\n",
    "# Print representative texts for each cluster\n",
    "for cluster in range(10):\n",
    "    print(f\"Cluster {cluster}:\")\n",
    "    print(rulebook_data_cleaned[rulebook_data_cleaned[\"Cluster\"] == cluster][\"clean_rulebook\"].head(5))"
   ]
  },
  {
   "cell_type": "markdown",
   "metadata": {},
   "source": [
    "## 2.2 Non-Negative Matrix Factorization (NMF)"
   ]
  },
  {
   "cell_type": "code",
   "execution_count": 11,
   "metadata": {},
   "outputs": [
    {
     "name": "stdout",
     "output_type": "stream",
     "text": [
      "Topic 0: ['end', 'discard', 'score', 'draw', 'pile', 'hand', 'deck', 'round', 'play', 'character']\n",
      "Topic 1: ['efect', 'overlord', 'campaign', 'damage', 'scenario', 'atack', 'encounter', 'enemy', 'quest', 'hero']\n",
      "Topic 2: ['infantry', 'terain', 'comand', 'combat', 'enemy', 'army', 'atack', 'batle', 'hex', 'unit']\n",
      "Topic 3: ['gain', 'track', 'victory', 'build', 'marker', 'coin', 'city', 'resource', 'worker', 'building']\n",
      "Topic 4: ['equipment', 'weapon', 'zombicide', 'mision', 'dor', 'spawn', 'objective', 'zone', 'survivor', 'zombie']\n",
      "Topic 5: ['atack', 'treasure', 'rom', 'level', 'combat', 'item', 'munchkin', 'dungeon', 'investigator', 'monster']\n",
      "Topic 6: ['roled', 'value', 'field', 'color', 'property', 'round', 'number', 'rol', 'die', 'dice']\n",
      "Topic 7: ['port', 'flet', 'sea', 'planet', 'captain', 'crew', 'treasure', 'island', 'pirate', 'ship']\n"
     ]
    }
   ],
   "source": [
    "# Convert text data to TF-IDF matrix\n",
    "vectorizer = TfidfVectorizer(max_features=5000, stop_words=\"english\")\n",
    "tfidf_matrix = vectorizer.fit_transform(rulebook_data_cleaned[\"clean_rulebook\"])\n",
    "\n",
    "# Apply NMF\n",
    "nmf_model = NMF(n_components=8, random_state=13)  # Set n_components to desired number of topics\n",
    "W = nmf_model.fit_transform(tfidf_matrix)\n",
    "H = nmf_model.components_\n",
    "\n",
    "# Print top words per topic\n",
    "words = vectorizer.get_feature_names_out()\n",
    "for i, topic in enumerate(H):\n",
    "    print(f\"Topic {i}: {[words[j] for j in topic.argsort()[-10:]]}\")"
   ]
  },
  {
   "cell_type": "markdown",
   "metadata": {},
   "source": [
    "## 2.3 Latent Dirichlet Allocation (LDA)"
   ]
  },
  {
   "cell_type": "code",
   "execution_count": 10,
   "metadata": {},
   "outputs": [
    {
     "name": "stderr",
     "output_type": "stream",
     "text": [
      "100%|██████████| 2709/2709 [00:00<00:00, 5167.56it/s]\n"
     ]
    },
    {
     "data": {
      "text/html": [
       "<div>\n",
       "<style scoped>\n",
       "    .dataframe tbody tr th:only-of-type {\n",
       "        vertical-align: middle;\n",
       "    }\n",
       "\n",
       "    .dataframe tbody tr th {\n",
       "        vertical-align: top;\n",
       "    }\n",
       "\n",
       "    .dataframe thead th {\n",
       "        text-align: right;\n",
       "    }\n",
       "</style>\n",
       "<table border=\"1\" class=\"dataframe\">\n",
       "  <thead>\n",
       "    <tr style=\"text-align: right;\">\n",
       "      <th></th>\n",
       "      <th>Name</th>\n",
       "      <th>Rulebook_Text</th>\n",
       "      <th>clean_rulebook</th>\n",
       "      <th>token_rulebook</th>\n",
       "    </tr>\n",
       "  </thead>\n",
       "  <tbody>\n",
       "    <tr>\n",
       "      <th>0</th>\n",
       "      <td>1001 Islands</td>\n",
       "      <td>Game Designers:\\nGGaammee ccoonntteennttss\\nAn...</td>\n",
       "      <td>designer contents bauza bruno cathala artist c...</td>\n",
       "      <td>[designer, contents, bauza, bruno, cathala, ar...</td>\n",
       "    </tr>\n",
       "    <tr>\n",
       "      <th>1</th>\n",
       "      <td>10′ to Kill Rulebook</td>\n",
       "      <td>components Goal\\nIn 10 minutes to kill, you ar...</td>\n",
       "      <td>component goal minute kil hitman goal kil targ...</td>\n",
       "      <td>[component, goal, minute, kil, hitman, goal, k...</td>\n",
       "    </tr>\n",
       "    <tr>\n",
       "      <th>2</th>\n",
       "      <td>123 Puzzle Rulebook</td>\n",
       "      <td>The material contained in the package is usefu...</td>\n",
       "      <td>material contained package useful familiarizin...</td>\n",
       "      <td>[material, contained, package, useful, familia...</td>\n",
       "    </tr>\n",
       "    <tr>\n",
       "      <th>3</th>\n",
       "      <td>12 Gangsters Rulebook</td>\n",
       "      <td>Your gangster wants to steal the same amount a...</td>\n",
       "      <td>gangster want steal amount bos gangster sucesf...</td>\n",
       "      <td>[gangster, want, steal, amount, bos, gangster,...</td>\n",
       "    </tr>\n",
       "    <tr>\n",
       "      <th>4</th>\n",
       "      <td>13 Clues Rulebook</td>\n",
       "      <td>For 2-6 players, ages 8 and up\\nLondon, 1899: ...</td>\n",
       "      <td>age london city shaken heinous crime solution ...</td>\n",
       "      <td>[age, london, city, shaken, heinous, crime, so...</td>\n",
       "    </tr>\n",
       "  </tbody>\n",
       "</table>\n",
       "</div>"
      ],
      "text/plain": [
       "                    Name                                      Rulebook_Text  \\\n",
       "0           1001 Islands  Game Designers:\\nGGaammee ccoonntteennttss\\nAn...   \n",
       "1   10′ to Kill Rulebook  components Goal\\nIn 10 minutes to kill, you ar...   \n",
       "2    123 Puzzle Rulebook  The material contained in the package is usefu...   \n",
       "3  12 Gangsters Rulebook  Your gangster wants to steal the same amount a...   \n",
       "4      13 Clues Rulebook  For 2-6 players, ages 8 and up\\nLondon, 1899: ...   \n",
       "\n",
       "                                      clean_rulebook  \\\n",
       "0  designer contents bauza bruno cathala artist c...   \n",
       "1  component goal minute kil hitman goal kil targ...   \n",
       "2  material contained package useful familiarizin...   \n",
       "3  gangster want steal amount bos gangster sucesf...   \n",
       "4  age london city shaken heinous crime solution ...   \n",
       "\n",
       "                                      token_rulebook  \n",
       "0  [designer, contents, bauza, bruno, cathala, ar...  \n",
       "1  [component, goal, minute, kil, hitman, goal, k...  \n",
       "2  [material, contained, package, useful, familia...  \n",
       "3  [gangster, want, steal, amount, bos, gangster,...  \n",
       "4  [age, london, city, shaken, heinous, crime, so...  "
      ]
     },
     "execution_count": 10,
     "metadata": {},
     "output_type": "execute_result"
    }
   ],
   "source": [
    "# Tokenize the text\n",
    "rulebook_data_cleaned['token_rulebook'] = rulebook_data_cleaned['clean_rulebook'].progress_map(word_tokenizer)\n",
    "rulebook_data_cleaned.head()"
   ]
  },
  {
   "cell_type": "code",
   "execution_count": 11,
   "metadata": {},
   "outputs": [
    {
     "name": "stdout",
     "output_type": "stream",
     "text": [
      "The length of the list of words is: 2709\n"
     ]
    }
   ],
   "source": [
    "# Getting the length of the list of words\n",
    "data_words = rulebook_data_cleaned['token_rulebook'].values.tolist()\n",
    "len_data_words = len(data_words)\n",
    "print(\"The length of the list of words is:\", len_data_words)"
   ]
  },
  {
   "cell_type": "code",
   "execution_count": 12,
   "metadata": {},
   "outputs": [
    {
     "name": "stdout",
     "output_type": "stream",
     "text": [
      "[(0, 7), (1, 2), (2, 2), (3, 1), (4, 1), (5, 1), (6, 2), (7, 1), (8, 1), (9, 2), (10, 2), (11, 1), (12, 2), (13, 1), (14, 3), (15, 9), (16, 2), (17, 2), (18, 2), (19, 1), (20, 1), (21, 1), (22, 2), (23, 6), (24, 1), (25, 2), (26, 1), (27, 1), (28, 1), (29, 1)]\n"
     ]
    }
   ],
   "source": [
    "# Create dictionary where each unique word in 'data_words' is assigned a unique numeric ID\n",
    "id2word = corpora.Dictionary(data_words)\n",
    "# Create Corpus\n",
    "texts = data_words\n",
    "# Term Document Frequency\n",
    "corpus = [id2word.doc2bow(text) for text in texts]\n",
    "print(corpus[:1][0][:30])"
   ]
  },
  {
   "cell_type": "code",
   "execution_count": 13,
   "metadata": {},
   "outputs": [
    {
     "name": "stdout",
     "output_type": "stream",
     "text": [
      "[(0,\n",
      "  '0.006*\"move\" + 0.006*\"must\" + 0.005*\"hero\" + 0.005*\"rule\" + 0.005*\"first\" + '\n",
      "  '0.005*\"play\" + 0.005*\"end\" + 0.005*\"new\" + 0.005*\"monster\" + 0.005*\"take\"'),\n",
      " (1,\n",
      "  '0.009*\"play\" + 0.007*\"building\" + 0.007*\"round\" + 0.006*\"end\" + '\n",
      "  '0.006*\"must\" + 0.006*\"take\" + 0.006*\"move\" + 0.005*\"first\" + 0.005*\"number\" '\n",
      "  '+ 0.005*\"two\"'),\n",
      " (2,\n",
      "  '0.008*\"unit\" + 0.007*\"must\" + 0.006*\"character\" + 0.006*\"play\" + '\n",
      "  '0.006*\"number\" + 0.006*\"take\" + 0.005*\"deck\" + 0.005*\"monster\" + '\n",
      "  '0.005*\"first\" + 0.005*\"use\"'),\n",
      " (3,\n",
      "  '0.008*\"move\" + 0.006*\"take\" + 0.006*\"must\" + 0.006*\"round\" + 0.006*\"number\" '\n",
      "  '+ 0.005*\"play\" + 0.005*\"dice\" + 0.005*\"use\" + 0.005*\"two\" + 0.005*\"deck\"'),\n",
      " (4,\n",
      "  '0.007*\"take\" + 0.007*\"end\" + 0.007*\"play\" + 0.006*\"must\" + 0.006*\"deck\" + '\n",
      "  '0.005*\"draw\" + 0.005*\"number\" + 0.005*\"efect\" + 0.005*\"move\" + '\n",
      "  '0.005*\"marker\"'),\n",
      " (5,\n",
      "  '0.008*\"round\" + 0.007*\"take\" + 0.006*\"play\" + 0.006*\"phase\" + 0.006*\"first\" '\n",
      "  '+ 0.006*\"move\" + 0.006*\"end\" + 0.006*\"number\" + 0.005*\"must\" + 0.005*\"two\"'),\n",
      " (6,\n",
      "  '0.008*\"take\" + 0.008*\"move\" + 0.007*\"end\" + 0.006*\"round\" + 0.006*\"number\" '\n",
      "  '+ 0.006*\"phase\" + 0.006*\"must\" + 0.005*\"ship\" + 0.005*\"die\" + '\n",
      "  '0.005*\"character\"'),\n",
      " (7,\n",
      "  '0.009*\"hero\" + 0.007*\"take\" + 0.006*\"move\" + 0.006*\"must\" + 0.005*\"play\" + '\n",
      "  '0.005*\"gain\" + 0.005*\"use\" + 0.005*\"end\" + 0.005*\"efect\" + 0.005*\"first\"')]\n"
     ]
    }
   ],
   "source": [
    "num_topics = 8\n",
    "\n",
    "# Build LDA model\n",
    "lda_model = LdaMulticore(corpus=corpus, id2word=id2word, num_topics=num_topics, iterations=400, random_state=42)\n",
    "\n",
    "# Print the keyword in the topics\n",
    "pprint(lda_model.print_topics())\n",
    "doc_lda = lda_model[corpus]"
   ]
  },
  {
   "cell_type": "code",
   "execution_count": 14,
   "metadata": {},
   "outputs": [
    {
     "data": {
      "text/html": [
       "\n",
       "<link rel=\"stylesheet\" type=\"text/css\" href=\"https://cdn.jsdelivr.net/gh/bmabey/pyLDAvis@3.4.0/pyLDAvis/js/ldavis.v1.0.0.css\">\n",
       "\n",
       "\n",
       "<div id=\"ldavis_el516825436040538569663666048\" style=\"background-color:white;\"></div>\n",
       "<script type=\"text/javascript\">\n",
       "\n",
       "var ldavis_el516825436040538569663666048_data = {\"mdsDat\": {\"x\": [0.0008854634992928708, -0.016754026557516354, 0.016730068231964323, 0.009757701334869867, -0.02954407487385844, -0.009302038832805599, -0.0019234074754475722, 0.030150314673500933], \"y\": [-0.006478124815745958, 0.001620436083042149, -0.007987531452172387, -0.018993195306151747, 0.014430710517811246, -0.00962273280648092, 0.003937753180809995, 0.023092684598887622], \"topics\": [1, 2, 3, 4, 5, 6, 7, 8], \"cluster\": [1, 1, 1, 1, 1, 1, 1, 1], \"Freq\": [17.84894653837937, 17.656588158489157, 15.221615058730018, 10.557924198393987, 10.412319641229542, 10.087537979952826, 9.676174084349894, 8.53889434047519]}, \"tinfo\": {\"Term\": [\"hero\", \"building\", \"round\", \"monster\", \"move\", \"ship\", \"rom\", \"die\", \"quest\", \"enemy\", \"dice\", \"unit\", \"character\", \"property\", \"take\", \"atack\", \"teritory\", \"gold\", \"value\", \"end\", \"encounter\", \"rule\", \"area\", \"phase\", \"gain\", \"dragon\", \"next\", \"rol\", \"square\", \"hex\", \"unhalowed\", \"dauqs\", \"sesterces\", \"apnla\", \"tramway\", \"earthling\", \"sumoku\", \"cushion\", \"pimpmobile\", \"planeswalker\", \"catnip\", \"onmyo\", \"matsuri\", \"railwayman\", \"planeswalkers\", \"splaying\", \"striker\", \"gingerbread\", \"skeletum\", \"vegie\", \"groundwork\", \"tuor\", \"dogma\", \"blush\", \"mainframe\", \"cliped\", \"legislator\", \"beanometer\", \"trelis\", \"uprot\", \"tenant\", \"cutlas\", \"franchise\", \"casebok\", \"zombicide\", \"leverage\", \"apartment\", \"sylvan\", \"bean\", \"faty\", \"matchup\", \"zombie\", \"abomination\", \"toxic\", \"creature\", \"survivor\", \"zone\", \"pagoda\", \"ticket\", \"maid\", \"detective\", \"worker\", \"mision\", \"draw\", \"deck\", \"pile\", \"hand\", \"flower\", \"efect\", \"end\", \"ability\", \"city\", \"marker\", \"take\", \"value\", \"discard\", \"color\", \"objective\", \"planet\", \"time\", \"resource\", \"play\", \"must\", \"gain\", \"order\", \"blue\", \"building\", \"number\", \"two\", \"score\", \"se\", \"use\", \"first\", \"move\", \"next\", \"rule\", \"new\", \"example\", \"phase\", \"round\", \"frogrider\", \"skulk\", \"smalfolk\", \"fruticola\", \"multistep\", \"fertilizer\", \"gramed\", \"seder\", \"seashel\", \"unacesible\", \"tsv\", \"pheromone\", \"verifi\", \"ktan\", \"glir\", \"vpr\", \"orial\", \"latch\", \"plainclothes\", \"munition\", \"sortie\", \"verifies\", \"visitors\", \"yuan\", \"sandwich\", \"peach\", \"ringbearer\", \"dsv\", \"bathrom\", \"elysium\", \"pivoting\", \"petrol\", \"cu\", \"burden\", \"staging\", \"witcher\", \"swordsman\", \"mastermind\", \"saga\", \"paranoia\", \"polygon\", \"air\", \"unit\", \"rom\", \"hobit\", \"airplane\", \"guard\", \"scenario\", \"monster\", \"character\", \"intruder\", \"encounter\", \"location\", \"atack\", \"family\", \"thief\", \"ring\", \"enemy\", \"batle\", \"item\", \"level\", \"deck\", \"treasure\", \"number\", \"must\", \"canot\", \"play\", \"discard\", \"event\", \"phase\", \"movement\", \"use\", \"first\", \"take\", \"hero\", \"two\", \"rule\", \"example\", \"city\", \"end\", \"order\", \"used\", \"efect\", \"new\", \"time\", \"move\", \"draw\", \"locowed\", \"runestones\", \"jumptube\", \"shiper\", \"gavel\", \"defered\", \"rumy\", \"unmasking\", \"archeologist\", \"citizenry\", \"origami\", \"prefecture\", \"prefesion\", \"blockage\", \"prankster\", \"mower\", \"playersmaychose\", \"toadstol\", \"tretop\", \"rpu\", \"gueser\", \"aquaduct\", \"prosecutor\", \"instigator\", \"overbuilds\", \"eavesdrop\", \"unmasked\", \"repulse\", \"convertible\", \"orb\", \"branchlet\", \"excavation\", \"spawnpoint\", \"pedler\", \"schnaps\", \"windfal\", \"mythic\", \"windrose\", \"principality\", \"takeover\", \"garlic\", \"chip\", \"clan\", \"animal\", \"ridle\", \"esence\", \"werewolf\", \"kahuna\", \"placard\", \"artifact\", \"plant\", \"alien\", \"field\", \"round\", \"cube\", \"power\", \"track\", \"phase\", \"faction\", \"cost\", \"teritory\", \"area\", \"first\", \"victory\", \"marker\", \"god\", \"suply\", \"take\", \"two\", \"building\", \"play\", \"new\", \"end\", \"move\", \"number\", \"score\", \"note\", \"unit\", \"use\", \"resource\", \"must\", \"placed\", \"next\", \"example\", \"draw\", \"also\", \"hand\", \"time\", \"order\", \"se\", \"bing\", \"satrapy\", \"slamer\", \"melded\", \"gaslight\", \"turnover\", \"cordon\", \"touchdown\", \"gondolier\", \"seagras\", \"hungrily\", \"ourishing\", \"forceps\", \"dodo\", \"scrimage\", \"tumbler\", \"batlebot\", \"batlebots\", \"banderole\", \"mcpherson\", \"declaim\", \"amphora\", \"habitant\", \"stalion\", \"edilsdnal\", \"coaching\", \"dismount\", \"beckoning\", \"semaphore\", \"coronation\", \"spymaster\", \"manhatan\", \"oyster\", \"gravitic\", \"singly\", \"climber\", \"apreciation\", \"stroke\", \"pupil\", \"personel\", \"tolbox\", \"acreditation\", \"operative\", \"jack\", \"robotic\", \"hermit\", \"square\", \"goble\", \"clown\", \"ranger\", \"zoc\", \"building\", \"jungle\", \"potato\", \"robot\", \"pile\", \"block\", \"colour\", \"play\", \"team\", \"patient\", \"temple\", \"round\", \"value\", \"resource\", \"dice\", \"draw\", \"win\", \"end\", \"get\", \"next\", \"hand\", \"efect\", \"must\", \"chose\", \"victory\", \"move\", \"two\", \"take\", \"gain\", \"first\", \"time\", \"ability\", \"number\", \"special\", \"use\", \"die\", \"rule\", \"example\", \"se\", \"new\", \"character\", \"placed\", \"draconic\", \"gaping\", \"divining\", \"broker\", \"toping\", \"uxa\", \"origina\", \"foreminion\", \"deyalp\", \"quotation\", \"imagician\", \"transferable\", \"bacteria\", \"refocuses\", \"gnitnuoc\", \"tricolor\", \"imagic\", \"reteb\", \"acesories\", \"goring\", \"megabucks\", \"spael\", \"performer\", \"conquests\", \"tributary\", \"neigboring\", \"untaunted\", \"caber\", \"gored\", \"esnes\", \"imp\", \"unmortgaged\", \"ologo\", \"mortgage\", \"mortgaged\", \"vitae\", \"mega\", \"unimproved\", \"aging\", \"jail\", \"pet\", \"mortgaging\", \"property\", \"bankrupt\", \"gremlin\", \"amazon\", \"behaviour\", \"cage\", \"rent\", \"manure\", \"erehw\", \"dragon\", \"race\", \"repay\", \"bos\", \"minion\", \"banker\", \"fur\", \"monopoly\", \"ded\", \"route\", \"group\", \"tank\", \"monster\", \"investigator\", \"hero\", \"quest\", \"enemy\", \"title\", \"region\", \"bank\", \"rule\", \"encounter\", \"ability\", \"new\", \"first\", \"move\", \"must\", \"special\", \"location\", \"end\", \"play\", \"atack\", \"two\", \"level\", \"rol\", \"se\", \"draw\", \"take\", \"dice\", \"use\", \"number\", \"order\", \"placed\", \"city\", \"time\", \"deck\", \"phase\", \"character\", \"cheque\", \"hibachi\", \"invariant\", \"vril\", \"kitsune\", \"koropokuru\", \"unlinked\", \"wendigo\", \"gafitners\", \"cil\", \"spiernatdio\", \"bpye\", \"necaer\", \"guidepost\", \"concoct\", \"unfreze\", \"nazi\", \"rcountd\", \"evocation\", \"cider\", \"pane\", \"unsealed\", \"cutpurse\", \"obsidian\", \"mainmast\", \"quartz\", \"condominium\", \"diverted\", \"ilumination\", \"dispenseribus\", \"textbok\", \"fiend\", \"actioning\", \"glogo\", \"keper\", \"rig\", \"actioned\", \"squid\", \"hero\", \"herder\", \"soldat\", \"bonded\", \"constraint\", \"puzle\", \"chef\", \"receptacle\", \"quest\", \"rom\", \"fatigue\", \"beting\", \"ap\", \"spawning\", \"piece\", \"gain\", \"ingredient\", \"path\", \"overlord\", \"area\", \"reputation\", \"test\", \"camel\", \"take\", \"efect\", \"move\", \"campaign\", \"use\", \"must\", \"dice\", \"time\", \"god\", \"back\", \"next\", \"perform\", \"damage\", \"play\", \"first\", \"die\", \"face\", \"end\", \"order\", \"new\", \"number\", \"round\", \"deck\", \"two\", \"phase\", \"rule\", \"chose\", \"side\", \"placed\", \"canot\", \"building\", \"docker\", \"palafico\", \"oded\", \"befoled\", \"brewmaster\", \"sandpiper\", \"aeroplane\", \"excursion\", \"goa\", \"ibite\", \"bhpd\", \"vkp\", \"hteks\", \"heroine\", \"spiderweb\", \"activatable\", \"rowboat\", \"sock\", \"robs\", \"tabo\", \"undercover\", \"poutine\", \"sotczh\", \"preserver\", \"unfit\", \"costal\", \"xaie\", \"epsi\", \"iqdn\", \"coke\", \"exertion\", \"galantry\", \"sabertoth\", \"fotman\", \"golfer\", \"abolitionist\", \"fertility\", \"hireling\", \"pasenger\", \"keyple\", \"wildling\", \"novice\", \"basestar\", \"racer\", \"chamber\", \"ninja\", \"slave\", \"batmobile\", \"galeon\", \"skil\", \"ship\", \"move\", \"disc\", \"dice\", \"overlord\", \"setlement\", \"base\", \"page\", \"bulet\", \"round\", \"spice\", \"power\", \"order\", \"number\", \"building\", \"use\", \"survivor\", \"must\", \"suply\", \"take\", \"deck\", \"two\", \"type\", \"area\", \"rol\", \"value\", \"location\", \"track\", \"rule\", \"se\", \"play\", \"get\", \"die\", \"next\", \"efect\", \"first\", \"end\", \"new\", \"marker\", \"time\", \"character\", \"phase\", \"archaea\", \"archaeon\", \"courtrom\", \"heterodox\", \"bouquet\", \"geisha\", \"psychiatrist\", \"pigyback\", \"hydrothermal\", \"plenitude\", \"predation\", \"untranslated\", \"submits\", \"overstacking\", \"waystation\", \"harmonized\", \"milkwed\", \"gc\", \"scrapyard\", \"scutle\", \"refute\", \"aleviated\", \"doctrine\", \"electroshock\", \"customary\", \"substitue\", \"quantum\", \"cardstock\", \"iconoclast\", \"synod\", \"shepdog\", \"colonade\", \"plaster\", \"haul\", \"enmity\", \"quirk\", \"workman\", \"unicorn\", \"converter\", \"scouted\", \"pub\", \"maritime\", \"wolf\", \"aqueduct\", \"buterfly\", \"customer\", \"comando\", \"regiment\", \"stal\", \"squadron\", \"trick\", \"lira\", \"teritory\", \"ship\", \"colony\", \"bishop\", \"pyramid\", \"die\", \"comodity\", \"church\", \"gold\", \"stand\", \"market\", \"fog\", \"move\", \"fame\", \"take\", \"end\", \"counter\", \"phase\", \"character\", \"round\", \"hex\", \"row\", \"merchant\", \"atack\", \"marker\", \"number\", \"example\", \"next\", \"bonus\", \"must\", \"side\", \"color\", \"building\", \"rule\", \"enemy\", \"dice\", \"play\", \"god\", \"new\", \"first\", \"placed\", \"use\", \"two\", \"used\", \"order\"], \"Freq\": [13796.0, 15290.0, 22183.0, 11324.0, 26954.0, 10629.0, 8280.0, 11958.0, 4106.0, 8996.0, 15801.0, 16021.0, 16467.0, 1970.0, 30004.0, 13628.0, 3029.0, 7011.0, 12250.0, 25754.0, 5174.0, 17853.0, 13615.0, 19517.0, 14429.0, 2727.0, 17577.0, 10058.0, 4734.0, 5025.0, 46.069548018082905, 32.605196364414255, 34.00220963526694, 16.337662044754335, 10.702447547009381, 28.548202572590135, 16.647051457446615, 11.539697156472789, 47.564509545514085, 18.607807481176394, 6.461942239531687, 6.451886154311701, 17.251289442454716, 6.415320350272494, 8.943960000642138, 5.75056337858786, 8.807150889147376, 15.221243951557419, 7.488861625756149, 17.770205713086607, 14.437000235169904, 17.397465371430652, 21.127899760099332, 9.264024033577662, 4.9942538175147355, 14.167713262294587, 9.982801611816125, 4.335321760203636, 4.333350273876461, 4.3278624686153595, 44.25594313183288, 8.000256901792577, 53.04847116075278, 31.395341858920418, 242.7782774230435, 56.11653731183821, 65.29661440413881, 37.82710982298657, 126.96116707248075, 107.6106344739963, 62.234477761548845, 1819.4449163553675, 140.68406034606593, 109.10979481581894, 1337.381004547864, 1839.8889466373062, 2386.4100470797684, 99.29185912435065, 356.27930369585823, 227.87740451450614, 292.398114137936, 2034.8736278036179, 1605.4660630412463, 4410.326858194202, 4804.093802836827, 3214.3170868388765, 3556.8020301293136, 358.1478031891846, 4132.476904516309, 5555.398672125801, 3371.7114050960186, 2842.5949591778003, 3750.3342526054857, 6030.761817947031, 3021.7399426366715, 3445.876180366374, 2668.462499270139, 1552.44525288713, 910.5241999639385, 3716.5089168977456, 2723.9152145613466, 5382.884335957818, 5164.444951184873, 3167.1293238156313, 3399.345491161705, 1766.9514411699854, 3114.3946711395256, 4292.46118392583, 3728.722283724301, 2553.250547934838, 3006.330396156695, 3538.2960882931966, 3714.8179775897825, 4086.725611579586, 3206.7288570349006, 3223.7877339266774, 3243.5648660673346, 2961.520697129441, 2970.0389628161743, 2733.3194029955534, 27.650401596424846, 30.297653835389482, 8.937345838418173, 16.58243612879933, 6.737095212265138, 22.719287791728743, 5.517438821615113, 116.3716239371006, 27.825741533957338, 4.476080107811312, 5.352961048656833, 55.014186455143964, 7.527735739736893, 3.440041751814204, 3.439975875400648, 3.4391749373104066, 3.4381253808910377, 3.4376322382471853, 3.437598369582589, 30.435477713676452, 87.95264334026587, 28.10256538921398, 9.373693337023798, 35.273051477320394, 35.61464412914591, 7.521697440677376, 71.67846863113142, 4.013169155034345, 23.597346692172597, 45.180873008555984, 22.14635652901676, 49.23263718172228, 232.28417040763682, 98.1164464716217, 232.8914065335708, 57.38241449220256, 71.71005953498816, 111.63988416757427, 133.08574292258422, 52.9932380280981, 38.9289646536111, 662.2295713678046, 6628.864239708233, 3478.4596673493356, 116.76445876191146, 140.0195800909419, 926.9716596261385, 1886.6838104431833, 3979.068626304233, 5301.2570827568225, 236.42768218791355, 1819.6055729065977, 3447.217341277354, 3714.2432643042343, 809.101203617949, 442.30085654306663, 695.3486531908686, 2496.773729409606, 2228.9152595238374, 1812.7386334222977, 2812.1622594521896, 4250.912230650962, 1548.2923860883, 4949.044980373091, 5342.236148197485, 2990.268786021627, 5233.042739847681, 3086.145636899962, 1937.0922455836355, 3644.374880027469, 1780.8811868970104, 3714.9006885805366, 3901.236070953907, 4614.432411702618, 2738.5033001886973, 3514.9846356786093, 3163.6376655309396, 2728.736452693739, 2255.4180329580818, 3628.839467984039, 2828.230852111589, 2493.326348950885, 2793.394797220248, 2868.957237960838, 2713.550142468914, 3166.9973894194873, 2591.6177572219817, 33.227769885632696, 49.768268565797385, 8.80103236175412, 22.69743927134124, 48.25724054078321, 6.3362139388348915, 16.54917848594141, 12.43754948414725, 31.601043630371542, 31.880563408535785, 72.92518952067216, 15.319725003108708, 4.9331653030366915, 4.913430712836213, 4.86690878917124, 3.867289517300967, 3.866223953387596, 14.967363134649647, 34.460102091570114, 26.924231315003123, 88.97990143092156, 6.344554920313961, 19.77214322680142, 11.208816002947069, 6.548491853305929, 9.19736630852448, 27.45984835833068, 24.99948855514653, 8.863970900182002, 135.39926144088392, 30.53438623858554, 187.95130016883002, 30.179752707221734, 102.22090856569439, 37.27718997632177, 28.868767060914525, 74.61709838362049, 24.701002316865708, 118.4204267935804, 100.89172138079105, 39.94127815587528, 820.0720951418608, 1046.9676547353517, 1493.6451064560054, 165.2892321006836, 250.00167230482143, 171.38462987852205, 79.35758399844106, 72.83219251836822, 690.2190999663427, 562.8660120633571, 438.2643417357954, 1490.791589825554, 5722.738937582921, 1906.619438336219, 3047.98354239887, 3580.5752543748545, 4556.45034321004, 1286.2788865441341, 2510.9175426308893, 1002.0582806090031, 3084.516440634119, 4379.183384699891, 2500.21759451971, 3165.0204366436838, 2095.457513563839, 2077.2712323285205, 4771.354808235412, 3637.5966320065704, 2923.9763136330407, 4565.204084555476, 3303.2321656379872, 4110.564467187937, 4237.175837901143, 3976.2283953234896, 2329.9433123994168, 2079.512483185702, 2740.092547820571, 3144.5454280798995, 2205.810246342918, 3677.6993009027124, 2505.028817407219, 2777.8056224215748, 2483.1607276099157, 2607.1288581052763, 2262.4314416768916, 2305.448410229004, 2416.947806570579, 2307.153949069381, 2221.689565342115, 14.447166356982848, 16.397942813900656, 3.8945991031699414, 9.866699327830645, 38.33838118323421, 25.92168926195381, 5.62211920237467, 19.56507753573727, 14.235329506818799, 5.486126647788235, 2.652833813767196, 2.6475633745370732, 9.776164923617698, 42.57390751218821, 4.140704713300751, 6.06123612198563, 39.98318195904708, 18.091375309186816, 15.265625821914576, 12.643570509755639, 2.5070468148552085, 10.12846492136095, 4.198944379841136, 3.3168684300344333, 4.159522687270107, 11.501897497786688, 4.875891594477218, 2.396127014010218, 4.013188214305839, 14.113970978159902, 61.26376721210051, 69.4303566416106, 48.23809720232506, 12.356742177253137, 29.053479415055893, 38.63287059166179, 32.61360080383815, 62.88055868127769, 17.826746826953855, 79.5362255729406, 71.57806441124305, 38.928218154538804, 61.05814486008113, 345.565479367075, 37.26237657108415, 56.983043561874354, 1490.1931064229861, 41.5891485754182, 60.44853472837125, 211.8281831601909, 39.212149770673626, 3265.7735437915762, 168.81921982859743, 74.08913115447481, 518.458433144051, 2260.6383313962565, 575.1971270186696, 583.3202105101584, 4211.040939203501, 1271.0840702925277, 427.3609727880737, 638.0931680881054, 3223.1215727109447, 1931.7845446557296, 1807.4203175748871, 2225.182722461096, 2351.310944766051, 1476.7240269409492, 3013.0578975310514, 1697.1845744306995, 2250.336262007817, 1885.6637210069405, 2183.5785971320915, 3010.4289395948254, 1773.047991541066, 1601.1920586629108, 2831.899997717918, 2364.663799512696, 2980.799380385707, 1837.0101096931705, 2422.2007408223976, 1969.7681555314725, 1704.2573053625433, 2395.735229115582, 1504.006985953351, 2117.759845805019, 1560.1458120637851, 1885.1818441383423, 1742.9591167355136, 1746.6763711891158, 1868.9590360482616, 1772.8468771705113, 1680.6216380708706, 79.89338011769082, 37.37264930953578, 15.272659337735558, 146.6825438454789, 39.41676053015632, 4.02505530426335, 3.9413666722737197, 21.232317458723923, 5.253899984074784, 12.60971727722204, 4.558818731079376, 17.222239114638356, 35.45608302133578, 3.623781502500189, 3.583802996442232, 6.297147824036065, 4.386486019887509, 3.5620530649856015, 5.075396338618159, 2.9206033674461267, 3.644293998781664, 3.5924843570165748, 68.78264326240532, 2.8808177853894046, 29.632557694338278, 2.2063956421371618, 2.204887806086554, 2.203976300538057, 2.8491062593434107, 3.419192951811744, 309.4377719149612, 81.48050683539978, 6.009681843984343, 218.04927131828202, 280.6083188675112, 29.07550028561205, 353.52140222472474, 79.9835746123023, 33.49628419836074, 523.8629410686659, 385.4051911868796, 31.33207284864378, 1042.149190669225, 134.1952769023649, 19.555349172221447, 63.62579656138182, 271.6926471553415, 184.1644315969972, 369.0649435407676, 36.020290250612895, 27.690392871312298, 1115.7510447551067, 691.8485508304956, 69.69982196173707, 955.8953287847854, 743.2478662904874, 176.40440406270963, 154.3679547849407, 132.68541460104132, 343.28873075772196, 734.4819896399182, 1091.1440874979075, 290.57112323741444, 2294.769095715169, 868.2322920522812, 2596.598840504843, 1020.1765138576662, 1820.3495938520637, 495.9530757465289, 1046.4342509009955, 780.2439314613123, 2578.975614450409, 1094.0478417302834, 2083.752241804032, 2318.3131036192704, 2553.833193225823, 2814.0538479562765, 2792.527634595385, 1557.072580467889, 1567.6830827269896, 2373.1367476723767, 2506.3628797435276, 1670.306634347668, 2029.628015953028, 1484.6940339893463, 1393.761689134454, 1684.895527128781, 1751.2428277324846, 2204.4960514052204, 1665.975163492911, 1821.6860624699293, 1944.9694209061583, 1651.1058966092523, 1510.4410294310444, 1383.2113071738952, 1526.759364071146, 1498.9660309912292, 1482.9459379816512, 1439.8335033357155, 26.755749394206074, 6.515648199233142, 17.728521037009255, 20.106158055507645, 34.283996840876654, 13.086105237094321, 3.3249923568714492, 39.41559768581891, 3.2071814216621806, 54.22732059257206, 3.210207857882668, 3.205049754191487, 3.2050975971023004, 2.2617195993815438, 2.2591413980765895, 3.647594552865506, 165.6201033747093, 2.190026465939497, 50.30810078413711, 15.879556263136967, 34.32665995921282, 2.124149329371108, 13.69236039643636, 73.26830578280745, 3.3086322077247967, 25.69269437511916, 29.787777068839105, 8.311204124365378, 20.03132749029202, 2.064138158938782, 51.444242760134436, 53.06964632981639, 40.90634366190076, 22.84534288784846, 296.0793467402319, 132.2876063440931, 27.97574447049299, 50.70361919100876, 4372.871701609928, 25.12840999403502, 22.689867461624832, 17.453323510765724, 72.24338390262571, 284.7630736772539, 69.93945303462124, 106.62631903252421, 1097.5085695026326, 1818.2755938366888, 252.1084099038007, 74.06960351879174, 320.53553364314354, 113.78782356314348, 1100.9220544463317, 2437.480826348554, 280.9222499003835, 734.2498761587015, 371.03089285601595, 2135.880041967961, 390.721956461358, 525.0054482678232, 272.47073378826536, 3393.5239933431467, 2276.766804670051, 3033.5630025471237, 570.6542500204072, 2322.8332831141734, 2782.0379138249373, 1879.2757695191904, 1959.6878681743988, 1310.036057033818, 1469.9026408478778, 1971.5363211115884, 975.1505828107158, 1103.6743767293467, 2553.5728461483804, 2170.3023060969, 1452.4030053994445, 1438.5074848665292, 2289.051823105239, 1711.6779482301085, 1832.7185087147247, 2137.670722594164, 2001.3074752142243, 1814.494130991934, 1879.2256896865022, 1814.9498574693953, 1729.0130823150816, 1420.4763499763935, 1390.676454404563, 1400.062068265515, 1366.4799477645192, 1373.3565620077993, 23.16857836807269, 6.294159199269702, 3.703488556007971, 7.30518519557708, 9.578858627487286, 15.414313347825567, 4.455100055674418, 12.607384139442525, 82.7365075372293, 2.2321534958095595, 2.2292963677919837, 2.220122474018816, 2.215913064536611, 82.84374366133842, 7.46081463935798, 13.885741699861581, 27.238001631114155, 29.108054739536307, 28.986286586800947, 3.683910049554008, 13.343051363595697, 8.256879689650829, 2.6504677953571627, 15.96435536329373, 5.263653007166874, 1.5361793020136407, 1.5357820820811572, 1.5334629091711167, 2.572238822538408, 7.6666641045900175, 21.529268941673063, 16.599948048071717, 3.6994488445919154, 64.69181379073495, 7.857126524016378, 47.13150033009411, 15.693722845453006, 69.97118589713502, 146.61730163559196, 50.047141546248135, 38.48041040106566, 58.115609062819885, 52.67834269614069, 137.89534318339997, 344.0220493675852, 200.6163489023608, 175.39849831917812, 36.23477631116233, 66.77142443030573, 1045.0303493495285, 1803.8361397887484, 3677.769590298873, 586.2377905949295, 2354.7253532716163, 342.6583296006125, 467.0652089424166, 1006.6973837239764, 1626.7797566317759, 193.76588599215324, 2717.8819300007517, 216.33856144238086, 1544.3131799761522, 1967.3321332314722, 2592.5647641247265, 1837.3661802091613, 2242.502821186746, 691.1387648842635, 2727.2254533081577, 1273.7009475811828, 2845.689114762482, 2043.3347277956952, 2147.148799025039, 1280.8973987408747, 1604.7707006740206, 1303.3172806630807, 1486.8369149043995, 1445.6119809429213, 1564.8160481135535, 1821.8709192520703, 1645.417199196482, 2433.4464586407657, 1374.049940944121, 1393.6312180453563, 1756.8031459226297, 1675.7756088679544, 1904.4484001207713, 2010.1131723521473, 1723.183087204973, 1586.7709051197203, 1532.88451126148, 1481.1528129102328, 1419.9049691572138, 139.80259545473288, 48.143453059589, 23.746244647402914, 6.976021046050884, 21.218609427593503, 32.31857404729026, 37.31491965240534, 3.1903678962686475, 3.186130900874305, 19.92258849279609, 6.188391320904019, 3.1037179206194825, 8.799888091016413, 3.9593314428103423, 30.230827505137253, 7.530676501588442, 18.172281015619074, 31.892314311488565, 13.022186835064428, 20.433383666358566, 15.949624508304886, 5.49391105754437, 54.74126052967609, 3.8255194246290074, 20.220570583160097, 3.680384513233258, 86.0768775642272, 7.397290702824855, 2.826201021985816, 2.8082353695520466, 23.412265735335197, 20.54897552439638, 45.748975409564416, 34.98463410252682, 76.58000049099786, 36.20540427120414, 41.431053043207065, 185.34100695248574, 47.15175566892508, 38.10020877058075, 75.43074590881346, 98.39352439001011, 408.7406893212092, 72.19474985594087, 169.03424369050816, 392.6368295409674, 234.72488523160433, 87.02242230361519, 246.71386148068828, 244.16758060128282, 481.48758915367785, 94.96583327414413, 821.4173421736715, 2157.1433804008634, 491.1433711933433, 175.56458177871002, 397.3827942770426, 2028.7915267067037, 192.10286282063117, 251.85561126419614, 1311.2088836072405, 495.7180648401458, 969.2472850256205, 202.1663064542076, 3106.7766468327636, 367.02120380648444, 3163.9086642321417, 2774.801760870081, 676.8047799535387, 2250.549849617121, 1992.808839360439, 2381.4151537760754, 895.1909009085032, 932.104082840932, 446.83654950178453, 1634.2533438626033, 1782.4496050249418, 2326.7628579102716, 1646.685127528397, 1795.7867248118084, 1259.1535311343357, 2218.860689335269, 1448.751502436858, 1290.2526194309237, 1522.159203639049, 1636.05535348307, 1129.5170290761944, 1495.947953547428, 1912.7494427304248, 1112.871064274351, 1473.444121223597, 1583.132448664503, 1314.3370115890916, 1479.5672124178618, 1404.3124375313598, 1195.6050914257319, 1143.6500963465412], \"Total\": [13796.0, 15290.0, 22183.0, 11324.0, 26954.0, 10629.0, 8280.0, 11958.0, 4106.0, 8996.0, 15801.0, 16021.0, 16467.0, 1970.0, 30004.0, 13628.0, 3029.0, 7011.0, 12250.0, 25754.0, 5174.0, 17853.0, 13615.0, 19517.0, 14429.0, 2727.0, 17577.0, 10058.0, 4734.0, 5025.0, 47.064036962660865, 33.61858569409307, 35.10058305078035, 17.332133855587653, 11.696938130913445, 31.278048813596115, 18.555239422192827, 13.116734505361105, 54.33896687181996, 21.462833152262842, 7.456416549705074, 7.446431697975007, 20.05412293013623, 7.479850430762687, 10.443890372517044, 6.745028209402195, 10.339192757198136, 17.92362857150521, 8.871032084990775, 21.094448607045006, 17.193601869528997, 20.759015716272973, 25.478320855089482, 11.212037187583489, 6.068895053960557, 17.23310866126409, 12.159083006627847, 5.329789257361125, 5.327811784520807, 5.3223250204317925, 55.273771663243586, 9.854320580701158, 66.84183989120008, 39.826174274192915, 336.66385725506433, 73.95292535406358, 86.8940236472074, 49.50918770760007, 180.09036615500048, 151.44674238793945, 86.44555075992537, 3404.3102176328184, 213.38610246880333, 164.4422008824028, 2694.031612458411, 3909.213661992104, 5620.661463759338, 153.2141855632883, 696.7556945894404, 418.5019993484594, 593.1204815849604, 6348.005468577617, 4926.30195066696, 17176.62676305932, 19118.507605866333, 12077.290900143824, 13720.47177124232, 815.0073866896021, 17341.485858410542, 25754.96400882867, 13617.16408567049, 10948.47553350601, 15917.535731258951, 30004.96624201376, 12250.968325288457, 14721.318714813448, 10708.795512615894, 5312.329259594469, 2644.974112235741, 16928.235458104817, 11457.442310849965, 28798.303726827577, 27715.461030943647, 14429.784828764426, 16529.455983774245, 6824.4831204686625, 15290.786026221234, 24615.437554273314, 20706.282293118107, 11832.608622509699, 15240.837673436059, 20382.091429947366, 22629.154522173973, 26954.96192425317, 17577.652762688478, 17853.465406775937, 18632.372126476985, 15160.58035890949, 19517.79547017257, 22183.78313645786, 28.595489488307877, 31.72621502289645, 9.88239529338864, 18.51797556947363, 7.682148439236972, 26.521319617192503, 6.601872167277301, 140.20627636448464, 33.70063775574526, 5.491510548553582, 6.609493000923217, 68.19186206425609, 9.394945584673426, 4.385089593692072, 4.385024185235452, 4.384223111518747, 4.383173416612892, 4.3826789406035775, 4.382646473673911, 39.20668818858464, 114.1403404039529, 36.471808681269835, 12.1686964299193, 45.807177421854576, 46.49510598003236, 9.862967863626901, 94.03887104099942, 5.32751038193329, 31.325905372614127, 60.26819288851574, 29.600581615840014, 67.00707141725846, 335.76499356111634, 140.4277274093053, 348.63916353284367, 81.58209724101107, 106.00155492328187, 172.54663827893984, 214.67248710197552, 78.98011917011071, 56.85866720050734, 1237.765824592897, 16021.432037013694, 8280.200663736203, 191.35933823674173, 236.19701815012132, 2087.314270355504, 4752.450193119849, 11324.499848845091, 16467.263184790503, 444.8508692288763, 5174.741457331951, 11844.830747723008, 13628.26552465566, 2119.644323996231, 1017.2652680651368, 1795.2958778349662, 8996.098047920143, 7943.968891466827, 6312.408630595492, 11173.646317431121, 19118.507605866333, 5275.104176655855, 24615.437554273314, 27715.461030943647, 13179.50914253439, 28798.303726827577, 14721.318714813448, 8184.013973351987, 19517.79547017257, 7312.207430697795, 20382.091429947366, 22629.154522173973, 30004.96624201376, 13796.768149732796, 20706.282293118107, 17853.465406775937, 15160.58035890949, 10948.47553350601, 25754.96400882867, 16529.455983774245, 13279.771769699986, 17341.485858410542, 18632.372126476985, 16928.235458104817, 26954.96192425317, 17176.62676305932, 34.41426676984025, 51.56920845350216, 9.728902744775997, 25.760221946078055, 54.824514769357464, 7.2640915233976955, 19.467442410856272, 14.714027319120696, 37.566808297142636, 38.061199005480674, 88.72050701335873, 18.81603804780869, 6.062197151946801, 6.04905181074066, 5.994976067324264, 4.795324851617317, 4.79408726355486, 18.60868767132878, 43.223476233989395, 33.874151645164844, 112.90881763671965, 8.084105697716446, 25.25007614730577, 14.332591750086163, 8.417699038642555, 11.834094877683183, 35.89206689090801, 32.878371342160236, 11.671003645481848, 179.29431398959935, 40.52120815093, 258.33023841068615, 40.22537748301625, 148.7430963152821, 51.52363339123877, 39.37984181088814, 107.26616168352075, 33.647038759347346, 179.0074045933124, 152.51578167850025, 56.45068249073443, 1582.8314653617913, 2286.9920924009994, 3561.557143052832, 287.18059713521944, 467.82273628035904, 305.35258395916685, 124.84830409203423, 113.1748242787099, 1628.7749447479814, 1287.4761187838353, 958.6476783129676, 4290.561613995684, 22183.78313645786, 6074.305993363067, 11290.252673773457, 13918.443444583087, 19517.79547017257, 4052.209845652691, 9566.559794869365, 3029.4993866899104, 13615.770689373765, 22629.154522173973, 11500.726424521274, 15917.535731258951, 9349.804072124985, 9394.75952787347, 30004.96624201376, 20706.282293118107, 15290.786026221234, 28798.303726827577, 18632.372126476985, 25754.96400882867, 26954.96192425317, 24615.437554273314, 11832.608622509699, 10053.305241839484, 16021.432037013694, 20382.091429947366, 11457.442310849965, 27715.461030943647, 14390.012092593644, 17577.652762688478, 15160.58035890949, 17176.62676305932, 12296.880309262486, 13720.47177124232, 16928.235458104817, 16529.455983774245, 15240.837673436059, 16.915947774221383, 20.24521930374394, 4.821200910336394, 12.361878191872062, 48.22550751353238, 32.67934093263017, 7.223213234333462, 25.28577916434448, 18.534517544090033, 7.165119916847595, 3.579424520719286, 3.574155111100045, 13.250517151530234, 57.89280970282209, 5.657767498376299, 8.304399849831533, 54.897368654297814, 25.002574590373985, 21.149055257417317, 17.527374206785222, 3.5133197433208667, 14.223840245553706, 5.916580860697255, 4.688134230970431, 5.926139483058643, 16.562545316599522, 7.021247943379117, 3.470722052490016, 5.843651958647272, 20.61488342127937, 89.6263492488908, 101.9500271157027, 71.76981374411587, 18.108594301255778, 43.95819107463719, 59.76064273790417, 50.349148195091374, 106.13378667029352, 27.398874070236992, 137.83769606768513, 128.12618815529174, 65.78513526553535, 109.36821865911939, 791.2482611571555, 63.27387276883092, 104.07312456389106, 4734.772192534829, 73.65220691129696, 114.86981606921192, 512.8279192276656, 69.4871981484707, 15290.786026221234, 419.4827373690456, 153.68608034318544, 1821.4668244214317, 12077.290900143824, 2136.3608255005015, 2203.939859559827, 28798.303726827577, 6106.003001006993, 1496.8192633705464, 2541.76644193641, 22183.78313645786, 12250.968325288457, 11457.442310849965, 15801.266209809763, 17176.62676305932, 9136.211833289459, 25754.96400882867, 11596.44131576602, 17577.652762688478, 13720.47177124232, 17341.485858410542, 27715.461030943647, 13215.798101345568, 11500.726424521274, 26954.96192425317, 20706.282293118107, 30004.96624201376, 14429.784828764426, 22629.154522173973, 16928.235458104817, 13617.16408567049, 24615.437554273314, 11077.326722818198, 20382.091429947366, 11958.081747071416, 17853.465406775937, 15160.58035890949, 15240.837673436059, 18632.372126476985, 16467.263184790503, 14390.012092593644, 87.53396926785247, 42.58089931698719, 17.930617103077456, 178.46831211459804, 49.96946877530918, 5.17006969484803, 5.150592368520116, 27.990121831290253, 6.959432895199923, 16.892956443305067, 6.144642887414502, 23.775638389554786, 48.956763782503685, 5.025275993876623, 5.011033069803779, 8.822678218951319, 6.152976896766837, 5.003350917932738, 7.136531226450939, 4.1093006658166935, 5.129186792943023, 5.079074226850926, 97.73198438174501, 4.095045658434815, 42.124982253347504, 3.159422138689723, 3.1579174589646293, 3.1570234691429184, 4.08706687390161, 4.955536625838599, 473.12418660352927, 124.7814624610825, 8.762827237747842, 343.96804532309295, 446.4825718578516, 43.997026167486574, 578.4917755113843, 127.698293477652, 51.612881167103566, 930.8563291615352, 678.3909772024092, 48.32778145371715, 1970.8802636735493, 225.42564802255208, 29.761559486964906, 106.05076316551492, 507.7976192410125, 335.2722275538599, 727.9935241454946, 58.10129805698616, 43.49140756814012, 2727.265085883836, 1943.0725971728757, 127.229621613644, 2900.2449948727854, 2168.6335279983896, 393.3324564569356, 337.1611242182601, 281.6516465905314, 923.6109719368093, 2401.626890775189, 4172.04084484965, 769.90762317868, 11324.499848845091, 3190.9187464213956, 13796.768149732796, 4106.720885784226, 8996.098047920143, 1579.9925672107736, 4691.505323025656, 3130.0147154111546, 17853.465406775937, 5174.741457331951, 13617.16408567049, 18632.372126476985, 22629.154522173973, 26954.96192425317, 27715.461030943647, 11077.326722818198, 11844.830747723008, 25754.96400882867, 28798.303726827577, 13628.26552465566, 20706.282293118107, 11173.646317431121, 10058.416171122997, 15240.837673436059, 17176.62676305932, 30004.96624201376, 15801.266209809763, 20382.091429947366, 24615.437554273314, 16529.455983774245, 14390.012092593644, 10948.47553350601, 16928.235458104817, 19118.507605866333, 19517.79547017257, 16467.263184790503, 27.70545054629778, 7.465278118868157, 20.418633061080413, 24.325434302313624, 43.34690070810629, 16.74042665585718, 4.274617485075222, 50.99537912074468, 4.2430269960658915, 71.7500634065515, 4.24879631141018, 4.244341754980824, 4.24452951390985, 3.211345616765283, 3.208779788384611, 5.185552667741887, 240.92986015971357, 3.194728962354748, 73.51147076775882, 23.33707988447427, 51.058610439133524, 3.195099346843664, 20.715905235315095, 112.14826807048516, 5.081025540118938, 39.73921739365324, 46.195045257984376, 12.924006591258285, 31.264292370992557, 3.244678781078216, 81.88433078740172, 84.75686152109965, 65.98603727866882, 36.938264630187554, 534.9087347191125, 247.63583473817397, 46.94894335498513, 90.4318605561196, 13796.768149732796, 42.23259232419408, 37.994863781346005, 28.678146071250417, 148.62663101623093, 749.4720536311613, 146.16614082505146, 243.02889001228786, 4106.720885784226, 8280.200663736203, 720.6160636628824, 157.98367633786683, 995.2498113298378, 271.7248230947624, 5043.258189038644, 14429.784828764426, 891.5384368160184, 3197.5222143196506, 1317.0183742008246, 13615.770689373765, 1425.711243643488, 2190.47827465055, 895.0979641330234, 30004.96624201376, 17341.485858410542, 26954.96192425317, 2583.993940605967, 20382.091429947366, 27715.461030943647, 15801.266209809763, 16928.235458104817, 9349.804072124985, 11181.33401196022, 17577.652762688478, 6171.120490640337, 7669.213680153725, 28798.303726827577, 22629.154522173973, 11958.081747071416, 12023.930239355572, 25754.96400882867, 16529.455983774245, 18632.372126476985, 24615.437554273314, 22183.78313645786, 19118.507605866333, 20706.282293118107, 19517.79547017257, 17853.465406775937, 13215.798101345568, 13219.763503055012, 14390.012092593644, 13179.50914253439, 15290.786026221234, 27.725072712882532, 7.798264745016351, 4.696051120407716, 9.369424199582705, 12.600723769417895, 21.43176512962717, 6.313473521193826, 18.345217218875206, 120.70548072697036, 3.2632230231128294, 3.263653768337207, 3.2645039063364587, 3.2654421087701757, 122.9526341777001, 11.143086615576095, 20.904912402203863, 41.091950114775564, 44.52720569449732, 44.61456600284216, 5.761230137159526, 20.917839993610457, 13.065128502369882, 4.194659900526152, 26.1655835671981, 8.63832525464518, 2.528737364337996, 2.5283395222694183, 2.5260205357414893, 4.2440719525646715, 12.699757236185043, 35.91287957968677, 27.841369852782154, 6.135338296874789, 115.35344983790826, 13.266642417435023, 85.00652317985282, 27.090934524823183, 139.6730094189692, 312.364794731882, 101.95270813508857, 76.16026275424967, 124.01154496703894, 111.85708606688661, 334.11602342109796, 976.2587363585214, 539.1977914886951, 462.2036785080095, 74.28293618554832, 159.07235373690966, 5107.366959064015, 10629.554188359823, 26954.96192425317, 2594.0871965475817, 15801.266209809763, 1317.0183742008246, 2004.7875609632986, 5542.478375566752, 10440.88269610102, 654.2631667348695, 22183.78313645786, 776.4899577217503, 11290.252673773457, 16529.455983774245, 24615.437554273314, 15290.786026221234, 20382.091429947366, 3909.213661992104, 27715.461030943647, 9394.75952787347, 30004.96624201376, 19118.507605866333, 20706.282293118107, 9763.929355454571, 13615.770689373765, 10058.416171122997, 12250.968325288457, 11844.830747723008, 13918.443444583087, 17853.465406775937, 15240.837673436059, 28798.303726827577, 11596.44131576602, 11958.081747071416, 17577.652762688478, 17341.485858410542, 22629.154522173973, 25754.96400882867, 18632.372126476985, 15917.535731258951, 16928.235458104817, 16467.263184790503, 19517.79547017257, 140.69734406637474, 49.03814917165196, 26.965268237832003, 8.398287831805243, 26.250974158666192, 40.30958746433745, 46.762106861101856, 4.085022198928769, 4.080782715867118, 25.833071233274325, 8.08884940322546, 4.065459998259923, 11.55515441213841, 5.20424914374545, 39.933492202155726, 9.950371476086067, 24.0299354666285, 42.25481821227507, 17.34609077935609, 27.6066627926449, 21.617983022921536, 7.4510688875443645, 74.6280609919925, 5.247705528387568, 27.93139822747944, 5.100377690565416, 119.919893736137, 10.354019891897016, 3.985070938849467, 3.981368093306705, 33.61932044927982, 29.554344915273532, 66.73679522994895, 50.91732547228261, 115.67740639003864, 53.93451353946415, 63.01455418236971, 313.1562546032004, 72.76240763256018, 58.05727586359499, 122.32749573783863, 166.0657224488908, 840.9376730661127, 122.33248406098429, 325.6272251082683, 882.5859392340639, 497.87775563658346, 158.67709523922116, 576.9253426140385, 596.3694769025317, 1454.8775406759505, 189.41430713929108, 3029.4993866899104, 10629.554188359823, 1576.6545472855482, 422.63072066956465, 1294.1638512338868, 11958.081747071416, 492.80038590492643, 714.1784121122307, 7011.548605035808, 1824.0911217068265, 4838.336293743218, 533.3407902531688, 26954.96192425317, 1258.9662093921902, 30004.96624201376, 25754.96400882867, 3206.2285310485477, 19517.79547017257, 16467.263184790503, 22183.78313645786, 5025.081374135476, 5456.7227980343, 1746.4947213463809, 13628.26552465566, 15917.535731258951, 24615.437554273314, 15160.58035890949, 17577.652762688478, 10088.582329693336, 27715.461030943647, 13219.763503055012, 10708.795512615894, 15290.786026221234, 17853.465406775937, 8996.098047920143, 15801.266209809763, 28798.303726827577, 9349.804072124985, 18632.372126476985, 22629.154522173973, 14390.012092593644, 20382.091429947366, 20706.282293118107, 13279.771769699986, 16529.455983774245], \"Category\": [\"Default\", \"Default\", \"Default\", \"Default\", \"Default\", \"Default\", \"Default\", \"Default\", \"Default\", \"Default\", \"Default\", \"Default\", \"Default\", \"Default\", \"Default\", \"Default\", \"Default\", \"Default\", \"Default\", \"Default\", \"Default\", \"Default\", \"Default\", \"Default\", \"Default\", \"Default\", \"Default\", \"Default\", \"Default\", \"Default\", \"Topic1\", \"Topic1\", \"Topic1\", \"Topic1\", \"Topic1\", \"Topic1\", \"Topic1\", \"Topic1\", \"Topic1\", \"Topic1\", \"Topic1\", \"Topic1\", \"Topic1\", \"Topic1\", \"Topic1\", \"Topic1\", \"Topic1\", \"Topic1\", \"Topic1\", \"Topic1\", \"Topic1\", \"Topic1\", \"Topic1\", \"Topic1\", \"Topic1\", \"Topic1\", \"Topic1\", \"Topic1\", \"Topic1\", \"Topic1\", \"Topic1\", \"Topic1\", \"Topic1\", \"Topic1\", \"Topic1\", \"Topic1\", \"Topic1\", \"Topic1\", \"Topic1\", \"Topic1\", \"Topic1\", \"Topic1\", \"Topic1\", \"Topic1\", \"Topic1\", \"Topic1\", \"Topic1\", \"Topic1\", \"Topic1\", \"Topic1\", \"Topic1\", \"Topic1\", \"Topic1\", \"Topic1\", \"Topic1\", \"Topic1\", \"Topic1\", \"Topic1\", \"Topic1\", \"Topic1\", \"Topic1\", \"Topic1\", \"Topic1\", \"Topic1\", \"Topic1\", \"Topic1\", \"Topic1\", \"Topic1\", \"Topic1\", \"Topic1\", \"Topic1\", \"Topic1\", \"Topic1\", \"Topic1\", \"Topic1\", \"Topic1\", \"Topic1\", \"Topic1\", \"Topic1\", \"Topic1\", \"Topic1\", \"Topic1\", \"Topic1\", \"Topic1\", \"Topic1\", \"Topic1\", \"Topic1\", \"Topic1\", \"Topic1\", \"Topic1\", \"Topic2\", \"Topic2\", \"Topic2\", \"Topic2\", \"Topic2\", \"Topic2\", \"Topic2\", \"Topic2\", \"Topic2\", \"Topic2\", \"Topic2\", \"Topic2\", \"Topic2\", \"Topic2\", \"Topic2\", \"Topic2\", \"Topic2\", \"Topic2\", \"Topic2\", \"Topic2\", \"Topic2\", \"Topic2\", \"Topic2\", \"Topic2\", \"Topic2\", \"Topic2\", \"Topic2\", \"Topic2\", \"Topic2\", \"Topic2\", \"Topic2\", \"Topic2\", \"Topic2\", \"Topic2\", \"Topic2\", \"Topic2\", \"Topic2\", \"Topic2\", \"Topic2\", \"Topic2\", \"Topic2\", \"Topic2\", \"Topic2\", \"Topic2\", \"Topic2\", \"Topic2\", \"Topic2\", \"Topic2\", \"Topic2\", \"Topic2\", \"Topic2\", \"Topic2\", \"Topic2\", \"Topic2\", \"Topic2\", \"Topic2\", \"Topic2\", \"Topic2\", \"Topic2\", \"Topic2\", \"Topic2\", \"Topic2\", \"Topic2\", \"Topic2\", \"Topic2\", \"Topic2\", \"Topic2\", \"Topic2\", \"Topic2\", \"Topic2\", \"Topic2\", \"Topic2\", \"Topic2\", \"Topic2\", \"Topic2\", \"Topic2\", \"Topic2\", \"Topic2\", \"Topic2\", \"Topic2\", \"Topic2\", \"Topic2\", \"Topic2\", \"Topic2\", \"Topic2\", \"Topic2\", \"Topic2\", \"Topic3\", \"Topic3\", \"Topic3\", \"Topic3\", \"Topic3\", \"Topic3\", \"Topic3\", \"Topic3\", \"Topic3\", \"Topic3\", \"Topic3\", \"Topic3\", \"Topic3\", \"Topic3\", \"Topic3\", \"Topic3\", \"Topic3\", \"Topic3\", \"Topic3\", \"Topic3\", \"Topic3\", \"Topic3\", \"Topic3\", \"Topic3\", \"Topic3\", \"Topic3\", \"Topic3\", \"Topic3\", \"Topic3\", \"Topic3\", \"Topic3\", \"Topic3\", \"Topic3\", \"Topic3\", \"Topic3\", \"Topic3\", \"Topic3\", \"Topic3\", \"Topic3\", \"Topic3\", \"Topic3\", \"Topic3\", \"Topic3\", \"Topic3\", \"Topic3\", \"Topic3\", \"Topic3\", \"Topic3\", \"Topic3\", \"Topic3\", \"Topic3\", \"Topic3\", \"Topic3\", \"Topic3\", \"Topic3\", \"Topic3\", \"Topic3\", \"Topic3\", \"Topic3\", \"Topic3\", \"Topic3\", \"Topic3\", \"Topic3\", \"Topic3\", \"Topic3\", \"Topic3\", \"Topic3\", \"Topic3\", \"Topic3\", \"Topic3\", \"Topic3\", \"Topic3\", \"Topic3\", \"Topic3\", \"Topic3\", \"Topic3\", \"Topic3\", \"Topic3\", \"Topic3\", \"Topic3\", \"Topic3\", \"Topic3\", \"Topic3\", \"Topic3\", \"Topic3\", \"Topic3\", \"Topic3\", \"Topic3\", \"Topic3\", \"Topic3\", \"Topic4\", \"Topic4\", \"Topic4\", \"Topic4\", \"Topic4\", \"Topic4\", \"Topic4\", \"Topic4\", \"Topic4\", \"Topic4\", \"Topic4\", \"Topic4\", \"Topic4\", \"Topic4\", \"Topic4\", \"Topic4\", \"Topic4\", \"Topic4\", \"Topic4\", \"Topic4\", \"Topic4\", \"Topic4\", \"Topic4\", \"Topic4\", \"Topic4\", \"Topic4\", \"Topic4\", \"Topic4\", \"Topic4\", \"Topic4\", \"Topic4\", \"Topic4\", \"Topic4\", \"Topic4\", \"Topic4\", \"Topic4\", \"Topic4\", \"Topic4\", \"Topic4\", \"Topic4\", \"Topic4\", \"Topic4\", \"Topic4\", \"Topic4\", \"Topic4\", \"Topic4\", \"Topic4\", \"Topic4\", \"Topic4\", \"Topic4\", \"Topic4\", \"Topic4\", \"Topic4\", \"Topic4\", \"Topic4\", \"Topic4\", \"Topic4\", \"Topic4\", \"Topic4\", \"Topic4\", \"Topic4\", \"Topic4\", \"Topic4\", \"Topic4\", \"Topic4\", \"Topic4\", \"Topic4\", \"Topic4\", \"Topic4\", \"Topic4\", \"Topic4\", \"Topic4\", \"Topic4\", \"Topic4\", \"Topic4\", \"Topic4\", \"Topic4\", \"Topic4\", \"Topic4\", \"Topic4\", \"Topic4\", \"Topic4\", \"Topic4\", \"Topic4\", \"Topic4\", \"Topic4\", \"Topic4\", \"Topic4\", \"Topic4\", \"Topic4\", \"Topic4\", \"Topic4\", \"Topic4\", \"Topic5\", \"Topic5\", \"Topic5\", \"Topic5\", \"Topic5\", \"Topic5\", \"Topic5\", \"Topic5\", \"Topic5\", \"Topic5\", \"Topic5\", \"Topic5\", \"Topic5\", \"Topic5\", \"Topic5\", \"Topic5\", \"Topic5\", \"Topic5\", \"Topic5\", \"Topic5\", \"Topic5\", \"Topic5\", \"Topic5\", \"Topic5\", \"Topic5\", \"Topic5\", \"Topic5\", \"Topic5\", \"Topic5\", \"Topic5\", \"Topic5\", \"Topic5\", \"Topic5\", \"Topic5\", \"Topic5\", \"Topic5\", \"Topic5\", \"Topic5\", \"Topic5\", \"Topic5\", \"Topic5\", \"Topic5\", \"Topic5\", \"Topic5\", \"Topic5\", \"Topic5\", \"Topic5\", \"Topic5\", \"Topic5\", \"Topic5\", \"Topic5\", \"Topic5\", \"Topic5\", \"Topic5\", \"Topic5\", \"Topic5\", \"Topic5\", \"Topic5\", \"Topic5\", \"Topic5\", \"Topic5\", \"Topic5\", \"Topic5\", \"Topic5\", \"Topic5\", \"Topic5\", \"Topic5\", \"Topic5\", \"Topic5\", \"Topic5\", \"Topic5\", \"Topic5\", \"Topic5\", \"Topic5\", \"Topic5\", \"Topic5\", \"Topic5\", \"Topic5\", \"Topic5\", \"Topic5\", \"Topic5\", \"Topic5\", \"Topic5\", \"Topic5\", \"Topic5\", \"Topic5\", \"Topic5\", \"Topic5\", \"Topic5\", \"Topic5\", \"Topic5\", \"Topic5\", \"Topic5\", \"Topic5\", \"Topic5\", \"Topic5\", \"Topic5\", \"Topic5\", \"Topic5\", \"Topic6\", \"Topic6\", \"Topic6\", \"Topic6\", \"Topic6\", \"Topic6\", \"Topic6\", \"Topic6\", \"Topic6\", \"Topic6\", \"Topic6\", \"Topic6\", \"Topic6\", \"Topic6\", \"Topic6\", \"Topic6\", \"Topic6\", \"Topic6\", \"Topic6\", \"Topic6\", \"Topic6\", \"Topic6\", \"Topic6\", \"Topic6\", \"Topic6\", \"Topic6\", \"Topic6\", \"Topic6\", \"Topic6\", \"Topic6\", \"Topic6\", \"Topic6\", \"Topic6\", \"Topic6\", \"Topic6\", \"Topic6\", \"Topic6\", \"Topic6\", \"Topic6\", \"Topic6\", \"Topic6\", \"Topic6\", \"Topic6\", \"Topic6\", \"Topic6\", \"Topic6\", \"Topic6\", \"Topic6\", \"Topic6\", \"Topic6\", \"Topic6\", \"Topic6\", \"Topic6\", \"Topic6\", \"Topic6\", \"Topic6\", \"Topic6\", \"Topic6\", \"Topic6\", \"Topic6\", \"Topic6\", \"Topic6\", \"Topic6\", \"Topic6\", \"Topic6\", \"Topic6\", \"Topic6\", \"Topic6\", \"Topic6\", \"Topic6\", \"Topic6\", \"Topic6\", \"Topic6\", \"Topic6\", \"Topic6\", \"Topic6\", \"Topic6\", \"Topic6\", \"Topic6\", \"Topic6\", \"Topic6\", \"Topic6\", \"Topic6\", \"Topic6\", \"Topic6\", \"Topic6\", \"Topic6\", \"Topic6\", \"Topic6\", \"Topic6\", \"Topic6\", \"Topic6\", \"Topic7\", \"Topic7\", \"Topic7\", \"Topic7\", \"Topic7\", \"Topic7\", \"Topic7\", \"Topic7\", \"Topic7\", \"Topic7\", \"Topic7\", \"Topic7\", \"Topic7\", \"Topic7\", \"Topic7\", \"Topic7\", \"Topic7\", \"Topic7\", \"Topic7\", \"Topic7\", \"Topic7\", \"Topic7\", \"Topic7\", \"Topic7\", \"Topic7\", \"Topic7\", \"Topic7\", \"Topic7\", \"Topic7\", \"Topic7\", \"Topic7\", \"Topic7\", \"Topic7\", \"Topic7\", \"Topic7\", \"Topic7\", \"Topic7\", \"Topic7\", \"Topic7\", \"Topic7\", \"Topic7\", \"Topic7\", \"Topic7\", \"Topic7\", \"Topic7\", \"Topic7\", \"Topic7\", \"Topic7\", \"Topic7\", \"Topic7\", \"Topic7\", \"Topic7\", \"Topic7\", \"Topic7\", \"Topic7\", \"Topic7\", \"Topic7\", \"Topic7\", \"Topic7\", \"Topic7\", \"Topic7\", \"Topic7\", \"Topic7\", \"Topic7\", \"Topic7\", \"Topic7\", \"Topic7\", \"Topic7\", \"Topic7\", \"Topic7\", \"Topic7\", \"Topic7\", \"Topic7\", \"Topic7\", \"Topic7\", \"Topic7\", \"Topic7\", \"Topic7\", \"Topic7\", \"Topic7\", \"Topic7\", \"Topic7\", \"Topic7\", \"Topic7\", \"Topic7\", \"Topic7\", \"Topic7\", \"Topic7\", \"Topic7\", \"Topic7\", \"Topic7\", \"Topic7\", \"Topic8\", \"Topic8\", \"Topic8\", \"Topic8\", \"Topic8\", \"Topic8\", \"Topic8\", \"Topic8\", \"Topic8\", \"Topic8\", \"Topic8\", \"Topic8\", \"Topic8\", \"Topic8\", \"Topic8\", \"Topic8\", \"Topic8\", \"Topic8\", \"Topic8\", \"Topic8\", \"Topic8\", \"Topic8\", \"Topic8\", \"Topic8\", \"Topic8\", \"Topic8\", \"Topic8\", \"Topic8\", \"Topic8\", \"Topic8\", \"Topic8\", \"Topic8\", \"Topic8\", \"Topic8\", \"Topic8\", \"Topic8\", \"Topic8\", \"Topic8\", \"Topic8\", \"Topic8\", \"Topic8\", \"Topic8\", \"Topic8\", \"Topic8\", \"Topic8\", \"Topic8\", \"Topic8\", \"Topic8\", \"Topic8\", \"Topic8\", \"Topic8\", \"Topic8\", \"Topic8\", \"Topic8\", \"Topic8\", \"Topic8\", \"Topic8\", \"Topic8\", \"Topic8\", \"Topic8\", \"Topic8\", \"Topic8\", \"Topic8\", \"Topic8\", \"Topic8\", \"Topic8\", \"Topic8\", \"Topic8\", \"Topic8\", \"Topic8\", \"Topic8\", \"Topic8\", \"Topic8\", \"Topic8\", \"Topic8\", \"Topic8\", \"Topic8\", \"Topic8\", \"Topic8\", \"Topic8\", \"Topic8\", \"Topic8\", \"Topic8\", \"Topic8\", \"Topic8\", \"Topic8\", \"Topic8\", \"Topic8\", \"Topic8\", \"Topic8\", \"Topic8\", \"Topic8\", \"Topic8\", \"Topic8\", \"Topic8\", \"Topic8\", \"Topic8\"], \"logprob\": [30.0, 29.0, 28.0, 27.0, 26.0, 25.0, 24.0, 23.0, 22.0, 21.0, 20.0, 19.0, 18.0, 17.0, 16.0, 15.0, 14.0, 13.0, 12.0, 11.0, 10.0, 9.0, 8.0, 7.0, 6.0, 5.0, 4.0, 3.0, 2.0, 1.0, -9.7958, -10.1415, -10.0996, -10.8325, -11.2555, -10.2744, -10.8138, -11.1802, -9.7639, -10.7024, -11.7601, -11.7616, -10.7781, -11.7673, -11.435, -11.8767, -11.4504, -10.9033, -11.6126, -10.7485, -10.9562, -10.7697, -10.5754, -11.3999, -12.0177, -10.975, -11.3251, -12.1592, -12.1596, -12.1609, -9.836, -11.5465, -9.6548, -10.1793, -8.1338, -9.5986, -9.447, -9.993, -8.7821, -8.9475, -9.4951, -6.1197, -8.6795, -8.9336, -6.4275, -6.1085, -5.8484, -9.0279, -7.7503, -8.1972, -7.9479, -6.0078, -6.2448, -5.2343, -5.1488, -5.5506, -5.4494, -7.745, -5.2994, -5.0035, -5.5028, -5.6735, -5.3964, -4.9214, -5.6124, -5.4811, -5.7367, -6.2784, -6.812, -5.4055, -5.7162, -5.035, -5.0764, -5.5654, -5.4947, -6.149, -5.5822, -5.2614, -5.4022, -5.7809, -5.6175, -5.4546, -5.4059, -5.3105, -5.553, -5.5477, -5.5416, -5.6325, -5.6297, -5.7127, -10.2955, -10.2041, -11.4249, -10.8068, -11.7075, -10.4919, -11.9072, -8.8584, -10.2892, -12.1164, -11.9375, -9.6076, -11.5966, -12.3797, -12.3797, -12.3799, -12.3802, -12.3804, -12.3804, -10.1995, -9.1384, -10.2793, -11.3772, -10.052, -10.0424, -11.5974, -9.343, -12.2256, -10.454, -9.8045, -10.5175, -9.7186, -8.1672, -9.029, -8.1646, -9.5654, -9.3425, -8.8999, -8.7242, -9.645, -9.9534, -7.1195, -4.816, -5.4608, -8.855, -8.6734, -6.7832, -6.0726, -5.3264, -5.0395, -8.1495, -6.1088, -5.4698, -5.3952, -6.9192, -7.5232, -7.0707, -5.7924, -5.9059, -6.1126, -5.6734, -5.2603, -6.2702, -5.1082, -5.0318, -5.612, -5.0524, -5.5805, -6.0462, -5.4142, -6.1303, -5.395, -5.3461, -5.1782, -5.7, -5.4504, -5.5557, -5.7036, -5.8941, -5.4185, -5.6677, -5.7938, -5.6801, -5.6535, -5.7091, -5.5546, -5.7551, -9.9634, -9.5594, -11.2919, -10.3445, -9.5902, -11.6205, -10.6604, -10.946, -10.0136, -10.0048, -9.1773, -10.7376, -11.8708, -11.8748, -11.8843, -12.1142, -12.1145, -10.7609, -9.927, -10.1737, -8.9784, -11.6192, -10.4825, -11.0501, -11.5875, -11.2478, -10.154, -10.2479, -11.2848, -8.5585, -10.0479, -8.2306, -10.0596, -8.8396, -9.8484, -10.104, -9.1544, -10.2599, -8.6925, -8.8527, -9.7794, -6.7574, -6.5131, -6.1578, -8.3591, -7.9453, -8.3229, -9.0928, -9.1786, -6.9298, -7.1337, -7.3839, -6.1597, -4.8146, -5.9137, -5.4445, -5.2835, -5.0425, -6.3073, -5.6384, -6.557, -5.4326, -5.0821, -5.6426, -5.4068, -5.8192, -5.828, -4.9964, -5.2677, -5.4861, -5.0405, -5.3641, -5.1454, -5.1151, -5.1787, -5.7132, -5.8269, -5.551, -5.4133, -5.7679, -5.2567, -5.6407, -5.5373, -5.6495, -5.6008, -5.7426, -5.7237, -5.6765, -5.723, -5.7607, -10.4304, -10.3038, -11.7413, -10.8118, -9.4545, -9.8458, -11.3742, -10.1272, -10.4452, -11.3987, -12.1253, -12.1273, -10.821, -9.3497, -11.6801, -11.299, -9.4125, -10.2055, -10.3753, -10.5638, -12.1818, -10.7856, -11.6661, -11.9019, -11.6755, -10.6584, -11.5166, -12.2271, -11.7113, -10.4538, -8.9857, -8.8606, -9.2248, -10.5867, -9.7318, -9.4468, -9.6162, -8.9597, -10.2202, -8.7247, -8.8301, -9.4392, -8.9891, -7.2557, -9.4829, -9.0582, -5.7943, -9.3731, -8.9991, -7.7451, -9.4319, -5.0097, -7.9721, -8.7957, -6.8501, -5.3775, -6.7462, -6.7322, -4.7555, -5.9533, -7.0433, -6.6424, -5.0228, -5.5347, -5.6013, -5.3933, -5.3382, -5.8033, -5.0902, -5.6642, -5.3821, -5.5589, -5.4122, -5.0911, -5.6205, -5.7224, -5.1522, -5.3325, -5.101, -5.585, -5.3085, -5.5153, -5.66, -5.3195, -5.785, -5.4428, -5.7484, -5.5591, -5.6376, -5.6355, -5.5678, -5.6206, -5.674, -8.7063, -9.4661, -10.361, -8.0988, -9.4128, -11.6945, -11.7155, -10.0315, -11.4281, -10.5526, -11.57, -10.2408, -9.5187, -11.7995, -11.8106, -11.2469, -11.6085, -11.8167, -11.4626, -12.0152, -11.7939, -11.8082, -8.8561, -12.029, -9.6982, -12.2957, -12.2964, -12.2968, -12.04, -11.8576, -7.3523, -8.6867, -11.2937, -7.7023, -7.4501, -9.7171, -7.2191, -8.7052, -9.5756, -6.8258, -7.1327, -9.6424, -6.138, -8.1877, -10.1138, -8.934, -7.4824, -7.8712, -7.1761, -9.503, -9.7659, -6.0698, -6.5477, -8.8428, -6.2244, -6.476, -7.9143, -8.0477, -8.1991, -7.2485, -6.4879, -6.0921, -7.4152, -5.3486, -6.3206, -5.2251, -6.1593, -5.5803, -6.8806, -6.1339, -6.4274, -5.2319, -6.0894, -5.4451, -5.3384, -5.2417, -5.1447, -5.1523, -5.7365, -5.7297, -5.3151, -5.2604, -5.6663, -5.4714, -5.7841, -5.8473, -5.6576, -5.619, -5.3888, -5.6689, -5.5795, -5.514, -5.6778, -5.7669, -5.8549, -5.7561, -5.7745, -5.7852, -5.8148, -9.7686, -11.1811, -10.1802, -10.0543, -9.5207, -10.4838, -11.8539, -9.3812, -11.89, -9.0622, -11.889, -11.8906, -11.8906, -12.2392, -12.2404, -11.7613, -7.9456, -12.2714, -9.1372, -10.2903, -9.5194, -12.302, -10.4385, -8.7612, -11.8588, -9.8091, -9.6612, -10.9377, -10.058, -12.3306, -9.1148, -9.0837, -9.3441, -9.9266, -7.3647, -8.1704, -9.724, -9.1293, -4.6722, -9.8313, -9.9334, -10.1958, -8.7753, -7.4037, -8.8077, -8.386, -6.0545, -5.5497, -7.5255, -8.7503, -7.2854, -8.321, -6.0514, -5.2566, -7.4173, -6.4565, -7.1391, -5.3887, -7.0874, -6.7919, -7.4478, -4.9257, -5.3248, -5.0379, -6.7086, -5.3048, -5.1244, -5.5167, -5.4748, -5.8775, -5.7624, -5.4688, -6.1728, -6.0489, -5.2101, -5.3727, -5.7744, -5.784, -5.3195, -5.6101, -5.5418, -5.3879, -5.4538, -5.5518, -5.5167, -5.5515, -5.6, -5.7966, -5.8178, -5.8111, -5.8354, -5.8303, -9.8709, -11.1741, -11.7044, -11.0251, -10.7542, -10.2784, -11.5197, -10.4794, -8.5981, -12.2107, -12.212, -12.2161, -12.218, -8.5968, -11.004, -10.3828, -9.7091, -9.6427, -9.6469, -11.7097, -10.4227, -10.9027, -12.039, -10.2434, -11.3529, -12.5844, -12.5847, -12.5862, -12.0689, -10.9768, -9.9443, -10.2043, -11.7055, -8.8441, -10.9523, -9.1608, -10.2605, -8.7656, -8.0259, -9.1007, -9.3636, -8.9513, -9.0495, -8.0872, -7.173, -7.7123, -7.8467, -9.4237, -8.8124, -6.0619, -5.516, -4.8037, -6.64, -5.2495, -7.177, -6.8672, -6.0993, -5.6194, -7.7471, -5.1061, -7.6369, -5.6714, -5.4293, -5.1533, -5.4976, -5.2984, -6.4754, -5.1027, -5.864, -5.0602, -5.3914, -5.3418, -5.8584, -5.633, -5.841, -5.7093, -5.7374, -5.6582, -5.5061, -5.608, -5.2166, -5.7882, -5.774, -5.5425, -5.5897, -5.4618, -5.4078, -5.5618, -5.6443, -5.6788, -5.7131, -5.7554, -7.9484, -9.0145, -9.7213, -10.9462, -9.8338, -9.413, -9.2693, -11.7285, -11.7299, -9.8968, -11.066, -11.7561, -10.7139, -11.5126, -9.4798, -10.8697, -9.9888, -9.4263, -10.322, -9.8715, -10.1192, -11.185, -8.8861, -11.547, -9.882, -11.5857, -8.4334, -10.8876, -11.8497, -11.8561, -9.7354, -9.8659, -9.0655, -9.3338, -8.5503, -9.2995, -9.1646, -7.6665, -9.0353, -9.2485, -8.5655, -8.2997, -6.8756, -8.6093, -7.7586, -6.9158, -7.4303, -8.4225, -7.3804, -7.3908, -6.7118, -8.3352, -6.1776, -5.2121, -6.6919, -7.7207, -6.9038, -5.2735, -7.6306, -7.3598, -5.71, -6.6827, -6.0122, -7.5796, -4.8473, -6.9833, -4.8291, -4.9603, -6.3713, -5.1697, -5.2914, -5.1132, -6.0916, -6.0512, -6.7865, -5.4897, -5.4029, -5.1364, -5.4822, -5.3955, -5.7505, -5.1839, -5.6102, -5.7261, -5.5608, -5.4886, -5.8591, -5.5782, -5.3324, -5.874, -5.5933, -5.5215, -5.7076, -5.5892, -5.6414, -5.8023, -5.8467], \"loglift\": [30.0, 29.0, 28.0, 27.0, 26.0, 25.0, 24.0, 23.0, 22.0, 21.0, 20.0, 19.0, 18.0, 17.0, 16.0, 15.0, 14.0, 13.0, 12.0, 11.0, 10.0, 9.0, 8.0, 7.0, 6.0, 5.0, 4.0, 3.0, 2.0, 1.0, 1.7019, 1.6926, 1.6914, 1.6641, 1.6344, 1.6319, 1.6147, 1.5951, 1.5901, 1.5805, 1.5801, 1.5799, 1.5727, 1.5697, 1.5682, 1.5637, 1.5628, 1.5598, 1.5539, 1.5517, 1.5485, 1.5466, 1.536, 1.5324, 1.5283, 1.5274, 1.526, 1.5167, 1.5166, 1.5164, 1.5009, 1.5148, 1.4921, 1.4854, 1.3963, 1.4472, 1.4375, 1.4541, 1.3736, 1.3815, 1.3946, 1.0967, 1.3066, 1.313, 1.0229, 0.9696, 0.8666, 1.2895, 1.0525, 1.1154, 1.0159, 0.5855, 0.6021, 0.3636, 0.342, 0.3995, 0.3732, 0.901, 0.289, 0.1894, 0.3273, 0.3747, 0.2776, 0.1187, 0.3235, 0.2711, 0.3337, 0.493, 0.6568, 0.207, 0.2867, 0.0461, 0.043, 0.2068, 0.1417, 0.372, 0.132, -0.0233, 0.0089, 0.1897, 0.1, -0.0278, -0.0837, -0.1632, 0.0218, 0.0116, -0.025, 0.0902, -0.1595, -0.3706, 1.7005, 1.688, 1.6335, 1.6237, 1.6028, 1.5793, 1.5546, 1.5477, 1.5425, 1.5296, 1.5232, 1.5193, 1.5125, 1.4913, 1.4913, 1.4913, 1.4912, 1.4912, 1.4912, 1.4808, 1.4734, 1.4734, 1.4731, 1.4727, 1.4675, 1.4631, 1.4625, 1.4508, 1.4508, 1.4459, 1.4439, 1.4258, 1.3656, 1.3755, 1.3306, 1.3822, 1.3432, 1.2987, 1.2559, 1.335, 1.3552, 1.1086, 0.8516, 0.8668, 1.2401, 1.2112, 0.9224, 0.8102, 0.6881, 0.6006, 1.102, 0.6889, 0.4997, 0.4341, 0.771, 0.9012, 0.7855, 0.4523, 0.4632, 0.4864, 0.3545, 0.2305, 0.5082, 0.1299, 0.0877, 0.2508, 0.0287, 0.1717, 0.2931, 0.0559, 0.3216, 0.0318, -0.0239, -0.1381, 0.117, -0.0393, 0.0036, 0.0192, 0.1542, -0.2257, -0.0314, 0.0614, -0.0918, -0.1369, -0.0967, -0.4073, -0.1572, 1.8474, 1.8469, 1.7822, 1.7559, 1.7549, 1.7458, 1.72, 1.7144, 1.7095, 1.7053, 1.6864, 1.6769, 1.6764, 1.6745, 1.674, 1.6674, 1.6673, 1.6647, 1.6559, 1.6528, 1.6443, 1.6402, 1.6379, 1.6366, 1.6314, 1.6304, 1.6147, 1.6085, 1.6073, 1.6017, 1.5995, 1.5644, 1.5951, 1.5074, 1.5588, 1.572, 1.5195, 1.5734, 1.4693, 1.4692, 1.5365, 1.2249, 1.1011, 1.0135, 1.33, 1.2558, 1.3049, 1.4293, 1.4417, 1.0239, 1.0551, 1.0998, 0.8253, 0.5275, 0.7237, 0.573, 0.5248, 0.4277, 0.7349, 0.5448, 0.7761, 0.3976, 0.2401, 0.3564, 0.2672, 0.3869, 0.3734, 0.0437, 0.1433, 0.2281, 0.0406, 0.1525, 0.0474, 0.0322, 0.0594, 0.2574, 0.3067, 0.1165, 0.0135, 0.2349, -0.1372, 0.1342, 0.0375, 0.0733, -0.0028, 0.1895, 0.0988, -0.064, -0.0867, -0.0433, 2.0905, 2.0375, 2.0349, 2.0228, 2.0189, 2.0166, 1.9977, 1.9918, 1.9844, 1.9813, 1.9487, 1.9482, 1.9442, 1.9409, 1.9361, 1.9334, 1.9313, 1.9248, 1.9223, 1.9217, 1.9108, 1.9087, 1.9054, 1.9023, 1.8943, 1.8837, 1.8837, 1.8778, 1.8725, 1.8694, 1.8678, 1.8641, 1.851, 1.8661, 1.8342, 1.812, 1.814, 1.7248, 1.8185, 1.6984, 1.6661, 1.7236, 1.6654, 1.4199, 1.7188, 1.646, 1.0923, 1.6768, 1.6063, 1.3641, 1.6761, 0.7045, 1.3381, 1.5187, 0.9918, 0.5726, 0.9361, 0.919, 0.3257, 0.6789, 0.9948, 0.8662, 0.3193, 0.4011, 0.4016, 0.288, 0.2597, 0.4259, 0.1026, 0.3266, 0.1927, 0.2637, 0.1762, 0.0284, 0.2396, 0.2766, -0.0049, 0.0785, -0.0609, 0.1871, 0.0137, 0.0972, 0.1701, -0.0814, 0.2515, -0.016, 0.2117, 0.0001, 0.0852, 0.082, -0.0512, 0.0195, 0.1009, 2.1708, 2.1317, 2.1017, 2.066, 2.025, 2.0118, 1.9946, 1.9859, 1.9811, 1.9698, 1.9637, 1.9397, 1.9395, 1.9352, 1.927, 1.925, 1.9238, 1.9224, 1.9214, 1.9207, 1.9204, 1.9159, 1.9109, 1.9105, 1.9104, 1.9032, 1.9029, 1.9028, 1.9014, 1.8911, 1.8376, 1.836, 1.885, 1.8064, 1.7977, 1.848, 1.7697, 1.7943, 1.8298, 1.6873, 1.6968, 1.8288, 1.625, 1.7435, 1.8422, 1.7513, 1.6368, 1.6631, 1.5829, 1.7841, 1.8107, 1.3684, 1.2295, 1.6604, 1.1523, 1.1914, 1.4603, 1.481, 1.5095, 1.2725, 1.0774, 0.921, 1.2878, 0.6658, 0.9606, 0.5919, 0.8695, 0.6644, 1.1035, 0.7618, 0.873, 0.3274, 0.7083, 0.385, 0.1781, 0.0805, 0.0026, -0.0329, 0.3001, 0.2399, -0.1222, -0.1793, 0.163, -0.0604, 0.2438, 0.2858, 0.0599, -0.021, -0.3487, 0.0125, -0.1527, -0.2759, -0.0415, 0.008, 0.1934, -0.1437, -0.2837, -0.3151, -0.1747, 2.259, 2.1578, 2.1526, 2.1034, 2.0593, 2.0476, 2.0426, 2.0363, 2.014, 2.0139, 2.0136, 2.013, 2.013, 1.9433, 1.943, 1.9421, 1.9191, 1.9163, 1.9146, 1.9089, 1.8968, 1.8856, 1.8798, 1.8682, 1.8649, 1.8577, 1.8551, 1.8524, 1.8487, 1.8416, 1.8291, 1.8257, 1.8157, 1.8134, 1.7024, 1.6669, 1.7761, 1.7153, 1.1449, 1.7747, 1.7783, 1.7973, 1.5725, 1.3262, 1.5568, 1.47, 0.9743, 0.7779, 1.2436, 1.5364, 1.1609, 1.4234, 0.772, 0.5155, 1.139, 0.8226, 1.027, 0.4415, 0.9994, 0.8654, 1.1045, 0.1144, 0.2635, 0.1094, 0.7836, 0.122, -0.0049, 0.1647, 0.1377, 0.3286, 0.2648, 0.1061, 0.4488, 0.3553, -0.129, -0.0505, 0.1857, 0.1706, -0.1266, 0.0262, -0.0252, -0.1498, -0.1117, -0.061, -0.1057, -0.0814, -0.0408, 0.0634, 0.0419, -0.0361, 0.0274, -0.1161, 2.156, 2.1212, 2.0981, 2.0866, 2.0613, 2.0059, 1.9869, 1.9604, 1.9578, 1.9558, 1.9543, 1.95, 1.9478, 1.9407, 1.9343, 1.9264, 1.9243, 1.9104, 1.9043, 1.8883, 1.8859, 1.8766, 1.8764, 1.8414, 1.8401, 1.8371, 1.837, 1.8364, 1.8348, 1.8308, 1.8238, 1.8184, 1.8296, 1.7571, 1.8117, 1.7457, 1.7896, 1.6443, 1.5792, 1.624, 1.6528, 1.5776, 1.5825, 1.4505, 1.2925, 1.3468, 1.3666, 1.6176, 1.4674, 0.7489, 0.5618, 0.3436, 0.8482, 0.4318, 0.9891, 0.8787, 0.6297, 0.4764, 1.1186, 0.236, 1.0576, 0.3461, 0.207, 0.0848, 0.2166, 0.1284, 0.6028, 0.0168, 0.3373, -0.0201, 0.0994, 0.0692, 0.3044, 0.1973, 0.292, 0.2265, 0.2321, 0.1501, 0.0532, 0.1095, -0.1355, 0.2026, 0.186, 0.0324, -0.0013, -0.1395, -0.2149, -0.0452, 0.0298, -0.0663, -0.073, -0.2852, 2.4542, 2.4421, 2.3334, 2.275, 2.2477, 2.2396, 2.2349, 2.2133, 2.2131, 2.2007, 2.1927, 2.1906, 2.1881, 2.1871, 2.1822, 2.1819, 2.1811, 2.1792, 2.1738, 2.1597, 2.1564, 2.1558, 2.1506, 2.1444, 2.1375, 2.1342, 2.129, 2.1243, 2.1169, 2.1115, 2.0987, 2.0971, 2.083, 2.0852, 2.0481, 2.062, 2.0412, 1.936, 2.0267, 2.0393, 1.9771, 1.9371, 1.7391, 1.9332, 1.8049, 1.6506, 1.7086, 1.8598, 1.6111, 1.5675, 1.3547, 1.7701, 1.1554, 0.8657, 1.2942, 1.582, 1.2798, 0.6866, 1.5185, 1.4183, 0.7839, 1.1577, 0.8527, 1.4905, 0.3, 1.2279, 0.211, 0.2325, 0.9051, 0.3004, 0.3487, 0.2289, 0.7354, 0.6934, 1.0974, 0.3396, 0.2711, 0.1016, 0.2406, 0.1794, 0.3796, -0.0645, 0.2495, 0.3443, 0.1534, 0.0706, 0.3855, 0.1032, -0.2512, 0.3321, -0.0768, -0.1993, 0.0673, -0.1624, -0.2304, 0.0529, -0.2104]}, \"token.table\": {\"Topic\": [1, 2, 3, 4, 5, 6, 7, 8, 1, 2, 3, 4, 7, 8, 1, 2, 3, 4, 5, 6, 7, 8, 4, 5, 7, 1, 3, 4, 7, 8, 4, 5, 6, 7, 4, 5, 6, 7, 2, 3, 4, 5, 7, 8, 2, 7, 1, 2, 3, 4, 5, 6, 7, 8, 1, 2, 3, 4, 5, 6, 7, 8, 1, 2, 3, 4, 5, 6, 7, 8, 7, 8, 1, 2, 3, 4, 5, 6, 7, 8, 1, 2, 3, 4, 5, 6, 7, 8, 1, 2, 3, 4, 5, 6, 7, 1, 3, 4, 1, 2, 3, 4, 5, 6, 7, 8, 1, 2, 3, 4, 5, 6, 7, 8, 1, 2, 3, 4, 5, 7, 8, 1, 1, 2, 3, 4, 5, 6, 7, 8, 1, 3, 1, 2, 3, 4, 5, 6, 8, 8, 8, 1, 3, 4, 6, 7, 8, 1, 2, 3, 4, 5, 6, 7, 8, 1, 2, 3, 4, 5, 6, 7, 8, 1, 2, 3, 4, 5, 6, 7, 8, 1, 2, 3, 4, 5, 6, 7, 8, 1, 5, 8, 4, 7, 1, 2, 3, 4, 5, 6, 7, 8, 1, 2, 3, 4, 5, 6, 7, 8, 1, 2, 3, 4, 5, 6, 7, 8, 1, 2, 3, 4, 5, 6, 7, 8, 1, 2, 3, 4, 5, 7, 2, 3, 4, 5, 8, 1, 2, 3, 4, 5, 6, 7, 8, 4, 6, 2, 4, 5, 6, 2, 3, 6, 7, 1, 2, 3, 4, 5, 6, 7, 8, 1, 4, 6, 7, 1, 2, 3, 4, 5, 6, 7, 8, 1, 2, 3, 4, 5, 6, 7, 8, 7, 4, 5, 1, 2, 3, 4, 5, 6, 7, 8, 1, 2, 3, 4, 5, 6, 7, 8, 3, 1, 2, 3, 4, 5, 6, 7, 8, 1, 1, 2, 4, 5, 6, 8, 1, 2, 3, 4, 5, 6, 7, 8, 1, 2, 3, 4, 5, 6, 7, 8, 2, 4, 6, 8, 6, 1, 2, 3, 6, 7, 1, 7, 1, 2, 3, 4, 5, 7, 8, 1, 2, 3, 4, 5, 6, 7, 8, 1, 2, 3, 4, 5, 6, 7, 8, 1, 2, 3, 4, 5, 6, 7, 8, 1, 2, 3, 4, 5, 6, 7, 8, 5, 1, 2, 3, 4, 5, 6, 7, 8, 1, 2, 3, 4, 5, 6, 7, 8, 1, 2, 3, 4, 5, 6, 7, 8, 1, 2, 3, 4, 5, 6, 7, 8, 5, 7, 8, 1, 2, 3, 4, 6, 1, 1, 2, 3, 4, 5, 6, 7, 8, 1, 2, 3, 4, 5, 6, 7, 8, 1, 2, 3, 4, 5, 6, 7, 8, 6, 1, 2, 3, 4, 5, 6, 7, 8, 1, 2, 3, 4, 5, 6, 7, 8, 1, 2, 3, 4, 5, 6, 7, 8, 2, 4, 6, 7, 1, 2, 3, 4, 5, 6, 7, 8, 2, 3, 5, 6, 8, 1, 2, 3, 4, 5, 6, 7, 8, 1, 2, 3, 4, 5, 6, 7, 8, 1, 2, 3, 4, 5, 6, 7, 1, 4, 7, 1, 2, 3, 4, 5, 6, 7, 8, 1, 3, 4, 7, 1, 4, 7, 1, 3, 4, 7, 8, 1, 2, 3, 4, 5, 6, 7, 8, 1, 2, 3, 4, 5, 6, 7, 8, 1, 2, 3, 4, 5, 6, 7, 8, 1, 2, 3, 4, 5, 6, 7, 8, 1, 2, 3, 4, 5, 6, 7, 8, 6, 3, 6, 7, 5, 1, 2, 3, 4, 5, 6, 7, 8, 1, 2, 3, 4, 6, 8, 1, 3, 6, 2, 4, 4, 6, 7, 8, 1, 2, 3, 4, 5, 6, 7, 8, 7, 1, 2, 3, 4, 5, 6, 7, 8, 1, 8, 1, 2, 3, 4, 5, 6, 7, 8, 1, 2, 3, 4, 5, 6, 7, 8, 1, 2, 3, 4, 5, 6, 7, 8, 1, 7, 1, 2, 3, 4, 5, 6, 7, 8, 1, 2, 3, 4, 5, 6, 7, 8, 1, 6, 1, 2, 3, 6, 7, 1, 2, 3, 4, 5, 6, 7, 8, 1, 1, 2, 3, 4, 5, 6, 7, 8, 4, 1, 2, 3, 4, 5, 6, 7, 8, 3, 1, 2, 3, 4, 5, 6, 7, 8, 1, 5, 1, 2, 3, 4, 5, 6, 7, 8, 1, 2, 3, 4, 5, 6, 7, 8, 1, 2, 3, 4, 5, 6, 7, 8, 1, 2, 3, 4, 5, 6, 7, 8, 2, 4, 6, 1, 3, 4, 6, 3, 5, 1, 7, 1, 2, 3, 4, 5, 7, 8, 1, 4, 5, 6, 7, 1, 2, 3, 4, 5, 6, 7, 1, 5, 6, 1, 2, 3, 4, 5, 6, 7, 8, 1, 2, 3, 4, 5, 6, 7, 8, 2, 1, 5, 7, 1, 3, 8, 4, 6, 1, 2, 3, 4, 5, 6, 7, 8, 8, 1, 2, 3, 5, 1, 2, 3, 4, 5, 6, 7, 8, 1, 2, 3, 4, 5, 6, 7, 8, 1, 2, 3, 4, 5, 6, 7, 8, 1, 2, 3, 5, 7, 8, 7, 1, 4, 5, 6, 7, 1, 2, 3, 4, 5, 6, 7, 8, 1, 5, 1, 2, 3, 4, 5, 6, 7, 8, 2, 6, 7, 1, 2, 3, 4, 5, 6, 7, 8, 1, 2, 3, 4, 5, 6, 7, 8, 1, 5, 6, 7, 2, 3, 4, 5, 6, 7, 8, 1, 2, 3, 4, 5, 6, 7, 8, 1, 2, 3, 4, 5, 6, 7, 8, 1, 2, 3, 4, 5, 6, 7, 8, 1, 2, 3, 4, 5, 6, 7, 8, 1, 2, 3, 4, 5, 6, 7, 8, 1, 2, 3, 4, 5, 6, 7, 1, 2, 3, 4, 5, 7, 1, 2, 6, 1, 2, 3, 4, 5, 6, 7, 8, 1, 2, 3, 4, 5, 6, 7, 8, 1, 2, 3, 4, 5, 6, 7, 8, 1, 2, 3, 4, 5, 6, 7, 8, 1, 2, 3, 4, 5, 6, 7, 8, 3, 4, 4, 5, 1, 2, 3, 4, 5, 6, 7, 1, 3, 4, 5, 6, 7, 8, 2, 2, 6, 1, 2, 3, 4, 5, 6, 7, 8, 6, 1, 2, 3, 4, 5, 6, 7, 8, 1, 2, 3, 4, 5, 6, 7, 1, 2, 3, 4, 5, 6, 7, 8, 1, 2, 3, 5, 6, 8, 1, 2, 3, 6, 7, 8, 2, 3, 4, 7, 8, 2, 3, 1, 2, 3, 6, 7, 8, 1, 2, 3, 5, 8, 1, 2, 3, 4, 5, 6, 7, 8, 1, 5, 2, 2, 3, 4, 5, 6, 7, 1, 5, 1, 2, 3, 4, 5, 6, 7, 8, 1, 4, 5, 6, 7, 1, 2, 3, 4, 5, 6, 7, 8, 1, 2, 3, 4, 5, 6, 7, 8, 1, 2, 4, 6, 7, 1, 4, 7, 5, 5, 2, 2, 4, 7, 1, 2, 5, 6, 7, 1, 3, 6, 1, 2, 3, 4, 5, 6, 7, 8, 1, 2, 3, 4, 5, 6, 7, 8, 1, 2, 3, 4, 5, 7, 8, 6, 2, 4, 1, 2, 3, 4, 5, 6, 7, 8, 7, 8, 1, 2, 3, 4, 5, 6, 7, 8, 1, 2, 3, 4, 6, 7, 1, 2, 3, 4, 5, 6, 7, 8, 1, 2, 3, 4, 5, 6, 7, 8, 1, 2, 3, 4, 5, 6, 7, 2, 8, 1, 2, 3, 4, 5, 6, 7, 8, 6, 1, 2, 3, 4, 5, 6, 7, 8, 1, 2, 3, 4, 5, 6, 7, 8, 7, 4, 8, 7, 8, 1, 4, 5, 6, 7, 5, 6, 5, 1, 2, 3, 4, 5, 6, 7, 8, 1, 2, 3, 4, 5, 6, 7, 8, 2, 3, 4, 1, 2, 3, 4, 5, 6, 7, 8, 1, 6, 1, 2, 3, 4, 5, 6, 7, 8, 3, 7, 1, 2, 3, 4, 5, 6, 7, 8, 1, 2, 3, 4, 5, 6, 7, 8, 1, 2, 3, 4, 5, 6, 7, 8, 3, 1, 2, 3, 4, 5, 6, 7, 8, 1, 2, 3, 6, 7, 8, 1, 2, 3, 4, 5, 6, 7, 8, 1, 3, 7, 8, 1, 4, 6, 1, 6, 2, 2, 1, 6, 1, 2, 3, 4, 5, 6, 7, 8, 1, 2, 3, 4, 5, 6, 7, 8, 1, 2, 4, 6, 7, 8, 1, 2, 3, 4, 5, 6, 7, 8, 3, 1, 2, 3, 4, 5, 6, 7, 1, 1, 6, 1, 2, 3, 4, 5, 7, 8, 2, 3, 4, 5, 6, 7, 1, 2, 3, 4, 5, 6, 7, 8, 1, 2, 3, 4, 5, 6, 7, 8, 1, 2, 3, 4, 5, 6, 7, 8, 1, 2, 3, 4, 6, 7, 8, 1, 2, 3, 4, 6, 7, 1, 5, 1, 4, 5, 8, 1, 2, 3, 4, 5, 6, 7, 8, 5, 1, 4, 1, 2, 3, 4, 5, 6, 7, 8, 1, 8, 1, 2, 3, 4, 5, 6, 7, 8, 1, 2, 3, 4, 5, 6, 7, 8, 1, 2, 3, 4, 5, 6, 7, 8, 1, 2, 3, 4, 5, 6, 7, 8, 1, 2, 4, 5, 6, 7, 8, 1, 2, 4, 5, 6, 7, 8, 1, 2, 4, 5, 7, 8, 1, 2, 3, 4, 5, 6, 7, 8, 1, 2, 3, 4, 5, 6, 7, 8, 3, 2, 2, 3, 4, 5, 6, 7, 1, 2, 3, 4, 5, 6, 7, 8, 1, 2, 3, 4, 5, 6, 7, 1, 2, 3, 5, 6, 7, 8, 6, 5, 1, 2, 3, 4, 5, 6, 7, 8, 1, 2, 3, 4, 5, 6, 7, 8, 1, 2, 3, 4, 5, 6, 7, 8, 1, 2, 3, 4, 5, 6, 7, 8, 1, 2, 3, 4, 5, 6, 7, 8, 1, 2, 3, 4, 5, 6, 7, 8, 1, 2, 3, 4, 5, 6, 7, 8, 1, 2, 3, 4, 6, 7, 7, 5, 6, 7, 1, 1, 2, 3, 4, 5, 6, 7, 8, 1, 2, 3, 4, 5, 6, 7, 8, 1, 2, 3, 4, 5, 6, 7, 8, 2, 1, 2, 3, 5, 4, 3, 4, 1, 2, 3, 4, 5, 6, 7, 8, 8, 1, 3, 4, 5, 7, 8, 1, 2, 3, 4, 5, 6, 7, 8, 1, 2, 3, 4, 5, 6, 7, 4, 7, 1, 6, 1, 2, 3, 4, 5, 6, 7, 8, 1, 2, 3, 4, 5, 6, 7, 8, 1, 2, 3, 4, 5, 6, 7, 8, 1, 2, 3, 4, 5, 6, 7, 8, 2, 3, 1, 2, 3, 4, 6, 7, 8, 1, 2, 3, 4, 5, 6, 7, 8, 1, 2, 3, 4, 5, 6, 7, 8, 1, 2, 3, 4, 5, 6, 7, 8, 1, 2, 3, 4, 5, 6, 7, 8, 1, 2, 3, 4, 5, 1, 2, 3, 4, 5, 6, 7, 8, 2, 3, 5, 6, 1, 2, 3, 4, 5, 6, 7, 8, 8, 1, 2, 3, 4, 5, 6, 7, 8, 1, 2, 3, 5, 7, 1, 2, 3, 6, 1, 2, 3, 4, 5, 6, 7, 8, 1, 2, 3, 4, 5, 6, 7, 8, 2, 1, 5, 1, 5, 1, 2, 3, 4, 5, 6, 7, 8, 1, 2, 3, 4, 5, 6, 7, 8, 1, 7, 8, 1, 2, 3, 4, 5, 6, 7, 8, 3, 7, 8, 2, 5, 7, 8, 1, 2, 3, 4, 5, 6, 7, 8, 5, 7, 1, 2, 3, 4, 5, 6, 7, 8, 3, 2, 8, 3, 8, 3, 1, 7, 8, 1, 2, 3, 4, 5, 6, 7, 8, 1, 2, 3, 4, 5, 6, 7, 8, 1, 2, 3, 5, 6, 1, 5, 8, 1, 2, 3, 4, 5, 6, 7, 8, 1, 2, 3, 4, 5, 6, 7, 1, 2, 3, 4, 5, 6, 7, 8, 1, 2, 3, 4, 5, 6, 7, 8, 1, 3, 4, 5, 6, 7, 8, 1, 4, 5, 6, 1, 2, 3, 4, 5, 6, 7, 8, 1, 2, 4, 5, 6, 7, 8, 1, 2, 3, 5, 7, 1, 2, 3, 4, 5, 6, 7, 8, 1, 2, 3, 4, 5, 7, 8, 1, 1, 2, 3, 4, 5, 6, 7, 8, 6, 1, 2, 3, 4, 6, 7, 8, 5, 2, 3, 5, 8, 1, 2, 3, 4, 5, 6, 7, 8, 1, 2, 3, 4, 5, 6, 7, 8, 1, 2, 3, 4, 5, 6, 7, 8, 1, 2, 3, 4, 5, 6, 7, 8, 1, 2, 3, 5, 6, 1, 2, 3, 4, 5, 6, 7, 8, 1, 2, 3, 4, 5, 6, 7, 8, 1, 5, 1, 2, 3, 4, 5, 6, 7, 8, 1, 2, 3, 4, 5, 6, 7, 8, 1, 2, 3, 4, 5, 6, 7, 8, 1, 2, 3, 4, 5, 6, 7, 1, 2, 3, 4, 5, 6, 7, 8, 1, 2, 3, 4, 5, 6, 7, 8, 1, 2, 3, 6, 7, 8, 1, 2, 3, 4, 5, 6, 7, 8, 1, 2, 3, 4, 5, 6, 7, 8, 1, 2, 3, 4, 5, 6, 7, 8, 1, 2, 3, 4, 5, 6, 7, 8, 1, 2, 3, 4, 5, 6, 7, 8, 1, 2, 7, 1, 2, 3, 5, 6, 7, 1, 2, 3, 4, 5, 6, 7, 8, 2, 3, 4, 2, 3, 1, 7, 1, 2, 3, 4, 5, 6, 7, 8, 1, 7, 8, 1, 2, 5, 6, 8, 1, 4, 5, 6, 1, 2, 3, 4, 5, 6, 7, 8, 1, 2, 3, 6, 7, 8, 1, 2, 3, 4, 5, 6, 7, 8, 1, 2, 4, 5, 6, 7, 8, 1, 4, 8, 4, 1, 2, 3, 7, 8, 1, 2, 3, 4, 5, 6, 7, 8, 4, 5, 1, 2, 4, 5, 1, 2, 3, 6, 8, 4, 1, 1, 2, 3, 4, 5, 6, 7, 8, 3, 8, 1, 2, 3, 4, 5, 6, 7, 8, 3, 8, 1, 2, 3, 4, 5, 6, 7, 8, 1, 4, 6, 7, 8, 1, 1, 2, 3, 4, 5, 6, 7, 8, 2, 4, 1, 2, 3, 4, 5, 6, 7, 8, 2, 1, 2, 3, 4, 5, 6, 7, 8, 1, 2, 6, 2, 3, 4, 5, 6, 7, 8, 3, 7, 5, 1, 2, 3, 4, 5, 6, 7, 8, 2, 3, 6, 7, 1, 2, 3, 4, 5, 6, 7, 8, 1, 2, 3, 4, 5, 6, 7, 8, 1, 7, 6, 1, 1, 2, 3, 4, 5, 7, 1, 2, 3, 4, 5, 6, 7, 8, 1, 2, 3, 4, 5, 6, 7, 8, 1, 2, 3, 4, 5, 6, 7, 8, 1, 2, 3, 4, 5, 6, 7, 1, 2, 3, 4, 5, 6, 7, 8, 4, 1, 2, 3, 4, 5, 6, 7, 8, 1, 1, 2, 3, 4, 5, 6, 7, 8, 1, 2, 8, 8, 1, 8, 1, 2, 3, 4, 5, 6, 7, 8, 1, 2, 3, 4, 5, 6, 7, 8, 1, 2, 3, 4, 5, 6, 7, 8, 1, 2, 4, 5, 6, 7, 8, 6, 7, 1, 2, 3, 4, 5, 6, 7, 8, 1, 2, 3, 4, 5, 6, 7, 8, 1, 2, 3, 4, 5, 6, 7, 8, 1, 2, 3, 4, 5, 6, 7, 8, 1, 2, 3, 4, 5, 6, 7, 8, 1, 2, 3, 4, 7, 8, 1, 2, 3, 4, 5, 6, 7, 8, 1, 2, 3, 4, 5, 6, 7, 8, 1, 3, 4, 6, 1, 2, 3, 4, 5, 6, 7, 8, 1, 2, 3, 4, 5, 6, 7, 8, 1, 2, 3, 4, 5, 6, 7, 8, 1, 2, 3, 4, 5, 6, 7, 8, 1, 2, 3, 1, 2, 3, 4, 5, 7, 1, 5, 7, 1, 4, 7, 1, 2, 3, 4, 5, 6, 7, 8, 1, 2, 3, 4, 5, 6, 7, 8, 1, 1, 2, 3, 4, 5, 7, 8, 1, 2, 3, 4, 5, 6, 7, 8, 1, 1, 2, 3, 4, 5, 6, 1, 3, 5, 6, 7, 1, 2, 3, 4, 5, 6, 7, 8, 1, 5, 2, 4, 5, 1, 2, 5, 7, 1, 4, 6, 7, 1, 2, 3, 4, 5, 6, 7, 8, 1, 2, 3, 4, 5, 6, 7, 8, 2, 1, 2, 4, 5, 6, 7, 7, 8, 6, 1, 1, 2, 3, 4, 5, 6, 7, 8, 1, 4, 5, 6, 7, 8, 1, 2, 3, 4, 5, 6, 7, 8, 6, 1, 2, 3, 4, 5, 6, 3, 4, 8, 1, 4, 5, 6, 7, 8, 6, 5, 8, 1, 1, 2, 3, 4, 5, 6, 7, 8, 1, 2, 3, 4, 5, 6, 7, 8, 5, 1, 2, 3, 4, 5, 6, 7, 8, 1, 2, 4, 2, 7, 1, 2, 3, 4, 7, 1, 2, 3, 4, 5, 6, 7, 8, 2, 4, 8, 1, 3, 5, 6, 7, 7, 2, 2, 6, 7, 1, 8, 1, 2, 4, 5, 6, 7, 1, 2, 3, 4, 5, 6, 7, 8, 1, 2, 3, 4, 5, 6, 7, 1, 2, 3, 4, 5, 6, 7, 8, 1, 2, 3, 6, 7, 1, 3, 8, 1, 2, 5, 6, 1, 2, 3, 4, 5, 6, 7, 8, 1, 2, 3, 4, 5, 6, 7, 8, 1, 2, 7, 8, 7, 1, 2, 3, 5, 7, 1, 2, 3, 4, 5, 7, 8, 1, 2, 3, 4, 5, 6, 7, 1, 2, 3, 4, 5, 6, 7, 8, 1, 2, 3, 4, 5, 6, 7, 8], \"Freq\": [0.24762865298424339, 0.1789653105938912, 0.10428015635754022, 0.12513618762904827, 0.15304214496416466, 0.06829615874120593, 0.0789444845664477, 0.04369485424840594, 0.01176380308937288, 0.03529140926811864, 0.19998465251933897, 0.04705521235749152, 0.5528987452005254, 0.14116563707247456, 0.6607740540207577, 0.02811804485194714, 0.03280438566060499, 0.01405902242597357, 0.15464924668570926, 0.018745363234631426, 0.08904047536449927, 0.004686340808657857, 0.14012409786614344, 0.7006204893307172, 0.14012409786614344, 0.04560300724306167, 0.03040200482870778, 0.5928390941598017, 0.1520100241435389, 0.1672110265578928, 0.06389920167780419, 0.12779840335560838, 0.5963925489928391, 0.19169760503341257, 0.04546416368860817, 0.15154721229536058, 0.6213435704109783, 0.16670193352489662, 0.0956712930205416, 0.0478356465102708, 0.0478356465102708, 0.0478356465102708, 0.6696990511437912, 0.1435069395308124, 0.15839141427347084, 0.6335656570938833, 0.09687504140316901, 0.07750003312253521, 0.07750003312253521, 0.03875001656126761, 0.6393752732609155, 0.019375008280633804, 0.019375008280633804, 0.019375008280633804, 0.10098840791723482, 0.5348346083296757, 0.10987538781395148, 0.03958745590355605, 0.06624839559370604, 0.040395363166893926, 0.04362699222024544, 0.0638246738036924, 0.029636275914164855, 0.5927255182832971, 0.16511639437891848, 0.008467507404047102, 0.021168768510117755, 0.004233753702023551, 0.03810378331821196, 0.14394762586880072, 0.1342089323146183, 0.6710446615730916, 0.13665082904131617, 0.09283911286013083, 0.45689361160378994, 0.042768580081633305, 0.060501893774017844, 0.04694112447984143, 0.0490273966789455, 0.11370183485117147, 0.17931377264354673, 0.17573562933455986, 0.18394909465746154, 0.11344340718265201, 0.09465815481047093, 0.0899415113577155, 0.08546883222148191, 0.07749933121510205, 0.02828833956921043, 0.037717786092280575, 0.02828833956921043, 0.06600612566149101, 0.6034845774764892, 0.11315335827684173, 0.12258280479991188, 0.1406090032981908, 0.0703045016490954, 0.703045016490954, 0.1502151947901693, 0.1033255919304342, 0.4194794411523606, 0.10360636799546255, 0.041835633689224716, 0.09995627915009396, 0.044362618274479904, 0.0370624405837427, 0.14368251907420665, 0.13263001760696, 0.11956797041839574, 0.037176595844375146, 0.11655365183641939, 0.3225320882714709, 0.08540569315599697, 0.043205233008327876, 0.7480376356365098, 0.0345248139524543, 0.08055789922239337, 0.046033085269939066, 0.011508271317484766, 0.046033085269939066, 0.0345248139524543, 0.9231408050106773, 0.13902916436394533, 0.059583927584548, 0.01986130919484933, 0.655423203430028, 0.07944523677939733, 0.01986130919484933, 0.01986130919484933, 0.01986130919484933, 0.12369952068816649, 0.7421971241289989, 0.05722110569184888, 0.25340775377818786, 0.07356999303237713, 0.01634888734052825, 0.008174443670264125, 0.008174443670264125, 0.588559944259017, 0.995043658634766, 0.9788297643938794, 0.026619243032048077, 0.8518157770255385, 0.026619243032048077, 0.026619243032048077, 0.026619243032048077, 0.026619243032048077, 0.13006975810646929, 0.16311966841020228, 0.2265754961933697, 0.07674923614978, 0.06720148428425714, 0.1568769075750527, 0.11787801341664776, 0.06161972165518222, 0.18357355076226564, 0.08595417092547555, 0.4236312709898438, 0.04666083564525816, 0.11481021402188521, 0.08718208765298235, 0.04666083564525816, 0.011051250547561143, 0.15071617120197675, 0.27252184023570675, 0.06097621142592146, 0.08563085286889331, 0.12253943812429463, 0.09715102759075814, 0.09054710577567639, 0.11989786939826193, 0.18504053253277958, 0.17234079564556126, 0.14327449643185738, 0.10696398110643035, 0.09623180908906276, 0.131469107212753, 0.08737776717473449, 0.07736107329185807, 0.020426186756187976, 0.7149165364665792, 0.22468805431806774, 0.7092515394861081, 0.2364171798287027, 0.18082982077151386, 0.10638927617829348, 0.127155951708591, 0.07316259532981743, 0.24920010636357032, 0.053354381747072105, 0.14408877944867976, 0.06581438706525063, 0.08644087067277786, 0.025423785491993492, 0.08389849212357851, 0.04576281388558828, 0.4474586246590854, 0.03050854259039219, 0.23644120507553945, 0.04576281388558828, 0.08428499670143655, 0.01774420983188138, 0.00887210491594069, 0.04436052457970345, 0.5944310293680263, 0.00887210491594069, 0.2173665704405469, 0.022180262289851725, 0.1528197211799476, 0.129905784237972, 0.12377134442673442, 0.09490339237385176, 0.12286922092508185, 0.11204373890525084, 0.18168767323283028, 0.08209323865038508, 0.13409968494110894, 0.11621972694896107, 0.14303966393718287, 0.026819936988221788, 0.10727974795288715, 0.47381888679191825, 0.7661390697100614, 0.031922461237919225, 0.031922461237919225, 0.09576738371375768, 0.06384492247583845, 0.14035805215673736, 0.2805902226523476, 0.17484962730556788, 0.06847962365315258, 0.1069994119580509, 0.0833336596661526, 0.08031249979910174, 0.06495493714159326, 0.7286323731086239, 0.23680552126030277, 0.039995881079582934, 0.7199258594324929, 0.039995881079582934, 0.15998352431833174, 0.22885471244077363, 0.0403861257248424, 0.24231675434905445, 0.4846335086981089, 0.7052015202783997, 0.022211071504831488, 0.08329151814311808, 0.02776383938103936, 0.005552767876207872, 0.06663321451449446, 0.044422143009662976, 0.044422143009662976, 0.750498717088201, 0.5762489677227627, 0.10673014463840136, 0.7471110124688095, 0.00984644238284009, 0.18314382832082568, 0.0059078654297040544, 0.001969288476568018, 0.5356464656265009, 0.05120150039076847, 0.00984644238284009, 0.20283671308650586, 0.18989303639093347, 0.16457396487214235, 0.018989303639093347, 0.03797860727818669, 0.012659535759395565, 0.46840282309763587, 0.05696791091728004, 0.05696791091728004, 0.6128101024083129, 0.8276213775816295, 0.05911581268440211, 0.08281461400759098, 0.0686178230348611, 0.21531799641973656, 0.040224241089401334, 0.059153295719707844, 0.0851807458363793, 0.03075971377424808, 0.4164392018667432, 0.18348960312364984, 0.11655334484129799, 0.07161711550489394, 0.2691492902961701, 0.11982994489707746, 0.085191601450266, 0.07817031561645287, 0.07489371556067341, 0.8265758264992921, 0.2589207078115908, 0.13627405674294252, 0.13861855664389638, 0.10257187066673093, 0.08117830907052706, 0.1097519016134021, 0.08000605912005013, 0.09260774608767708, 0.8027087182663684, 0.17434878766492004, 0.03486975753298401, 0.03486975753298401, 0.10460927259895203, 0.5927858780607281, 0.03486975753298401, 0.20131668986059972, 0.12320858960941677, 0.17207571324372287, 0.08137912475408783, 0.08861502744233193, 0.0918860519452368, 0.11666654060360704, 0.12479454088355246, 0.09516437421249865, 0.13860897983124804, 0.04827178402083265, 0.059305334654165834, 0.3296273251708287, 0.0965435680416653, 0.07826924980520723, 0.15412491040937282, 0.038093824402698276, 0.038093824402698276, 0.07618764880539655, 0.7999703124566637, 0.7068233835033282, 0.04935686992723829, 0.04935686992723829, 0.7650314838721934, 0.024678434963619145, 0.09871373985447658, 0.15872104147334962, 0.7936052073667481, 0.11206471200981384, 0.016809706801472077, 0.011206471200981385, 0.005603235600490693, 0.8236756332721318, 0.02801617800245346, 0.005603235600490693, 0.20365205520893379, 0.041070485122418246, 0.19122627149355245, 0.21359268218123884, 0.040939687399098444, 0.08979263705904499, 0.12013770886923936, 0.09953706744637034, 0.13603088867765337, 0.11921808221187599, 0.05043841939733215, 0.16812806465777383, 0.09170621708605844, 0.038210923785857685, 0.29651676857825565, 0.1008768387946643, 0.04984770550047477, 0.6978678770066468, 0.04984770550047477, 0.02136330235734633, 0.03560550392891055, 0.11393761257251377, 0.02136330235734633, 0.01424220157156422, 0.11055586641451833, 0.02456797031433741, 0.02456797031433741, 0.030709962892921758, 0.19961475880399143, 0.015354981446460879, 0.0767749072323044, 0.5189983728903778, 0.6335081191344353, 0.03877446126345675, 0.041757112129876504, 0.11334073292395051, 0.1372019398553085, 0.548807759421234, 0.053687715595555505, 0.026843857797777752, 0.041757112129876504, 0.14188391113481083, 0.1865717571615229, 0.04468784602671208, 0.06144578828672911, 0.10501643816277338, 0.30387735298164215, 0.02234392301335604, 0.13406353808013624, 0.13467523840957277, 0.2569665468504492, 0.04373075270195897, 0.0286378380526103, 0.1578951071008784, 0.22097575037892542, 0.09055748789609203, 0.06656362358174285, 0.16169039202853144, 0.22686732621553685, 0.14332855492346125, 0.10766713575245712, 0.0960582056818962, 0.10364574167572686, 0.0823247655330627, 0.07837924681627076, 0.09658084593623324, 0.09658084593623324, 0.6760659215536327, 0.7783825728922144, 0.07532734576376268, 0.02510911525458756, 0.02510911525458756, 0.05021823050917512, 0.8046760746269359, 0.12189391558622469, 0.2243257774233883, 0.04199706335323708, 0.0512159309185818, 0.05326456815532508, 0.0993589059820487, 0.3523656047198428, 0.05531320539206835, 0.11210120220250096, 0.3219114154254916, 0.11574479490680759, 0.10766816441226121, 0.08744622490335936, 0.044148198267182116, 0.08993601325130222, 0.12102800432805222, 0.09578141641405734, 0.11630600564564106, 0.020524589231583717, 0.06157376769475115, 0.17103824359653097, 0.4789070820702867, 0.020524589231583717, 0.041049178463167434, 0.974537481528448, 0.036643193712820724, 0.09097620508010662, 0.5180589455950516, 0.05812368657895701, 0.03222073929920443, 0.1971151110068977, 0.018953376058355547, 0.04801521934783405, 0.17365580061081096, 0.15504171479370443, 0.16351642053157406, 0.1341576185110971, 0.08906007726314792, 0.10744716203370439, 0.10457181544407004, 0.07248900086499212, 0.10361556544553065, 0.11481724819639882, 0.1190178792279744, 0.04900736203504828, 0.04200631031575567, 0.08961346200694542, 0.12881935163498404, 0.3528530066523476, 0.04285026254142797, 0.1714010501657119, 0.6856042006628476, 0.08570052508285594, 0.06968634956695313, 0.0557490796535625, 0.02787453982678125, 0.013937269913390626, 0.013937269913390626, 0.7526125753230938, 0.02787453982678125, 0.02787453982678125, 0.026273476036737665, 0.8407512331756053, 0.026273476036737665, 0.026273476036737665, 0.078820428110213, 0.2596708547504596, 0.205964747612482, 0.14266826419986559, 0.03781348359714748, 0.1263189560745289, 0.06375316799712304, 0.08576536497034173, 0.07800172703372933, 0.16703162257065662, 0.12899038915796782, 0.4578065676216688, 0.06252754457487932, 0.029296122283335065, 0.03366867784801194, 0.10450407799577732, 0.016178455589304436, 0.08366710548828599, 0.05020026329297159, 0.06693368439062879, 0.6526034228086307, 0.016733421097657197, 0.08366710548828599, 0.06693368439062879, 0.8123897014279643, 0.058027835816283166, 0.058027835816283166, 0.02611652131655217, 0.19152115632138256, 0.00870550710551739, 0.5223304263310434, 0.10446608526620868, 0.01741101421103478, 0.10446608526620868, 0.02611652131655217, 0.06037719329273427, 0.12075438658546854, 0.7245263195128112, 0.06037719329273427, 0.15748332529549927, 0.07874166264774964, 0.6299333011819971, 0.1015079173164016, 0.033835972438800536, 0.1015079173164016, 0.06767194487760107, 0.7105554212148113, 0.12367959762379292, 0.11797130850269479, 0.17061441928615537, 0.03932376950089826, 0.04439780427520772, 0.0621569259852908, 0.1306563954384684, 0.3114188842732427, 0.24914099787010252, 0.12821236509582112, 0.14305997328972905, 0.06069776934616441, 0.10766850470173471, 0.08805845614374314, 0.10262592078682259, 0.12046172685623398, 0.1951051423362705, 0.0730509951538129, 0.11660935251260818, 0.26452627437685045, 0.04718822047202821, 0.08031072138027878, 0.07078233070804232, 0.15245425075578345, 0.012051150974456444, 0.31533845049827697, 0.006025575487228222, 0.008034100649637629, 0.012051150974456444, 0.11850298458215504, 0.05824722970987281, 0.4720034131662107, 0.1745128503543655, 0.08319798679684867, 0.22930176848887562, 0.01826297271150337, 0.014204534331169286, 0.02637984947217153, 0.06290579489517827, 0.38961008451207185, 0.6232898895834966, 0.04329468645025992, 0.6494202967538988, 0.2814154619266895, 0.7325925643394763, 0.08746750101992369, 0.2825873109874458, 0.04036961585534939, 0.026913077236899594, 0.013456538618449797, 0.4844353902641927, 0.04036961585534939, 0.020184807927674697, 0.027486721029074734, 0.027486721029074734, 0.17866368668898577, 0.09620352360176157, 0.013743360514537367, 0.6459379441832562, 0.08568243403703556, 0.77114190633332, 0.08568243403703556, 0.13844254178276064, 0.8306552506965639, 0.6791209881666725, 0.04850864201190518, 0.14552592603571554, 0.09701728402381037, 0.21909652424104475, 0.10777123878459788, 0.2624767997944959, 0.0890602283651575, 0.0896874130719544, 0.10003596073410298, 0.0642864324466806, 0.06763141754959731, 0.7909085491460616, 0.11976688382671796, 0.15095617648992576, 0.11602416870713303, 0.17122921672101085, 0.09387977091625549, 0.05520504801387781, 0.08171594677760445, 0.21115151132991683, 0.07416948284586392, 0.8900337941503671, 0.49628222394166127, 0.07795008753010386, 0.06867031520509151, 0.06607197895408803, 0.06273126091708359, 0.09205534146412266, 0.05716339752207617, 0.07869246931610485, 0.04467410327952989, 0.6909594640567289, 0.04765237683149855, 0.014891367759843297, 0.0953047536629971, 0.011913094207874637, 0.023826188415749273, 0.06850029169527916, 0.09795357702593702, 0.19722417693625638, 0.3139453300646418, 0.07704583873636726, 0.039181430810374805, 0.07457642082815037, 0.09663655414155467, 0.10355092428456199, 0.9148618503405196, 0.07623848752837663, 0.035802002887781716, 0.10740600866334514, 0.035802002887781716, 0.07160400577556343, 0.035802002887781716, 0.035802002887781716, 0.035802002887781716, 0.7160400577556343, 0.10084003839584962, 0.05778474110323967, 0.12803285773855064, 0.046454399710447576, 0.10877127737080408, 0.07478025319242781, 0.03739012659621391, 0.44528241673672925, 0.8118266433981571, 0.10147833042476964, 0.14481626392487063, 0.04827208797495688, 0.04827208797495688, 0.6758092316493963, 0.04827208797495688, 0.17524612770641437, 0.17772356552369256, 0.10483473711008717, 0.10965922128057626, 0.1300002896750708, 0.14395217633026897, 0.08814462970947629, 0.07054178206039448, 0.981599889426587, 0.251274843153863, 0.22234999130871602, 0.11617015542146748, 0.0767319306633466, 0.07840570147536234, 0.09488188290614229, 0.10685980527962992, 0.05329913929512623, 0.853893246039808, 0.1006917444960396, 0.05305263957318215, 0.13209024546792292, 0.07578948510454593, 0.3713684770122751, 0.05630076036337698, 0.19055641969142978, 0.018406017811104014, 0.8259807824108428, 0.49231144272695804, 0.05057994274592034, 0.0775559122104112, 0.19557577861755865, 0.035405959922144244, 0.055637937020512375, 0.08261390648500323, 0.008429990457653391, 0.14368986885263632, 0.7184493442631816, 0.13865977390089032, 0.12714170961519336, 0.12530641365758233, 0.14081150019602054, 0.10543458846137987, 0.11891452083969554, 0.14903868897151837, 0.09467595698572887, 0.11983527377632686, 0.13062295717977848, 0.10846221220369569, 0.1304557062742986, 0.10294293232285999, 0.12142415737838562, 0.11657388111946938, 0.16967604360932811, 0.17732634454701626, 0.08095333120624656, 0.13607869483716684, 0.09406006102059124, 0.031995840429135544, 0.20700923265597335, 0.22589834327076422, 0.04664453845693254, 0.23408229023208596, 0.20962795927342345, 0.14788077360280066, 0.11221820762141788, 0.06697769534789226, 0.07947657561565309, 0.08633737402350007, 0.06337747440120028, 0.14242482363024625, 0.7121241181512313, 0.6163938358592755, 0.07737538610328422, 0.07737538610328422, 0.15475077220656844, 0.6190030888262738, 0.11154105787339229, 0.8365579340504421, 0.14427374245050723, 0.8295740190904165, 0.04019935611514677, 0.10719828297372473, 0.04019935611514677, 0.013399785371715591, 0.053599141486862366, 0.013399785371715591, 0.7369881954443575, 0.03454660449659444, 0.7427519966767805, 0.03454660449659444, 0.12091311573808054, 0.06909320899318888, 0.8242301413597708, 0.03924905435046527, 0.03924905435046527, 0.03924905435046527, 0.03924905435046527, 0.03924905435046527, 0.03924905435046527, 0.022848272696055102, 0.9139309078422041, 0.045696545392110204, 0.09386692966702832, 0.12173367441192735, 0.13053369906821127, 0.04656679713950233, 0.4092011465172016, 0.08800024656283906, 0.04803346791554965, 0.06196684028799917, 0.2567442409288596, 0.1509027375255338, 0.15177601725658435, 0.1368720431799884, 0.1019408539379667, 0.0736465906519291, 0.06700966469594499, 0.061129581173538, 0.7508197475437763, 0.9271678093741614, 0.03197130377152281, 0.03197130377152281, 0.08450160408007264, 0.7605144367206538, 0.08450160408007264, 0.6749756753844562, 0.16874391884611406, 0.23827254675504053, 0.16105886328335628, 0.1254217786041174, 0.12594076527420342, 0.07542606271916578, 0.13130362753175878, 0.09664685100712679, 0.04595915289539383, 0.7622378920390864, 0.049777500472751986, 0.7466625070912797, 0.11614750110308796, 0.06637000063033598, 0.11111666249244163, 0.3517083925847718, 0.028020723585050502, 0.029953187280571225, 0.21141152828996723, 0.08657437355932844, 0.09121228642857818, 0.09024605458081782, 0.21568657591972462, 0.1409048756098435, 0.1596197144205199, 0.11698715629993345, 0.09213757779613078, 0.08887607061750669, 0.07804320748850523, 0.10774621929383184, 0.11538335781477847, 0.2775647827201367, 0.053578784650022374, 0.03757184483756756, 0.2023099337407484, 0.11149278216591793, 0.07647760132617303, 0.12561001380606907, 0.008644730472502306, 0.034578921890009225, 0.1469604180325392, 0.10373676567002767, 0.034578921890009225, 0.6656442463826776, 0.7917592005691747, 0.06897914249612991, 0.06897914249612991, 0.6438053299638792, 0.022993047498709968, 0.18394437998967975, 0.15390444802334596, 0.03206342667153041, 0.5343904445255068, 0.04488879734014257, 0.15817957157955, 0.01496293244671419, 0.05130148267444865, 0.00855024711240811, 0.20179449280748182, 0.6053834784224456, 0.1345305620915326, 0.23668092531453103, 0.1500486196624905, 0.08040064473771885, 0.13000955319290708, 0.10129503721515035, 0.06695980747153485, 0.09995095348853195, 0.2856697027099929, 0.6801659588333165, 0.013603319176666332, 0.19537510635332025, 0.18000630156590514, 0.16378000981610202, 0.11496921349555612, 0.07532693161900464, 0.0748652078700265, 0.08713386748573129, 0.10863700208099882, 0.08129129647848189, 0.03096811294418358, 0.7277506541883141, 0.027097098826160633, 0.01548405647209179, 0.09290433883255074, 0.01548405647209179, 0.007742028236045895, 0.16353036130383514, 0.05451012043461171, 0.05451012043461171, 0.7086315656499522, 0.11138065359321675, 0.027845163398304187, 0.027845163398304187, 0.13922581699152092, 0.055690326796608375, 0.6125935947626922, 0.027845163398304187, 0.18887335129130917, 0.12924226680171486, 0.17989126325103555, 0.12624823745495697, 0.08167046718100643, 0.11967800638846054, 0.09098522514869758, 0.0835833192636573, 0.1164796538131837, 0.12289590593001161, 0.31735770085541154, 0.04762833302106876, 0.1004390235211139, 0.1381961994393705, 0.07452723612623194, 0.08242416180848168, 0.13979723894652432, 0.07863594690741994, 0.1334428189944096, 0.06831001448523348, 0.03971512470071714, 0.06354419952114743, 0.18507248110534189, 0.2915090153032638, 0.09294012102397907, 0.38166780664161964, 0.16323493337206477, 0.06368993065095012, 0.0943554528162224, 0.06604881697135569, 0.06982303508400457, 0.06840770329176124, 0.038855642292618835, 0.1776257933376861, 0.12211773291965919, 0.018040119635858744, 0.14293325557641928, 0.3497007806335695, 0.1373824495346166, 0.013877015104506726, 0.71312197474246, 0.046220868733307593, 0.01320596249523074, 0.00660298124761537, 0.10564769996184592, 0.01320596249523074, 0.09904471871423055, 0.18456358511436896, 0.03691271702287379, 0.07382543404574758, 0.07382543404574758, 0.03691271702287379, 0.5906034723659807, 0.07541102889554167, 0.8672268322987292, 0.03770551444777084, 0.15499136472735642, 0.1358796475730057, 0.3475069545992307, 0.11979783679678375, 0.05407217536352885, 0.03029906378128772, 0.04335096817938089, 0.11397109376192073, 0.023596909608340245, 0.04719381921668049, 0.04719381921668049, 0.023596909608340245, 0.16517836725838173, 0.6253181046210166, 0.023596909608340245, 0.04719381921668049, 0.1641687494934787, 0.17238823466327335, 0.19351142773403587, 0.10703007032926122, 0.11286325335298644, 0.095893993647604, 0.08413924603918801, 0.06995400550421987, 0.43925982248348056, 0.042944396052854245, 0.05153327526342509, 0.06380310270709773, 0.14232999834660265, 0.02699362037607981, 0.0478523270303233, 0.18650137714382414, 0.1143734008625971, 0.1518728765552519, 0.05624921353898218, 0.02812460676949109, 0.08249884652384053, 0.11999832221649531, 0.06937403003141135, 0.3787447044958133, 0.15093750508968098, 0.754687525448405, 0.21436133919547928, 0.7502646871841775, 0.0780210736015834, 0.09535908995749083, 0.11269710631339826, 0.017338016355907423, 0.008669008177953711, 0.12136611449135197, 0.5634855315669913, 0.7929165338098002, 0.059842757268664164, 0.014960689317166041, 0.014960689317166041, 0.014960689317166041, 0.08976413590299624, 0.014960689317166041, 0.9791754049689774, 0.9180269158592059, 0.054001583285835646, 0.2639687484918521, 0.059318819885809455, 0.08304634784013323, 0.026693468948614255, 0.4567549131207328, 0.02076158696003331, 0.05338693789722851, 0.03559129193148567, 0.7070424022240682, 0.21947659217252372, 0.157729309688874, 0.1248112859181292, 0.1273061256144383, 0.05758921632313458, 0.1688867872195896, 0.07276615780901481, 0.07144943685818501, 0.03591777291446998, 0.07183554582893996, 0.1795888645723499, 0.03591777291446998, 0.07183554582893996, 0.03591777291446998, 0.6106021395459897, 0.18859342491164183, 0.006286447497054728, 0.06286447497054727, 0.04400513247938309, 0.18859342491164183, 0.069150922467602, 0.42119198230266675, 0.012572894994109456, 0.023484708309132886, 0.023484708309132886, 0.023484708309132886, 0.8689342074379168, 0.023484708309132886, 0.023484708309132886, 0.017714577678739945, 0.1948603544661394, 0.7085831071495978, 0.017714577678739945, 0.017714577678739945, 0.03542915535747989, 0.10367957244611617, 0.020735914489223236, 0.7879647505904829, 0.04147182897844647, 0.04147182897844647, 0.1094400930905005, 0.875520744724004, 0.02366594017695949, 0.02366594017695949, 0.11832970088479744, 0.02366594017695949, 0.02366594017695949, 0.7573100856627036, 0.0496159878036319, 0.02480799390181595, 0.0496159878036319, 0.0496159878036319, 0.7938558048581104, 0.1797965378538435, 0.1421125632533017, 0.1681550354028752, 0.14633799747624576, 0.10839532282123802, 0.07967961677551626, 0.11848462494541054, 0.05700024533400027, 0.8368841130666387, 0.05579227420444258, 0.6841467397377459, 0.2165775810015193, 0.027072197625189913, 0.027072197625189913, 0.054144395250379826, 0.622660545379368, 0.054144395250379826, 0.19955964889274974, 0.798238595570999, 0.03313851182157831, 0.19054644297407528, 0.03313851182157831, 0.016569255910789154, 0.016569255910789154, 0.016569255910789154, 0.6876241202977499, 0.016569255910789154, 0.17650523378962088, 0.5702476783972367, 0.013577325676124683, 0.21723721081799494, 0.013577325676124683, 0.09272921585435445, 0.16738318663444604, 0.22406886645314023, 0.06160556901050538, 0.10342462714090052, 0.14010988785375356, 0.09155272061283438, 0.11903992761925779, 0.08842554404524929, 0.14633001321036415, 0.1613053069599628, 0.07901250225978726, 0.14005465202005613, 0.09855169505688267, 0.09912218243781977, 0.18697723910213196, 0.07537702219860844, 0.07537702219860844, 0.15075404439721687, 0.07537702219860844, 0.6030161775888675, 0.05395338711251552, 0.7553474195752173, 0.16186016133754658, 0.7340227337988551, 0.730051228656877, 0.9088331079386045, 0.05522239790477016, 0.662668774857242, 0.22088959161908064, 0.03360038980611833, 0.100801169418355, 0.6720077961223667, 0.16800194903059168, 0.03360038980611833, 0.8142563789854416, 0.05816116992753154, 0.05816116992753154, 0.16778359225896464, 0.1390206907288564, 0.11025778919874818, 0.06711343690358586, 0.2615027130779006, 0.10522428143097924, 0.09563664758760984, 0.05321136783070021, 0.06323915946663759, 0.4441113698907049, 0.05605289134542877, 0.04263852418583898, 0.12072930443630812, 0.11066852906661577, 0.10731493727671833, 0.055094722262600926, 0.02657011261646898, 0.06199692943842762, 0.7882466742885798, 0.02657011261646898, 0.00885670420548966, 0.07085363364391728, 0.01771340841097932, 0.6227918880978484, 0.16901653565538396, 0.6760661426215359, 0.25924764536561784, 0.13439771100764672, 0.16799713875955838, 0.1374588302388404, 0.07507030495546427, 0.07244648847158397, 0.09219799589190515, 0.06122238462387377, 0.20099752102789742, 0.8039900841115897, 0.0392793608354139, 0.05891904125312084, 0.01963968041770695, 0.01963968041770695, 0.01963968041770695, 0.01963968041770695, 0.1571174433416556, 0.6873888146197432, 0.1183919746535572, 0.02367839493071144, 0.14207036958426864, 0.04735678986142288, 0.591959873267786, 0.04735678986142288, 0.1729553145966104, 0.06726040012090405, 0.038434514354802315, 0.547691829555933, 0.028825885766101733, 0.019217257177401158, 0.06726040012090405, 0.06726040012090405, 0.13358200848187, 0.1985247537883027, 0.034573314186571884, 0.014931032961077166, 0.1882324883491136, 0.31695828708150703, 0.09502225345617556, 0.018265147117434204, 0.07319891973190704, 0.05693249312481659, 0.008133213303545227, 0.02439963991063568, 0.10573177294608795, 0.040666066517726134, 0.6750567041942538, 0.11907188941689871, 0.833503225918291, 0.042984378543951644, 0.24994620116297808, 0.17233551768084318, 0.09313282017856189, 0.12298308305630609, 0.034427303185664976, 0.10586893233973275, 0.1781065685038737, 0.9376743757620781, 0.021478738179121423, 0.2505852787564166, 0.007159579393040474, 0.028638317572161898, 0.17182990543297139, 0.007159579393040474, 0.5011705575128332, 0.007159579393040474, 0.10451541160357088, 0.6114151578808896, 0.08883809986303524, 0.036580394061249806, 0.06793501754232106, 0.04703193522160689, 0.031354623481071264, 0.015677311740535632, 0.612474493003104, 0.8381235538379643, 0.7351530843176823, 0.6128909933015166, 0.7528096854572262, 0.1599268565131213, 0.06397074260524853, 0.06397074260524853, 0.6397074260524852, 0.031985371302624264, 0.6500918282501358, 0.16252295706253395, 0.8137169387404162, 0.038044979541668876, 0.05072663938889184, 0.1162485485995438, 0.06974912915972628, 0.6531054821319824, 0.02536331969444592, 0.03593136956713172, 0.00845443989814864, 0.19068162737562588, 0.1368421090578021, 0.13347713916293813, 0.03364969894863986, 0.051596205054581123, 0.31518551348559337, 0.09982744021429826, 0.040379638738367835, 0.0697710517006799, 0.767481568707479, 0.0697710517006799, 0.03821505402353947, 0.5305148676209008, 0.17758760399174223, 0.05844655321247213, 0.013487666125955106, 0.15735610480280957, 0.008991777417303405, 0.015735610480280958, 0.09794974982003882, 0.8815477483803494, 0.14384571857706088, 0.26230689858169925, 0.04700840476374539, 0.03729333444590468, 0.27202196889954, 0.17581143381640776, 0.03854689190627122, 0.022877423651689422, 0.2356227724640024, 0.7068683173920072, 0.2138644816903505, 0.2872120780034115, 0.06083256368081081, 0.06510985331461781, 0.08443686573404209, 0.14020004910811867, 0.10075393359634291, 0.04768385851021889, 0.19968448305836906, 0.13143788758272393, 0.07835720221277773, 0.4372837413809854, 0.029067994369256257, 0.025276516842831526, 0.07203807300206985, 0.02780416852711468, 0.0999080063018633, 0.03330266876728777, 0.0032228389129633325, 0.047268304056795545, 0.5629225301309287, 0.023634152028397772, 0.22022732571916104, 0.009668516738889996, 0.9250786276831283, 0.10489108628394023, 0.11681052790711526, 0.13349774617956028, 0.4028771268633159, 0.07866831471295517, 0.07151664973905016, 0.07151664973905016, 0.019071106597080043, 0.016019440668778834, 0.12014580501584125, 0.632767906416764, 0.16820412702217777, 0.008009720334389417, 0.0480583220063365, 0.05421485595150783, 0.044867466994351304, 0.10282127852872174, 0.0822570228229774, 0.07477911165725218, 0.5533654262636661, 0.056084333742939134, 0.02991164466290087, 0.02942540767063258, 0.4708065227301213, 0.4904234611772097, 0.009808469223544194, 0.16148790076451608, 0.023069700109216582, 0.7843698037133637, 0.17920690205051332, 0.7765632422188911, 0.6841365349331707, 0.6845128380740669, 0.8224304410578541, 0.08224304410578541, 0.15966139873399454, 0.25166359486546674, 0.11142289317478879, 0.06944912859729807, 0.1329020051120975, 0.11088591537635607, 0.08206810686046692, 0.08188911426098935, 0.7572384693626308, 0.04056634657299808, 0.04056634657299808, 0.027044231048665386, 0.013522115524332693, 0.08113269314599617, 0.013522115524332693, 0.027044231048665386, 0.13726523826354983, 0.06335318689086916, 0.005279432240905763, 0.2270155863589478, 0.06335318689086916, 0.5015460628860475, 0.1851440553864876, 0.29101302276207147, 0.06635806089091621, 0.06981948645901744, 0.13237842172640793, 0.06492283565536204, 0.12207857003596036, 0.06829983620960714, 0.9589046374488014, 0.5448002646461892, 0.14575796554130502, 0.27956855685791293, 0.01433684906963656, 0.0023894748449394265, 0.00716842453481828, 0.004778949689878853, 0.8238732018832658, 0.1968106619626619, 0.5904319858879857, 0.0196174543213236, 0.0784698172852944, 0.0196174543213236, 0.6768021740856642, 0.0686610901246326, 0.0588523629639708, 0.0588523629639708, 0.05163395828192305, 0.2065358331276922, 0.05163395828192305, 0.6196074993830766, 0.01721131942730768, 0.05163395828192305, 0.09634739646481975, 0.042151985953358645, 0.030108561395256174, 0.08430397190671729, 0.036130273674307406, 0.01204342455810247, 0.10839082102292223, 0.590127803347021, 0.23558923085284664, 0.14135353851170798, 0.19883731083980255, 0.05138986422336761, 0.07978621951549739, 0.08135681438784971, 0.0997013624969247, 0.11195200250127271, 0.23169121200807008, 0.06386492819847783, 0.16307258365242397, 0.09073366821725491, 0.08122626790291841, 0.07833271128551164, 0.09073366821725491, 0.2002754544476538, 0.02318213811580367, 0.6490998672425028, 0.02318213811580367, 0.1275017596369202, 0.0057955345289509175, 0.017386603586852754, 0.15068389775272387, 0.7172144714791048, 0.011567975346437174, 0.1735196301965576, 0.023135950692874347, 0.023135950692874347, 0.046271901385748694, 0.8477059834141805, 0.09973011569578594, 0.05705361157935902, 0.7416969505316673, 0.05705361157935902, 0.11410722315871805, 0.008643165230102055, 0.05531625747265315, 0.008643165230102055, 0.005185899138061233, 0.6119360982912255, 0.05358762442663274, 0.013829064368163288, 0.24546589253489837, 0.7798507173697375, 0.16178771291525915, 0.8089385645762958, 0.12253114617777168, 0.16432915398607698, 0.16089370128950392, 0.06012042219002816, 0.0853137419648971, 0.08073313836946638, 0.07042678027974728, 0.2559412258946913, 0.2080738005702818, 0.7490656820530145, 0.05072318516698764, 0.17707002821930232, 0.0737791784247093, 0.1434082780630287, 0.3426120598097438, 0.0710124592337827, 0.1337247608947856, 0.006916797977316497, 0.3258021972816147, 0.16828038725636046, 0.07916688905908394, 0.17193424367447205, 0.03816250036694303, 0.0667843756421503, 0.08058783322168288, 0.06922027992089134, 0.09586310013394997, 0.08521164456351107, 0.0745601889930722, 0.04260582228175554, 0.47221453028945726, 0.01420194076058518, 0.18462522988760735, 0.03550485190146295, 0.10622985704067855, 0.3513620957313882, 0.025696499084652918, 0.12177138226026246, 0.20265795669855138, 0.11205792899802253, 0.06711113163002137, 0.01315731396430682, 0.05814493605420172, 0.005814493605420173, 0.0639594296596219, 0.6337798029907988, 0.0029072468027100864, 0.22676525061138672, 0.005814493605420173, 0.05151376884498551, 0.0022397290802167614, 0.07391105964715312, 0.6293638715409099, 0.004479458160433523, 0.23293182434254317, 0.004479458160433523, 0.06207609597955699, 0.020692031993185662, 0.06207609597955699, 0.6414529917887556, 0.18622828793867097, 0.020692031993185662, 0.1516232896742716, 0.11749228245618258, 0.1571881278076557, 0.10506414395829146, 0.10439636338228538, 0.11255812597791535, 0.13644983103057767, 0.11526634720282894, 0.10502984321476104, 0.24356530047589767, 0.12581699968434915, 0.11802181600825361, 0.08916596064586484, 0.12499645403423383, 0.10885905624863253, 0.08465295957023057, 0.8341457823552708, 0.9112034290104493, 0.765175570446033, 0.025505852348201102, 0.025505852348201102, 0.025505852348201102, 0.1275292617410055, 0.025505852348201102, 0.18632199530199112, 0.19274440335074294, 0.13270571237814163, 0.10860364172327522, 0.10077407685485305, 0.10037718646981783, 0.0983927345446417, 0.08006361494483313, 0.027967813455013264, 0.0839034403650398, 0.6991953363753316, 0.018645208970008844, 0.03729041794001769, 0.09322604485004422, 0.03729041794001769, 0.041505855660111834, 0.1992281071685368, 0.004150585566011183, 0.01245175669803355, 0.6889972039578565, 0.045656441226123015, 0.004150585566011183, 0.7067921168102679, 0.6330271524999318, 0.17410558236920404, 0.15397932053552602, 0.17727211423103603, 0.10030928897905128, 0.12440713314790844, 0.09837716784301818, 0.09247346437180597, 0.07905595648268728, 0.1824475681307914, 0.1394384126874243, 0.15804157912919817, 0.12800343881954496, 0.0777692003850302, 0.1121879028231745, 0.09995646311375132, 0.10217518938662344, 0.08716652913253894, 0.07974810112125903, 0.12054945518329854, 0.040801354062039503, 0.025964498039479686, 0.19473373529609764, 0.3727760075668155, 0.07789349411843906, 0.15308398213107519, 0.1489062516245741, 0.20689712984576764, 0.11250031435363615, 0.08017263781523495, 0.08454930786966465, 0.10951622113470681, 0.10444326266252693, 0.04031882677801451, 0.06451012284482321, 0.04031882677801451, 0.04838259213361741, 0.016127530711205804, 0.25804049137929286, 0.46769839062496826, 0.06451012284482321, 0.17436212500942913, 0.201052692607564, 0.16152465261824095, 0.09733729066230014, 0.07901545506601576, 0.08685606320367183, 0.10534039845047757, 0.09453417169080652, 0.29215056600585715, 0.19765341127973582, 0.1767586220873066, 0.05741360994316136, 0.04160133704078249, 0.11689787467115804, 0.06193140220098389, 0.05553119650240197, 0.03566706886178573, 0.0535006032926786, 0.08025090493901789, 0.04458383607723216, 0.6509240067275895, 0.12483474101625006, 0.851779483961988, 0.6847105206129883, 0.11411842010216473, 0.11411842010216473, 0.8057550573695114, 0.14629478468392226, 0.036573696170980566, 0.1554382087266674, 0.5577488666074536, 0.045717120213725704, 0.009143424042745141, 0.05486054425647085, 0.009143424042745141, 0.05577421713763934, 0.0501967954238754, 0.752951931358131, 0.0334645302825836, 0.044619373710111467, 0.022309686855055733, 0.02788710856881967, 0.011154843427527867, 0.20563290185330654, 0.17108851027983257, 0.1395690216462425, 0.0920175474312678, 0.0998822950749659, 0.10357267666162424, 0.11899968165503207, 0.0692097792645433, 0.6844356165853591, 0.07889945893733456, 0.09017081021409665, 0.8228086432036319, 0.7766097011379862, 0.8393592070705256, 0.8315811681868857, 0.11879730974098367, 0.04935390520989688, 0.14122809798524338, 0.0470760326617478, 0.06605830389632351, 0.12148653590128464, 0.28169690512110374, 0.26043676133837895, 0.03340879737285327, 0.7686027108842904, 0.027866869031187538, 0.013933434515593769, 0.6688048567485009, 0.08360060709356261, 0.041800303546781305, 0.16720121418712522, 0.18140228706020076, 0.1985464314022155, 0.1443364554380795, 0.05995661652570521, 0.09108425290087166, 0.09156313961433575, 0.15582973656121785, 0.0772923155531056, 0.6461542685230408, 0.013053621586324057, 0.05221448634529623, 0.23496518855383303, 0.006526810793162028, 0.006526810793162028, 0.03263405396581014, 0.1282336561655042, 0.7694019369930252, 0.29378002791285035, 0.6659013966024608, 0.012661414169889485, 0.6710549510041428, 0.02532282833977897, 0.11395272752900537, 0.012661414169889485, 0.012661414169889485, 0.012661414169889485, 0.13927555586878435, 0.21769418688289674, 0.06082631692316232, 0.08003462753047674, 0.012805540404876279, 0.08003462753047674, 0.0736318573280386, 0.47060360987920324, 0.0032013851012190698, 0.13729380769709765, 0.09632458489910269, 0.07099247003927374, 0.19827852865594514, 0.07443263378567026, 0.22955274453227717, 0.09132071035888956, 0.10195394375684246, 0.03741266655928711, 0.172365499505287, 0.050106249856188084, 0.2852715825145642, 0.2585482492579305, 0.03273608323937622, 0.11758266632918804, 0.04609774986769304, 0.8111148804917799, 0.10138936006147249, 0.053784008792198766, 0.06723001099024846, 0.6857461121005343, 0.13446002198049692, 0.020169003297074536, 0.013446002198049692, 0.020169003297074536, 0.19672278346229974, 0.18991688815306038, 0.14422016250531036, 0.08134665345805146, 0.08167074371087238, 0.15799399825019955, 0.08653209750318622, 0.06141510290956475, 0.06139238897026548, 0.03069619448513274, 0.03069619448513274, 0.010232064828377579, 0.7060124731580529, 0.010232064828377579, 0.03069619448513274, 0.12278477794053096, 0.08705891307199017, 0.15235309787598278, 0.050784365958660926, 0.5803927538132677, 0.05803927538132678, 0.007254909422665847, 0.007254909422665847, 0.05803927538132678, 0.06338527699369774, 0.05011859111129589, 0.17099284026206835, 0.07517788666694383, 0.5675193405249682, 0.04274821006551709, 0.026533371764803707, 0.002948152418311523, 0.029847596047674403, 0.7312661031680229, 0.014923798023837202, 0.029847596047674403, 0.1790855762860464, 0.15216882483161612, 0.18670141336242732, 0.23342800199759023, 0.07065347119286149, 0.07598194182669586, 0.09299205961932096, 0.07275411826966158, 0.11533064804578043, 0.8065478538799012, 0.16130957077598027, 0.014664506434180023, 0.014664506434180023, 0.12551409748876327, 0.13641974576977745, 0.11837585497755398, 0.15565334364720246, 0.06583045871448563, 0.21831125013448396, 0.05393338786247016, 0.12610895103136405, 0.7343901339842661, 0.2661192834199039, 0.11972883753117018, 0.14374084505816836, 0.18721085868463055, 0.08130962548797312, 0.06143761925873325, 0.0632592198297469, 0.07716962419021481, 0.8833439935143976, 0.018402999864883283, 0.018402999864883283, 0.018402999864883283, 0.05520899959464985, 0.1351324798922025, 0.7432286394071138, 0.033783119973050627, 0.033783119973050627, 0.044179436830286155, 0.00883588736605723, 0.6450197777221779, 0.01767177473211446, 0.02650766209817169, 0.07068709892845784, 0.07068709892845784, 0.114866535758744, 0.16282126692623922, 0.1574703332713863, 0.17407907539489084, 0.11681713602347765, 0.10493389375101204, 0.09728970281550786, 0.09527441611432948, 0.09131333535684094, 0.6845179089896206, 0.8852512557503069, 0.09318434271055863, 0.8617478428999387, 0.09574976032221541, 0.34442681150854476, 0.1024584697242762, 0.15009598701305407, 0.0831766174883423, 0.04650329068666411, 0.08468891962449399, 0.09376273244140405, 0.09565311011159365, 0.18175094402608344, 0.09475903919308623, 0.4372896644730127, 0.10174946011716637, 0.03262196431237395, 0.0434959524164986, 0.08466176452497048, 0.023301403080267107, 0.1348581388870939, 0.1498423765412154, 0.6892749320895909, 0.18692073154938532, 0.1817120914356183, 0.15851628079564256, 0.14622389012715242, 0.08701901416733412, 0.08868577900373957, 0.08448414264530085, 0.0664275235842419, 0.8343611161207698, 0.19355035082161437, 0.7742014032864575, 0.685911258919766, 0.0175874681774299, 0.0879373408871495, 0.2110496181291588, 0.12362863284412261, 0.05856093134721597, 0.12362863284412261, 0.4815009910771091, 0.006506770149690663, 0.09109478209566929, 0.06506770149690663, 0.0520541611975253, 0.30615848893292097, 0.6123169778658419, 0.14109515934044933, 0.15500095972742392, 0.26996738585667895, 0.06554326297045356, 0.09105199234273817, 0.09078627641177688, 0.13675513246808146, 0.049866023043736954, 0.8340316865070737, 0.12362697710767691, 0.7417618626460615, 0.7971922655495957, 0.15943845310991914, 0.8247834695369995, 0.3057451395820967, 0.6114902791641934, 0.03821814244776209, 0.14524538836295348, 0.01117272218176565, 0.6591906087241735, 0.08379541636324238, 0.07262269418147674, 0.005586361090882825, 0.01117272218176565, 0.01117272218176565, 0.060886499404246126, 0.021310274791486145, 0.05479784946382151, 0.08524109916594458, 0.5286977698268706, 0.018265949821273837, 0.19889589805387067, 0.03196541218722922, 0.07920768192270991, 0.039603840961354955, 0.7920768192270992, 0.039603840961354955, 0.039603840961354955, 0.042769672588547566, 0.10692418147136891, 0.7912389428881299, 0.10627210114609424, 0.06539821608990415, 0.06539821608990415, 0.016349554022476037, 0.024524331033714056, 0.008174777011238019, 0.0899225471236182, 0.6131082758428514, 0.0364978501465608, 0.18248925073280398, 0.0364978501465608, 0.6569613026380943, 0.0364978501465608, 0.0364978501465608, 0.0364978501465608, 0.07471926368525991, 0.30821696270169713, 0.07071644598783527, 0.0840591716459174, 0.038693904408438166, 0.3802676812553406, 0.0320225415793971, 0.012008453092273915, 0.14604024043771804, 0.08963316344325552, 0.21017431428073707, 0.09890555966152334, 0.03168068707908169, 0.08036076722498771, 0.036316885188215596, 0.30676177488769346, 0.1334223997496632, 0.04169449992176974, 0.05003339990612369, 0.025016699953061845, 0.0166777999687079, 0.0166777999687079, 0.7171453986544396, 0.10065623488193909, 0.22647652848436295, 0.025164058720484772, 0.6542655267326041, 0.08985270980487761, 0.22670155238032808, 0.030924916382708556, 0.018262745895300327, 0.24837334417608445, 0.2673665999071968, 0.10981997865040596, 0.008766118029744157, 0.0185410034201624, 0.0370820068403248, 0.0185410034201624, 0.185410034201624, 0.0370820068403248, 0.0185410034201624, 0.6674761231258464, 0.11839253873129059, 0.059196269365645295, 0.059196269365645295, 0.7695515017533888, 0.059196269365645295, 0.13329404180617793, 0.153365345398614, 0.0807998631798067, 0.06433110125780787, 0.3561369765632244, 0.0473476905257466, 0.09572467867161812, 0.06947758935843251, 0.15264158682902476, 0.005985944581530384, 0.002992972290765192, 0.06285241810606902, 0.22147994951662417, 0.41303017612559645, 0.14066969766596402, 0.8021550772357098, 0.10724845106489457, 0.18329735272909256, 0.029249577563153065, 0.41339402955923, 0.0779988735017415, 0.10139853555226397, 0.08189881717682859, 0.005849915512630613, 0.6260311981288874, 0.2921463369906769, 0.024688422844282555, 0.024688422844282555, 0.032917897125710076, 0.4402768740563722, 0.1687042227692641, 0.016458948562855038, 0.7959761821786628, 0.13877335350014391, 0.04625778450004797, 0.04625778450004797, 0.7401245520007675, 0.01890632038276985, 0.11343792229661911, 0.06932317473682278, 0.10083370870810587, 0.09453160191384925, 0.0378126407655397, 0.01890632038276985, 0.5482832911003257, 0.15986340169306432, 0.05946918542981993, 0.1873599067842714, 0.08291581767813604, 0.2229561575612604, 0.06863468712688896, 0.16114230890660886, 0.057337673407245736, 0.08928650852532762, 0.028846410446644308, 0.019230940297762872, 0.06456101385677536, 0.5068726407053215, 0.021978217483157567, 0.25274950105631205, 0.015110024519670829, 0.07073824386061718, 0.01571960974680382, 0.00785980487340191, 0.086457853607421, 0.5501863411381337, 0.00785980487340191, 0.2515137559488611, 0.00785980487340191, 0.03041513186870333, 0.15207565934351663, 0.7603782967175832, 0.03041513186870333, 0.03041513186870333, 0.12414856149108161, 0.12414856149108161, 0.12765558300212912, 0.041382853830360534, 0.16973984113469914, 0.27424908216391475, 0.06733481301211205, 0.07154323882536906, 0.23774939695052424, 0.10316438590143893, 0.19253860854363306, 0.15771408233832498, 0.03604643940549431, 0.11494712033180632, 0.09146893098537055, 0.06633243086725346, 0.1998660530517367, 0.7994642122069467, 0.04178555278353217, 0.09749962316157507, 0.5745513507735673, 0.1497315641409903, 0.013928517594510723, 0.08008897616843666, 0.017410646993138403, 0.020892776391766087, 0.09287831877933968, 0.02826731441110338, 0.16960388646662028, 0.09691650655235444, 0.04442006550316245, 0.5330407860379495, 0.012114563319044305, 0.020190938865073844, 0.09302087865393717, 0.38712281835021756, 0.08466570991256557, 0.100819036145884, 0.13256867736309608, 0.09413490115278672, 0.07631054117119397, 0.031192629967787315, 0.09570510471224336, 0.7656408376979469, 0.010633900523582596, 0.02126780104716519, 0.05316950261791298, 0.04253560209433038, 0.02126780104716519, 0.045018662377255415, 0.25309272385261883, 0.1987409241532495, 0.2843861842855891, 0.053253783543826524, 0.05654783201045497, 0.06752799356588311, 0.04172461391062697, 0.015804311578231794, 0.015804311578231794, 0.18965173893878154, 0.5847595283945765, 0.015804311578231794, 0.047412934734695385, 0.06321724631292718, 0.06321724631292718, 0.02241420436402531, 0.17931363491220248, 0.11207102182012656, 0.02241420436402531, 0.650011926556734, 0.02241420436402531, 0.15936902716374968, 0.15459690407961993, 0.08729008474720662, 0.12864848480966443, 0.1385904079016014, 0.09325523860236881, 0.12954325788793877, 0.10876463862579049, 0.043839517270370915, 0.42003812965936654, 0.10048065666377026, 0.06883891141628491, 0.08127822347922763, 0.2195598964119403, 0.03876717642917098, 0.027052484486399686, 0.12319810301014261, 0.09277047054331267, 0.2579812453446931, 0.14528631028235992, 0.060674953037560174, 0.09020102602389146, 0.12252193339976862, 0.10733065615336611, 0.2502470314221087, 0.08077857586670398, 0.13449216497394528, 0.021235604995886097, 0.3056261581760862, 0.018320914114097808, 0.09785033674574967, 0.09077180174712096, 0.1949888310953398, 0.09492877303325753, 0.13506275236585097, 0.0678062664523268, 0.07110494968514271, 0.15797027481596138, 0.10739046524611759, 0.1707984873880232, 0.14601399990122543, 0.1703496665514297, 0.6570629995555145, 0.029521034518446423, 0.029521034518446423, 0.7970679319980534, 0.029521034518446423, 0.08856310355533926, 0.029521034518446423, 0.18058118838801981, 0.17722049629643136, 0.10166093577055085, 0.10558174321073739, 0.14445374840344388, 0.0968439437726074, 0.10205301651456951, 0.09163487103064528, 0.10273563202553378, 0.8732528722170371, 0.05136781601276689, 0.019391416505872082, 0.9695708252936042, 0.16299019737988674, 0.651960789519547, 0.037266070319480545, 0.619548419061364, 0.051240846689285746, 0.004658258789935068, 0.04192432910941561, 0.2329129394967534, 0.009316517579870136, 0.004658258789935068, 0.04665971253191856, 0.6998956879787783, 0.18663885012767423, 0.043015279949225486, 0.7742750390860587, 0.021507639974612743, 0.12904583984767645, 0.021507639974612743, 0.04939437725997221, 0.7903100361595553, 0.04939437725997221, 0.09878875451994441, 0.1403486565657479, 0.39705834323773054, 0.13066943887155838, 0.04671274626326242, 0.07511914601794903, 0.05344611509400295, 0.09132131476691842, 0.06522951054779888, 0.019408569120244593, 0.07763427648097837, 0.71811705744905, 0.07763427648097837, 0.038817138240489185, 0.038817138240489185, 0.21575969268038786, 0.10310490602039686, 0.1969134680553481, 0.11924673966785243, 0.08485026692170364, 0.08916039004222844, 0.11037295677265434, 0.08054014380117885, 0.15501932989665954, 0.017224369988517726, 0.017224369988517726, 0.017224369988517726, 0.08612184994258862, 0.0688974799540709, 0.6545260595636736, 0.1729496310240897, 0.0576498770080299, 0.7494484011043887, 0.7069926435025732, 0.10866941877521227, 0.036223139591737424, 0.036223139591737424, 0.036223139591737424, 0.7244627918347485, 0.19723325347394077, 0.16318000711566558, 0.14579251138359828, 0.11462624544876066, 0.11055822757937132, 0.08785606334052119, 0.1079336999217008, 0.07283064250035737, 0.6978250270792156, 0.13956500541584313, 0.08901908687139198, 0.8308448107996584, 0.02967302895713066, 0.02967302895713066, 0.028529393289081256, 0.8273524053833564, 0.028529393289081256, 0.0998528765117844, 0.007132348322270314, 0.6845034626131202, 0.9686448783717317, 0.046887760992906945, 0.12021223829032525, 0.14615014862682696, 0.08629343246566916, 0.21348895430812947, 0.03491641776067538, 0.23294238706050577, 0.1197134323223156, 0.26770320993185914, 0.6841304253814178, 0.2019840119307289, 0.07958941504117217, 0.1451613089935327, 0.0648192753704109, 0.058327940101095446, 0.07742563661806702, 0.169715490229639, 0.20292478515816592, 0.8928494501384413, 0.038819541310367016, 0.19380074381874807, 0.16036595507250037, 0.14644740048130223, 0.1077931537633552, 0.08547807982637991, 0.10522124693672076, 0.09137833666395304, 0.1096086174056854, 0.09099555514484996, 0.6597177748001622, 0.02274888878621249, 0.02274888878621249, 0.20473999907591242, 0.7890851856847139, 0.14234340430734027, 0.20323583723661512, 0.0996599625755656, 0.05854288567798451, 0.09907257576274302, 0.1405812438688725, 0.2046064064665345, 0.05227742634121025, 0.9455902627637536, 0.8296688054265103, 0.07356064345864097, 0.05625225676249015, 0.23149967206101715, 0.04543451507739589, 0.025962580044226222, 0.02163548337018852, 0.37862095897829906, 0.1665932219504516, 0.91071038273697, 0.04491635998275006, 0.04491635998275006, 0.02245817999137503, 0.0673745399741251, 0.1347490799482502, 0.04491635998275006, 0.6512872197498759, 0.02245817999137503, 0.15791608135586382, 0.23687412203379576, 0.6053449785308114, 0.7709807040049128, 0.061328010545845336, 0.017522288727384382, 0.052566866182153144, 0.008761144363692191, 0.008761144363692191, 0.07885029927322972, 0.23839835021536937, 0.7151950506461081, 0.7875450960833935, 0.2723343386783361, 0.09936523167993346, 0.047842518957005, 0.011040581297770384, 0.09568503791401, 0.4195420893152746, 0.03680193765923461, 0.018400968829617306, 0.024859928298304093, 0.7457978489491228, 0.07457978489491228, 0.12429964149152047, 0.16411901946117557, 0.18768066086896812, 0.11094734593937557, 0.13577283018130257, 0.14055737805338303, 0.07691386390589747, 0.0947882125600849, 0.08919119429463226, 0.15840513940564854, 0.18287422598050482, 0.1352238994926268, 0.0566652531207198, 0.0283326265603599, 0.04249893984053985, 0.27817487895626086, 0.1197697395506123, 0.2692252248857621, 0.6281921914001116, 0.7060823301751307, 0.889544092882567, 0.011157433147511314, 0.022314866295022627, 0.18967636350769235, 0.6806034219981901, 0.05578716573755657, 0.022314866295022627, 0.11402327354710284, 0.03688988261818033, 0.27835093248263343, 0.08216382946776528, 0.04527394684958495, 0.016768128462809243, 0.016768128462809243, 0.4091423344925455, 0.14045026306619043, 0.14404072091901035, 0.10496809134420548, 0.3146930706295094, 0.06251620731968778, 0.07835646255271678, 0.08743820888632006, 0.06737388559115, 0.07740634724258479, 0.03317414881825062, 0.01105804960608354, 0.07740634724258479, 0.0552902480304177, 0.5639605299102606, 0.01105804960608354, 0.1879868433034202, 0.08031226244426855, 0.668312755339806, 0.028682950872953052, 0.008604885261885915, 0.040156131222134274, 0.10899521331722159, 0.06310249192049672, 0.0675997345224803, 0.10573291809926408, 0.11786620378278617, 0.1819992852528316, 0.0554664488389582, 0.00866663263108722, 0.03639985705056632, 0.4281316519757086, 0.6399134180462679, 0.1524046670102049, 0.12060800986419092, 0.11238473646435972, 0.0783952064117241, 0.10306502661121769, 0.08935957094483236, 0.07236480591851455, 0.271916240421085, 0.8704741473877841, 0.1790193358409404, 0.09422070307417917, 0.02826621092225375, 0.5935904293673288, 0.03768828122967167, 0.018844140614835834, 0.018844140614835834, 0.018844140614835834, 0.08654146576782429, 0.08654146576782429, 0.7788731919104186, 0.7842556458905241, 0.9161832738017546, 0.05389313375304439, 0.1461453053616139, 0.13613972728150342, 0.22108069864244145, 0.08770847168096858, 0.0741902970408193, 0.10250395416113198, 0.13560751568149754, 0.09664962656106732, 0.47068289407909997, 0.07571855252576826, 0.050905378218337446, 0.02609220391090663, 0.07981144725689086, 0.05167279598042293, 0.17676189120035765, 0.0685559867463037, 0.03773529551424959, 0.6792353192564926, 0.009433823878562397, 0.06603676714993678, 0.056602943271374384, 0.06603676714993678, 0.03773529551424959, 0.03773529551424959, 0.7675343054389617, 0.02019827119576215, 0.02019827119576215, 0.02019827119576215, 0.10099135597881075, 0.0807930847830486, 0.7535098312169286, 0.17357404168774146, 0.6942961667509658, 0.2010000595019911, 0.15377454394664017, 0.15900701109003473, 0.09935022009209674, 0.07345450690472366, 0.11311460818268243, 0.09485096490510142, 0.1054492104566904, 0.01967009555984135, 0.22948444819814906, 0.6622265505146587, 0.026226794079788462, 0.0065566985199471154, 0.013113397039894231, 0.01967009555984135, 0.026226794079788462, 0.14027656922541654, 0.11040285540889264, 0.15326514044999212, 0.10390856979660483, 0.3779674226351501, 0.028574856694066328, 0.045459999286014616, 0.040264570796184375, 0.16934154795362436, 0.07353419248663186, 0.17982303641497055, 0.20815580991204696, 0.129380873194742, 0.07451683202988306, 0.11251222770226299, 0.052571215563939476, 0.14871547352400555, 0.12196242537682996, 0.17861593910026063, 0.2510065399690887, 0.03973614504212847, 0.10819247412460722, 0.07947229008425694, 0.07199717369019316, 0.7960375902710378, 0.018091763415250862, 0.07236705366100345, 0.05427529024575258, 0.018091763415250862, 0.036183526830501724, 0.08087144730129546, 0.08780328564140649, 0.33074771508529816, 0.12015186456192468, 0.02343621534037542, 0.03564945432057106, 0.050503393620809, 0.2710018703443411, 0.14197812578150965, 0.24697802587715986, 0.0671086318002634, 0.07852166441935582, 0.0808042709431743, 0.23967368500094072, 0.10865207053375979, 0.03606518307633203, 0.1953975790745752, 0.1465481843059314, 0.01221234869216095, 0.6228297833002084, 0.059964693492409786, 0.43449827087942827, 0.09338763740621196, 0.07274405440062827, 0.1071500260766011, 0.07864222097365217, 0.05308349915721522, 0.10026883174140652, 0.5109394910791093, 0.02009312605367284, 0.01722267947457672, 0.018657902764124778, 0.2669515318559391, 0.012917009605932539, 0.050232815134182096, 0.10333607684746031, 0.219573977996649, 0.16032385694993417, 0.14277920495504454, 0.11637361760920056, 0.09020432187271536, 0.1157828885858036, 0.09055875928675353, 0.06450760935494772, 0.11519041530764423, 0.09746881295262204, 0.13481076077213308, 0.08481052555617762, 0.3139255274318216, 0.052531892695244345, 0.13354493203248863, 0.06835475194079987, 0.053738340804158034, 0.053738340804158034, 0.8060751120623706, 0.1326816964178754, 0.1951201417909932, 0.07024325104475755, 0.5619460083580604, 0.023414417014919184, 0.015609611343279458, 0.020012219951678137, 0.7804765781154472, 0.18010997956510322, 0.11864376337788733, 0.7909584225192489, 0.03954792112596244, 0.662846881245216, 0.09121746072181872, 0.08513629667369746, 0.012162328096242495, 0.06689280452933372, 0.012162328096242495, 0.04864931238496998, 0.018243492144363743, 0.19147256017605835, 0.16345218551614737, 0.2572845170695929, 0.05762138583909899, 0.06997908953526485, 0.0937604844389329, 0.11244073421220688, 0.05402903011346937, 0.9404170456308109, 0.042059859071516006, 0.08411971814303201, 0.042059859071516006, 0.042059859071516006, 0.7150176042157721, 0.042059859071516006, 0.042059859071516006, 0.09611184595057837, 0.2934539201804641, 0.07563831663566226, 0.15089749383956683, 0.11070871407325003, 0.1505183544078091, 0.07886100180560275, 0.04360103465213614, 0.7507772725045254, 0.046271151102540695, 0.046271151102540695, 0.7866095687431919, 0.023135575551270347, 0.023135575551270347, 0.046271151102540695, 0.02373888240440823, 0.04747776480881646, 0.7121664721322469, 0.0712166472132247, 0.1424332944264494, 0.05292541663968848, 0.08110648264263949, 0.0735457088369697, 0.1732104544571623, 0.01649623375782498, 0.1106622347920759, 0.16083827913879356, 0.3306120182297423, 0.11334426748693799, 0.6800656049216279, 0.7564876760292504, 0.722508562749627, 0.12041809379160451, 0.8189212933960889, 0.04817184078800523, 0.04817184078800523, 0.04817184078800523, 0.061200744657705426, 0.7956096805501706, 0.030600372328852713, 0.061200744657705426, 0.18009027150370505, 0.1697552438550612, 0.17569547002694527, 0.11421654387403121, 0.09803787909694857, 0.09074540631683072, 0.10368833813849684, 0.0678055084985792, 0.19234059686747576, 0.16673615106509612, 0.12515453108203162, 0.10989428138381335, 0.09432677833596655, 0.08715753351130025, 0.1311971802913932, 0.09320018272066184, 0.7283970347746244, 0.04780608324308146, 0.14341824972924438, 0.04780608324308146, 0.04780608324308146, 0.04780608324308146, 0.621479082160059, 0.5788158992174202, 0.23152635968696808, 0.7713739028981552, 0.9773917192121654, 0.04470611649682479, 0.23949705266156135, 0.07025246878072466, 0.015966470177437422, 0.012773176141949939, 0.019159764212924906, 0.006386588070974969, 0.5907593965651846, 0.07830958212256817, 0.054816707485797714, 0.6264766569805453, 0.007830958212256817, 0.21926682994319086, 0.007830958212256817, 0.09749440601760016, 0.41375826984037867, 0.17102091708593115, 0.07926881923326005, 0.07034327502038117, 0.025341055597404398, 0.0743379241785927, 0.06847078322746952, 0.7018171825840478, 0.05572261987806083, 0.05572261987806083, 0.7522553683538213, 0.027861309939030417, 0.027861309939030417, 0.08358392981709126, 0.8155483022928841, 0.067962358524407, 0.067962358524407, 0.06411208718198091, 0.08014010897747614, 0.6491348827175568, 0.008014010897747614, 0.19233626154594274, 0.008014010897747614, 0.6259586269127236, 0.6333287763182164, 0.7379238760888175, 0.7515512458642531, 0.17358375670916792, 0.18226785081248129, 0.15430212403909924, 0.10391475316846174, 0.08939220031772299, 0.11397260227116933, 0.11004758798718588, 0.07261276425369376, 0.18554535746028608, 0.18772912993039498, 0.1564785928581471, 0.11092058098173758, 0.08772741129920182, 0.08253153887032207, 0.09902278614459262, 0.09006178876724925, 0.77368396096981, 0.246674378690702, 0.08717678240955319, 0.10978724001952157, 0.15770181986447263, 0.10162461994372071, 0.08513612739060297, 0.12137816052715879, 0.09060508284138954, 0.853305072595662, 0.04740583736642567, 0.04740583736642567, 0.8515216962034257, 0.10644021202542821, 0.05483687462495118, 0.7677162447493165, 0.05483687462495118, 0.02741843731247559, 0.08225531193742677, 0.19520506071801894, 0.12268790230428718, 0.21737757318264914, 0.13920859786616852, 0.07834287737502675, 0.06738704768662124, 0.09234199308798936, 0.0872988333901519, 0.7396026395951177, 0.0821780710661242, 0.0821780710661242, 0.22728808901611433, 0.022728808901611434, 0.6591354581467316, 0.022728808901611434, 0.022728808901611434, 0.612650515172601, 0.6842717452307678, 0.0411092351968774, 0.822184703937548, 0.12332770559063219, 0.2003330928209714, 0.7512490980786427, 0.07843847950476004, 0.01960961987619001, 0.03921923975238002, 0.07843847950476004, 0.7647751751714105, 0.01960961987619001, 0.039298832334769745, 0.23906789670318263, 0.5600083607704689, 0.019649416167384873, 0.02947412425107731, 0.006549805389128291, 0.032749026945641455, 0.06877295658584706, 0.13130206801239022, 0.09191144760867315, 0.15756248161486827, 0.026260413602478043, 0.013130206801239021, 0.06565103400619511, 0.49894785844708284, 0.16549528706096234, 0.16582365072576583, 0.13189273869607118, 0.1616643776382549, 0.09839964488611451, 0.0994941904354595, 0.0801207342120532, 0.09730509933676952, 0.025393702818874958, 0.1269685140943748, 0.7364173817473737, 0.07618110845662487, 0.025393702818874958, 0.029720297442882522, 0.743007436072063, 0.20804208210017763, 0.20837905097951015, 0.6986827003430635, 0.073545547404533, 0.012257591234088832, 0.09513190164059944, 0.049944248361314704, 0.17718316680561647, 0.019026380328119888, 0.028539570492179832, 0.08918615778806198, 0.05470084344334468, 0.48636184713756464, 0.3205731327852775, 0.092154930063581, 0.22180195133251632, 0.10995579689637527, 0.03245113776597895, 0.10617508181684375, 0.029615601456330305, 0.08742903621416659, 0.015869349755390023, 0.30151764535241043, 0.015869349755390023, 0.6506433399709909, 0.7910330010602434, 0.021830640006273355, 0.7640724002195673, 0.1528144800439135, 0.021830640006273355, 0.021830640006273355, 0.07195570023296503, 0.2158671006988951, 0.014391140046593006, 0.5612544618171272, 0.05756456018637202, 0.07195570023296503, 0.014391140046593006, 0.7217882013865764, 0.008910965449216993, 0.029703218164056643, 0.023762574531245317, 0.11287222902341525, 0.029703218164056643, 0.07128772359373595, 0.534322633283649, 0.13277285884783363, 0.027024564190267022, 0.1060420399205043, 0.034955686289584516, 0.06697391994979218, 0.0707926083679821, 0.02731830945320471, 0.4245051966542282, 0.08646669135538763, 0.07579179118805583, 0.076859281204789, 0.1037244466259074, 0.05212909581713699, 0.08397588131634355, 0.09642993151156398], \"Term\": [\"ability\", \"ability\", \"ability\", \"ability\", \"ability\", \"ability\", \"ability\", \"ability\", \"abolitionist\", \"abolitionist\", \"abolitionist\", \"abolitionist\", \"abolitionist\", \"abolitionist\", \"abomination\", \"abomination\", \"abomination\", \"abomination\", \"abomination\", \"abomination\", \"abomination\", \"abomination\", \"acesories\", \"acesories\", \"acesories\", \"acreditation\", \"acreditation\", \"acreditation\", \"acreditation\", \"acreditation\", \"actioned\", \"actioned\", \"actioned\", \"actioned\", \"actioning\", \"actioning\", \"actioning\", \"actioning\", \"activatable\", \"activatable\", \"activatable\", \"activatable\", \"activatable\", \"activatable\", \"aeroplane\", \"aeroplane\", \"aging\", \"aging\", \"aging\", \"aging\", \"aging\", \"aging\", \"aging\", \"aging\", \"air\", \"air\", \"air\", \"air\", \"air\", \"air\", \"air\", \"air\", \"airplane\", \"airplane\", \"airplane\", \"airplane\", \"airplane\", \"airplane\", \"airplane\", \"airplane\", \"aleviated\", \"aleviated\", \"alien\", \"alien\", \"alien\", \"alien\", \"alien\", \"alien\", \"alien\", \"alien\", \"also\", \"also\", \"also\", \"also\", \"also\", \"also\", \"also\", \"also\", \"amazon\", \"amazon\", \"amazon\", \"amazon\", \"amazon\", \"amazon\", \"amazon\", \"amphora\", \"amphora\", \"amphora\", \"animal\", \"animal\", \"animal\", \"animal\", \"animal\", \"animal\", \"animal\", \"animal\", \"ap\", \"ap\", \"ap\", \"ap\", \"ap\", \"ap\", \"ap\", \"ap\", \"apartment\", \"apartment\", \"apartment\", \"apartment\", \"apartment\", \"apartment\", \"apartment\", \"apnla\", \"apreciation\", \"apreciation\", \"apreciation\", \"apreciation\", \"apreciation\", \"apreciation\", \"apreciation\", \"apreciation\", \"aquaduct\", \"aquaduct\", \"aqueduct\", \"aqueduct\", \"aqueduct\", \"aqueduct\", \"aqueduct\", \"aqueduct\", \"aqueduct\", \"archaea\", \"archaeon\", \"archeologist\", \"archeologist\", \"archeologist\", \"archeologist\", \"archeologist\", \"archeologist\", \"area\", \"area\", \"area\", \"area\", \"area\", \"area\", \"area\", \"area\", \"artifact\", \"artifact\", \"artifact\", \"artifact\", \"artifact\", \"artifact\", \"artifact\", \"artifact\", \"atack\", \"atack\", \"atack\", \"atack\", \"atack\", \"atack\", \"atack\", \"atack\", \"back\", \"back\", \"back\", \"back\", \"back\", \"back\", \"back\", \"back\", \"bacteria\", \"bacteria\", \"bacteria\", \"banderole\", \"banderole\", \"bank\", \"bank\", \"bank\", \"bank\", \"bank\", \"bank\", \"bank\", \"bank\", \"banker\", \"banker\", \"banker\", \"banker\", \"banker\", \"banker\", \"banker\", \"banker\", \"bankrupt\", \"bankrupt\", \"bankrupt\", \"bankrupt\", \"bankrupt\", \"bankrupt\", \"bankrupt\", \"bankrupt\", \"base\", \"base\", \"base\", \"base\", \"base\", \"base\", \"base\", \"base\", \"basestar\", \"basestar\", \"basestar\", \"basestar\", \"basestar\", \"basestar\", \"bathrom\", \"bathrom\", \"bathrom\", \"bathrom\", \"bathrom\", \"batle\", \"batle\", \"batle\", \"batle\", \"batle\", \"batle\", \"batle\", \"batle\", \"batlebot\", \"batlebot\", \"batlebots\", \"batlebots\", \"batlebots\", \"batlebots\", \"batmobile\", \"batmobile\", \"batmobile\", \"batmobile\", \"bean\", \"bean\", \"bean\", \"bean\", \"bean\", \"bean\", \"bean\", \"bean\", \"beanometer\", \"beckoning\", \"befoled\", \"befoled\", \"behaviour\", \"behaviour\", \"behaviour\", \"behaviour\", \"behaviour\", \"behaviour\", \"behaviour\", \"behaviour\", \"beting\", \"beting\", \"beting\", \"beting\", \"beting\", \"beting\", \"beting\", \"beting\", \"bhpd\", \"bing\", \"bing\", \"bishop\", \"bishop\", \"bishop\", \"bishop\", \"bishop\", \"bishop\", \"bishop\", \"bishop\", \"block\", \"block\", \"block\", \"block\", \"block\", \"block\", \"block\", \"block\", \"blockage\", \"blue\", \"blue\", \"blue\", \"blue\", \"blue\", \"blue\", \"blue\", \"blue\", \"blush\", \"bonded\", \"bonded\", \"bonded\", \"bonded\", \"bonded\", \"bonded\", \"bonus\", \"bonus\", \"bonus\", \"bonus\", \"bonus\", \"bonus\", \"bonus\", \"bonus\", \"bos\", \"bos\", \"bos\", \"bos\", \"bos\", \"bos\", \"bos\", \"bos\", \"bouquet\", \"bouquet\", \"bouquet\", \"bouquet\", \"bpye\", \"branchlet\", \"branchlet\", \"branchlet\", \"branchlet\", \"branchlet\", \"brewmaster\", \"brewmaster\", \"broker\", \"broker\", \"broker\", \"broker\", \"broker\", \"broker\", \"broker\", \"building\", \"building\", \"building\", \"building\", \"building\", \"building\", \"building\", \"building\", \"bulet\", \"bulet\", \"bulet\", \"bulet\", \"bulet\", \"bulet\", \"bulet\", \"bulet\", \"burden\", \"burden\", \"burden\", \"burden\", \"burden\", \"burden\", \"burden\", \"burden\", \"buterfly\", \"buterfly\", \"buterfly\", \"buterfly\", \"buterfly\", \"buterfly\", \"buterfly\", \"buterfly\", \"caber\", \"cage\", \"cage\", \"cage\", \"cage\", \"cage\", \"cage\", \"cage\", \"cage\", \"camel\", \"camel\", \"camel\", \"camel\", \"camel\", \"camel\", \"camel\", \"camel\", \"campaign\", \"campaign\", \"campaign\", \"campaign\", \"campaign\", \"campaign\", \"campaign\", \"campaign\", \"canot\", \"canot\", \"canot\", \"canot\", \"canot\", \"canot\", \"canot\", \"canot\", \"cardstock\", \"cardstock\", \"cardstock\", \"casebok\", \"casebok\", \"casebok\", \"casebok\", \"casebok\", \"catnip\", \"chamber\", \"chamber\", \"chamber\", \"chamber\", \"chamber\", \"chamber\", \"chamber\", \"chamber\", \"character\", \"character\", \"character\", \"character\", \"character\", \"character\", \"character\", \"character\", \"chef\", \"chef\", \"chef\", \"chef\", \"chef\", \"chef\", \"chef\", \"chef\", \"cheque\", \"chip\", \"chip\", \"chip\", \"chip\", \"chip\", \"chip\", \"chip\", \"chip\", \"chose\", \"chose\", \"chose\", \"chose\", \"chose\", \"chose\", \"chose\", \"chose\", \"church\", \"church\", \"church\", \"church\", \"church\", \"church\", \"church\", \"church\", \"cider\", \"cider\", \"cider\", \"cider\", \"cil\", \"cil\", \"cil\", \"cil\", \"cil\", \"cil\", \"cil\", \"cil\", \"citizenry\", \"citizenry\", \"citizenry\", \"citizenry\", \"citizenry\", \"city\", \"city\", \"city\", \"city\", \"city\", \"city\", \"city\", \"city\", \"clan\", \"clan\", \"clan\", \"clan\", \"clan\", \"clan\", \"clan\", \"clan\", \"climber\", \"climber\", \"climber\", \"climber\", \"climber\", \"climber\", \"climber\", \"cliped\", \"cliped\", \"cliped\", \"clown\", \"clown\", \"clown\", \"clown\", \"clown\", \"clown\", \"clown\", \"clown\", \"coaching\", \"coaching\", \"coaching\", \"coaching\", \"coke\", \"coke\", \"coke\", \"colonade\", \"colonade\", \"colonade\", \"colonade\", \"colonade\", \"colony\", \"colony\", \"colony\", \"colony\", \"colony\", \"colony\", \"colony\", \"colony\", \"color\", \"color\", \"color\", \"color\", \"color\", \"color\", \"color\", \"color\", \"colour\", \"colour\", \"colour\", \"colour\", \"colour\", \"colour\", \"colour\", \"colour\", \"comando\", \"comando\", \"comando\", \"comando\", \"comando\", \"comando\", \"comando\", \"comando\", \"comodity\", \"comodity\", \"comodity\", \"comodity\", \"comodity\", \"comodity\", \"comodity\", \"comodity\", \"concoct\", \"condominium\", \"condominium\", \"condominium\", \"conquests\", \"constraint\", \"constraint\", \"constraint\", \"constraint\", \"constraint\", \"constraint\", \"constraint\", \"constraint\", \"converter\", \"converter\", \"converter\", \"converter\", \"converter\", \"converter\", \"convertible\", \"convertible\", \"convertible\", \"cordon\", \"cordon\", \"coronation\", \"coronation\", \"coronation\", \"coronation\", \"cost\", \"cost\", \"cost\", \"cost\", \"cost\", \"cost\", \"cost\", \"cost\", \"costal\", \"counter\", \"counter\", \"counter\", \"counter\", \"counter\", \"counter\", \"counter\", \"counter\", \"courtrom\", \"courtrom\", \"creature\", \"creature\", \"creature\", \"creature\", \"creature\", \"creature\", \"creature\", \"creature\", \"cu\", \"cu\", \"cu\", \"cu\", \"cu\", \"cu\", \"cu\", \"cu\", \"cube\", \"cube\", \"cube\", \"cube\", \"cube\", \"cube\", \"cube\", \"cube\", \"cushion\", \"cushion\", \"customary\", \"customary\", \"customary\", \"customary\", \"customary\", \"customary\", \"customary\", \"customary\", \"customer\", \"customer\", \"customer\", \"customer\", \"customer\", \"customer\", \"customer\", \"customer\", \"cutlas\", \"cutlas\", \"cutpurse\", \"cutpurse\", \"cutpurse\", \"cutpurse\", \"cutpurse\", \"damage\", \"damage\", \"damage\", \"damage\", \"damage\", \"damage\", \"damage\", \"damage\", \"dauqs\", \"deck\", \"deck\", \"deck\", \"deck\", \"deck\", \"deck\", \"deck\", \"deck\", \"declaim\", \"ded\", \"ded\", \"ded\", \"ded\", \"ded\", \"ded\", \"ded\", \"ded\", \"defered\", \"detective\", \"detective\", \"detective\", \"detective\", \"detective\", \"detective\", \"detective\", \"detective\", \"deyalp\", \"deyalp\", \"dice\", \"dice\", \"dice\", \"dice\", \"dice\", \"dice\", \"dice\", \"dice\", \"die\", \"die\", \"die\", \"die\", \"die\", \"die\", \"die\", \"die\", \"disc\", \"disc\", \"disc\", \"disc\", \"disc\", \"disc\", \"disc\", \"disc\", \"discard\", \"discard\", \"discard\", \"discard\", \"discard\", \"discard\", \"discard\", \"discard\", \"dismount\", \"dismount\", \"dispenseribus\", \"diverted\", \"diverted\", \"diverted\", \"diverted\", \"divining\", \"divining\", \"docker\", \"docker\", \"doctrine\", \"doctrine\", \"doctrine\", \"doctrine\", \"doctrine\", \"doctrine\", \"doctrine\", \"dodo\", \"dodo\", \"dodo\", \"dodo\", \"dodo\", \"dogma\", \"dogma\", \"dogma\", \"dogma\", \"dogma\", \"dogma\", \"dogma\", \"draconic\", \"draconic\", \"draconic\", \"dragon\", \"dragon\", \"dragon\", \"dragon\", \"dragon\", \"dragon\", \"dragon\", \"dragon\", \"draw\", \"draw\", \"draw\", \"draw\", \"draw\", \"draw\", \"draw\", \"draw\", \"dsv\", \"earthling\", \"earthling\", \"earthling\", \"eavesdrop\", \"eavesdrop\", \"eavesdrop\", \"edilsdnal\", \"edilsdnal\", \"efect\", \"efect\", \"efect\", \"efect\", \"efect\", \"efect\", \"efect\", \"efect\", \"electroshock\", \"elysium\", \"elysium\", \"elysium\", \"elysium\", \"encounter\", \"encounter\", \"encounter\", \"encounter\", \"encounter\", \"encounter\", \"encounter\", \"encounter\", \"end\", \"end\", \"end\", \"end\", \"end\", \"end\", \"end\", \"end\", \"enemy\", \"enemy\", \"enemy\", \"enemy\", \"enemy\", \"enemy\", \"enemy\", \"enemy\", \"enmity\", \"enmity\", \"enmity\", \"enmity\", \"enmity\", \"enmity\", \"epsi\", \"erehw\", \"erehw\", \"erehw\", \"erehw\", \"erehw\", \"esence\", \"esence\", \"esence\", \"esence\", \"esence\", \"esence\", \"esence\", \"esence\", \"esnes\", \"esnes\", \"event\", \"event\", \"event\", \"event\", \"event\", \"event\", \"event\", \"event\", \"evocation\", \"evocation\", \"evocation\", \"example\", \"example\", \"example\", \"example\", \"example\", \"example\", \"example\", \"example\", \"excavation\", \"excavation\", \"excavation\", \"excavation\", \"excavation\", \"excavation\", \"excavation\", \"excavation\", \"excursion\", \"excursion\", \"excursion\", \"excursion\", \"exertion\", \"exertion\", \"exertion\", \"exertion\", \"exertion\", \"exertion\", \"exertion\", \"face\", \"face\", \"face\", \"face\", \"face\", \"face\", \"face\", \"face\", \"faction\", \"faction\", \"faction\", \"faction\", \"faction\", \"faction\", \"faction\", \"faction\", \"fame\", \"fame\", \"fame\", \"fame\", \"fame\", \"fame\", \"fame\", \"fame\", \"family\", \"family\", \"family\", \"family\", \"family\", \"family\", \"family\", \"family\", \"fatigue\", \"fatigue\", \"fatigue\", \"fatigue\", \"fatigue\", \"fatigue\", \"fatigue\", \"fatigue\", \"faty\", \"faty\", \"faty\", \"faty\", \"faty\", \"faty\", \"faty\", \"fertility\", \"fertility\", \"fertility\", \"fertility\", \"fertility\", \"fertility\", \"fertilizer\", \"fertilizer\", \"fertilizer\", \"field\", \"field\", \"field\", \"field\", \"field\", \"field\", \"field\", \"field\", \"fiend\", \"fiend\", \"fiend\", \"fiend\", \"fiend\", \"fiend\", \"fiend\", \"fiend\", \"first\", \"first\", \"first\", \"first\", \"first\", \"first\", \"first\", \"first\", \"flower\", \"flower\", \"flower\", \"flower\", \"flower\", \"flower\", \"flower\", \"flower\", \"fog\", \"fog\", \"fog\", \"fog\", \"fog\", \"fog\", \"fog\", \"fog\", \"forceps\", \"forceps\", \"foreminion\", \"foreminion\", \"fotman\", \"fotman\", \"fotman\", \"fotman\", \"fotman\", \"fotman\", \"fotman\", \"franchise\", \"franchise\", \"franchise\", \"franchise\", \"franchise\", \"franchise\", \"franchise\", \"frogrider\", \"fruticola\", \"fruticola\", \"fur\", \"fur\", \"fur\", \"fur\", \"fur\", \"fur\", \"fur\", \"fur\", \"gafitners\", \"gain\", \"gain\", \"gain\", \"gain\", \"gain\", \"gain\", \"gain\", \"gain\", \"galantry\", \"galantry\", \"galantry\", \"galantry\", \"galantry\", \"galantry\", \"galantry\", \"galeon\", \"galeon\", \"galeon\", \"galeon\", \"galeon\", \"galeon\", \"galeon\", \"galeon\", \"gaping\", \"gaping\", \"gaping\", \"gaping\", \"gaping\", \"gaping\", \"garlic\", \"garlic\", \"garlic\", \"garlic\", \"garlic\", \"garlic\", \"gaslight\", \"gaslight\", \"gaslight\", \"gaslight\", \"gaslight\", \"gavel\", \"gavel\", \"gc\", \"gc\", \"gc\", \"gc\", \"gc\", \"gc\", \"geisha\", \"geisha\", \"geisha\", \"geisha\", \"geisha\", \"get\", \"get\", \"get\", \"get\", \"get\", \"get\", \"get\", \"get\", \"gingerbread\", \"gingerbread\", \"glir\", \"glogo\", \"glogo\", \"glogo\", \"glogo\", \"glogo\", \"glogo\", \"gnitnuoc\", \"gnitnuoc\", \"goa\", \"goa\", \"goa\", \"goa\", \"goa\", \"goa\", \"goa\", \"goa\", \"goble\", \"goble\", \"goble\", \"goble\", \"goble\", \"god\", \"god\", \"god\", \"god\", \"god\", \"god\", \"god\", \"god\", \"gold\", \"gold\", \"gold\", \"gold\", \"gold\", \"gold\", \"gold\", \"gold\", \"golfer\", \"golfer\", \"golfer\", \"golfer\", \"golfer\", \"gondolier\", \"gondolier\", \"gondolier\", \"gored\", \"goring\", \"gramed\", \"gravitic\", \"gravitic\", \"gravitic\", \"gremlin\", \"gremlin\", \"gremlin\", \"gremlin\", \"gremlin\", \"groundwork\", \"groundwork\", \"groundwork\", \"group\", \"group\", \"group\", \"group\", \"group\", \"group\", \"group\", \"group\", \"guard\", \"guard\", \"guard\", \"guard\", \"guard\", \"guard\", \"guard\", \"guard\", \"gueser\", \"gueser\", \"gueser\", \"gueser\", \"gueser\", \"gueser\", \"gueser\", \"guidepost\", \"habitant\", \"habitant\", \"hand\", \"hand\", \"hand\", \"hand\", \"hand\", \"hand\", \"hand\", \"hand\", \"harmonized\", \"harmonized\", \"haul\", \"haul\", \"haul\", \"haul\", \"haul\", \"haul\", \"haul\", \"haul\", \"herder\", \"herder\", \"herder\", \"herder\", \"herder\", \"herder\", \"hermit\", \"hermit\", \"hermit\", \"hermit\", \"hermit\", \"hermit\", \"hermit\", \"hermit\", \"hero\", \"hero\", \"hero\", \"hero\", \"hero\", \"hero\", \"hero\", \"hero\", \"heroine\", \"heroine\", \"heroine\", \"heroine\", \"heroine\", \"heroine\", \"heroine\", \"heterodox\", \"heterodox\", \"hex\", \"hex\", \"hex\", \"hex\", \"hex\", \"hex\", \"hex\", \"hex\", \"hibachi\", \"hireling\", \"hireling\", \"hireling\", \"hireling\", \"hireling\", \"hireling\", \"hireling\", \"hireling\", \"hobit\", \"hobit\", \"hobit\", \"hobit\", \"hobit\", \"hobit\", \"hobit\", \"hobit\", \"hteks\", \"hungrily\", \"hydrothermal\", \"ibite\", \"iconoclast\", \"ilumination\", \"ilumination\", \"ilumination\", \"ilumination\", \"ilumination\", \"imagic\", \"imagic\", \"imagician\", \"imp\", \"imp\", \"imp\", \"imp\", \"imp\", \"imp\", \"imp\", \"imp\", \"ingredient\", \"ingredient\", \"ingredient\", \"ingredient\", \"ingredient\", \"ingredient\", \"ingredient\", \"ingredient\", \"instigator\", \"instigator\", \"instigator\", \"intruder\", \"intruder\", \"intruder\", \"intruder\", \"intruder\", \"intruder\", \"intruder\", \"intruder\", \"invariant\", \"invariant\", \"investigator\", \"investigator\", \"investigator\", \"investigator\", \"investigator\", \"investigator\", \"investigator\", \"investigator\", \"iqdn\", \"iqdn\", \"item\", \"item\", \"item\", \"item\", \"item\", \"item\", \"item\", \"item\", \"jack\", \"jack\", \"jack\", \"jack\", \"jack\", \"jack\", \"jack\", \"jack\", \"jail\", \"jail\", \"jail\", \"jail\", \"jail\", \"jail\", \"jail\", \"jail\", \"jumptube\", \"jungle\", \"jungle\", \"jungle\", \"jungle\", \"jungle\", \"jungle\", \"jungle\", \"jungle\", \"kahuna\", \"kahuna\", \"kahuna\", \"kahuna\", \"kahuna\", \"kahuna\", \"keper\", \"keper\", \"keper\", \"keper\", \"keper\", \"keper\", \"keper\", \"keper\", \"keyple\", \"keyple\", \"keyple\", \"keyple\", \"kitsune\", \"kitsune\", \"kitsune\", \"koropokuru\", \"koropokuru\", \"ktan\", \"latch\", \"legislator\", \"legislator\", \"level\", \"level\", \"level\", \"level\", \"level\", \"level\", \"level\", \"level\", \"leverage\", \"leverage\", \"leverage\", \"leverage\", \"leverage\", \"leverage\", \"leverage\", \"leverage\", \"lira\", \"lira\", \"lira\", \"lira\", \"lira\", \"lira\", \"location\", \"location\", \"location\", \"location\", \"location\", \"location\", \"location\", \"location\", \"locowed\", \"maid\", \"maid\", \"maid\", \"maid\", \"maid\", \"maid\", \"maid\", \"mainframe\", \"mainmast\", \"mainmast\", \"manhatan\", \"manhatan\", \"manhatan\", \"manhatan\", \"manhatan\", \"manhatan\", \"manhatan\", \"manure\", \"manure\", \"manure\", \"manure\", \"manure\", \"manure\", \"maritime\", \"maritime\", \"maritime\", \"maritime\", \"maritime\", \"maritime\", \"maritime\", \"maritime\", \"marker\", \"marker\", \"marker\", \"marker\", \"marker\", \"marker\", \"marker\", \"marker\", \"market\", \"market\", \"market\", \"market\", \"market\", \"market\", \"market\", \"market\", \"mastermind\", \"mastermind\", \"mastermind\", \"mastermind\", \"mastermind\", \"mastermind\", \"mastermind\", \"matchup\", \"matchup\", \"matchup\", \"matchup\", \"matchup\", \"matchup\", \"matsuri\", \"matsuri\", \"mcpherson\", \"mcpherson\", \"mcpherson\", \"mcpherson\", \"mega\", \"mega\", \"mega\", \"mega\", \"mega\", \"mega\", \"mega\", \"mega\", \"megabucks\", \"melded\", \"melded\", \"merchant\", \"merchant\", \"merchant\", \"merchant\", \"merchant\", \"merchant\", \"merchant\", \"merchant\", \"milkwed\", \"milkwed\", \"minion\", \"minion\", \"minion\", \"minion\", \"minion\", \"minion\", \"minion\", \"minion\", \"mision\", \"mision\", \"mision\", \"mision\", \"mision\", \"mision\", \"mision\", \"mision\", \"monopoly\", \"monopoly\", \"monopoly\", \"monopoly\", \"monopoly\", \"monopoly\", \"monopoly\", \"monopoly\", \"monster\", \"monster\", \"monster\", \"monster\", \"monster\", \"monster\", \"monster\", \"monster\", \"mortgage\", \"mortgage\", \"mortgage\", \"mortgage\", \"mortgage\", \"mortgage\", \"mortgage\", \"mortgaged\", \"mortgaged\", \"mortgaged\", \"mortgaged\", \"mortgaged\", \"mortgaged\", \"mortgaged\", \"mortgaging\", \"mortgaging\", \"mortgaging\", \"mortgaging\", \"mortgaging\", \"mortgaging\", \"move\", \"move\", \"move\", \"move\", \"move\", \"move\", \"move\", \"move\", \"movement\", \"movement\", \"movement\", \"movement\", \"movement\", \"movement\", \"movement\", \"movement\", \"mower\", \"multistep\", \"munition\", \"munition\", \"munition\", \"munition\", \"munition\", \"munition\", \"must\", \"must\", \"must\", \"must\", \"must\", \"must\", \"must\", \"must\", \"mythic\", \"mythic\", \"mythic\", \"mythic\", \"mythic\", \"mythic\", \"mythic\", \"nazi\", \"nazi\", \"nazi\", \"nazi\", \"nazi\", \"nazi\", \"nazi\", \"necaer\", \"neigboring\", \"new\", \"new\", \"new\", \"new\", \"new\", \"new\", \"new\", \"new\", \"next\", \"next\", \"next\", \"next\", \"next\", \"next\", \"next\", \"next\", \"ninja\", \"ninja\", \"ninja\", \"ninja\", \"ninja\", \"ninja\", \"ninja\", \"ninja\", \"note\", \"note\", \"note\", \"note\", \"note\", \"note\", \"note\", \"note\", \"novice\", \"novice\", \"novice\", \"novice\", \"novice\", \"novice\", \"novice\", \"novice\", \"number\", \"number\", \"number\", \"number\", \"number\", \"number\", \"number\", \"number\", \"objective\", \"objective\", \"objective\", \"objective\", \"objective\", \"objective\", \"objective\", \"objective\", \"obsidian\", \"obsidian\", \"obsidian\", \"obsidian\", \"obsidian\", \"obsidian\", \"oded\", \"ologo\", \"ologo\", \"ologo\", \"onmyo\", \"operative\", \"operative\", \"operative\", \"operative\", \"operative\", \"operative\", \"operative\", \"operative\", \"orb\", \"orb\", \"orb\", \"orb\", \"orb\", \"orb\", \"orb\", \"orb\", \"order\", \"order\", \"order\", \"order\", \"order\", \"order\", \"order\", \"order\", \"orial\", \"origami\", \"origami\", \"origami\", \"origina\", \"ourishing\", \"overbuilds\", \"overbuilds\", \"overlord\", \"overlord\", \"overlord\", \"overlord\", \"overlord\", \"overlord\", \"overlord\", \"overlord\", \"overstacking\", \"oyster\", \"oyster\", \"oyster\", \"oyster\", \"oyster\", \"oyster\", \"page\", \"page\", \"page\", \"page\", \"page\", \"page\", \"page\", \"page\", \"pagoda\", \"pagoda\", \"pagoda\", \"pagoda\", \"pagoda\", \"pagoda\", \"pagoda\", \"palafico\", \"palafico\", \"pane\", \"pane\", \"paranoia\", \"paranoia\", \"paranoia\", \"paranoia\", \"paranoia\", \"paranoia\", \"paranoia\", \"paranoia\", \"pasenger\", \"pasenger\", \"pasenger\", \"pasenger\", \"pasenger\", \"pasenger\", \"pasenger\", \"pasenger\", \"path\", \"path\", \"path\", \"path\", \"path\", \"path\", \"path\", \"path\", \"patient\", \"patient\", \"patient\", \"patient\", \"patient\", \"patient\", \"patient\", \"patient\", \"peach\", \"peach\", \"pedler\", \"pedler\", \"pedler\", \"pedler\", \"pedler\", \"pedler\", \"pedler\", \"perform\", \"perform\", \"perform\", \"perform\", \"perform\", \"perform\", \"perform\", \"perform\", \"performer\", \"performer\", \"performer\", \"performer\", \"performer\", \"performer\", \"performer\", \"performer\", \"personel\", \"personel\", \"personel\", \"personel\", \"personel\", \"personel\", \"personel\", \"personel\", \"pet\", \"pet\", \"pet\", \"pet\", \"pet\", \"pet\", \"pet\", \"pet\", \"petrol\", \"petrol\", \"petrol\", \"petrol\", \"petrol\", \"phase\", \"phase\", \"phase\", \"phase\", \"phase\", \"phase\", \"phase\", \"phase\", \"pheromone\", \"pheromone\", \"pheromone\", \"pheromone\", \"piece\", \"piece\", \"piece\", \"piece\", \"piece\", \"piece\", \"piece\", \"piece\", \"pigyback\", \"pile\", \"pile\", \"pile\", \"pile\", \"pile\", \"pile\", \"pile\", \"pile\", \"pimpmobile\", \"pimpmobile\", \"pimpmobile\", \"pimpmobile\", \"pimpmobile\", \"pivoting\", \"pivoting\", \"pivoting\", \"pivoting\", \"placard\", \"placard\", \"placard\", \"placard\", \"placard\", \"placard\", \"placard\", \"placard\", \"placed\", \"placed\", \"placed\", \"placed\", \"placed\", \"placed\", \"placed\", \"placed\", \"plainclothes\", \"planeswalker\", \"planeswalker\", \"planeswalkers\", \"planeswalkers\", \"planet\", \"planet\", \"planet\", \"planet\", \"planet\", \"planet\", \"planet\", \"planet\", \"plant\", \"plant\", \"plant\", \"plant\", \"plant\", \"plant\", \"plant\", \"plant\", \"plaster\", \"plaster\", \"plaster\", \"play\", \"play\", \"play\", \"play\", \"play\", \"play\", \"play\", \"play\", \"playersmaychose\", \"plenitude\", \"plenitude\", \"polygon\", \"polygon\", \"polygon\", \"polygon\", \"potato\", \"potato\", \"potato\", \"potato\", \"potato\", \"potato\", \"potato\", \"potato\", \"poutine\", \"poutine\", \"power\", \"power\", \"power\", \"power\", \"power\", \"power\", \"power\", \"power\", \"prankster\", \"predation\", \"predation\", \"prefecture\", \"prefecture\", \"prefesion\", \"preserver\", \"preserver\", \"preserver\", \"principality\", \"principality\", \"principality\", \"principality\", \"principality\", \"principality\", \"principality\", \"principality\", \"property\", \"property\", \"property\", \"property\", \"property\", \"property\", \"property\", \"property\", \"prosecutor\", \"prosecutor\", \"prosecutor\", \"prosecutor\", \"prosecutor\", \"psychiatrist\", \"psychiatrist\", \"psychiatrist\", \"pub\", \"pub\", \"pub\", \"pub\", \"pub\", \"pub\", \"pub\", \"pub\", \"pupil\", \"pupil\", \"pupil\", \"pupil\", \"pupil\", \"pupil\", \"pupil\", \"puzle\", \"puzle\", \"puzle\", \"puzle\", \"puzle\", \"puzle\", \"puzle\", \"puzle\", \"pyramid\", \"pyramid\", \"pyramid\", \"pyramid\", \"pyramid\", \"pyramid\", \"pyramid\", \"pyramid\", \"quantum\", \"quantum\", \"quantum\", \"quantum\", \"quantum\", \"quantum\", \"quantum\", \"quartz\", \"quartz\", \"quartz\", \"quartz\", \"quest\", \"quest\", \"quest\", \"quest\", \"quest\", \"quest\", \"quest\", \"quest\", \"quirk\", \"quirk\", \"quirk\", \"quirk\", \"quirk\", \"quirk\", \"quirk\", \"quotation\", \"quotation\", \"quotation\", \"quotation\", \"quotation\", \"race\", \"race\", \"race\", \"race\", \"race\", \"race\", \"race\", \"race\", \"racer\", \"racer\", \"racer\", \"racer\", \"racer\", \"racer\", \"racer\", \"railwayman\", \"ranger\", \"ranger\", \"ranger\", \"ranger\", \"ranger\", \"ranger\", \"ranger\", \"ranger\", \"rcountd\", \"receptacle\", \"receptacle\", \"receptacle\", \"receptacle\", \"receptacle\", \"receptacle\", \"receptacle\", \"refocuses\", \"refute\", \"refute\", \"refute\", \"refute\", \"regiment\", \"regiment\", \"regiment\", \"regiment\", \"regiment\", \"regiment\", \"regiment\", \"regiment\", \"region\", \"region\", \"region\", \"region\", \"region\", \"region\", \"region\", \"region\", \"rent\", \"rent\", \"rent\", \"rent\", \"rent\", \"rent\", \"rent\", \"rent\", \"repay\", \"repay\", \"repay\", \"repay\", \"repay\", \"repay\", \"repay\", \"repay\", \"repulse\", \"repulse\", \"repulse\", \"repulse\", \"repulse\", \"reputation\", \"reputation\", \"reputation\", \"reputation\", \"reputation\", \"reputation\", \"reputation\", \"reputation\", \"resource\", \"resource\", \"resource\", \"resource\", \"resource\", \"resource\", \"resource\", \"resource\", \"reteb\", \"reteb\", \"ridle\", \"ridle\", \"ridle\", \"ridle\", \"ridle\", \"ridle\", \"ridle\", \"ridle\", \"rig\", \"rig\", \"rig\", \"rig\", \"rig\", \"rig\", \"rig\", \"rig\", \"ring\", \"ring\", \"ring\", \"ring\", \"ring\", \"ring\", \"ring\", \"ring\", \"ringbearer\", \"ringbearer\", \"ringbearer\", \"ringbearer\", \"ringbearer\", \"ringbearer\", \"ringbearer\", \"robot\", \"robot\", \"robot\", \"robot\", \"robot\", \"robot\", \"robot\", \"robot\", \"robotic\", \"robotic\", \"robotic\", \"robotic\", \"robotic\", \"robotic\", \"robotic\", \"robotic\", \"robs\", \"robs\", \"robs\", \"robs\", \"robs\", \"robs\", \"rol\", \"rol\", \"rol\", \"rol\", \"rol\", \"rol\", \"rol\", \"rol\", \"rom\", \"rom\", \"rom\", \"rom\", \"rom\", \"rom\", \"rom\", \"rom\", \"round\", \"round\", \"round\", \"round\", \"round\", \"round\", \"round\", \"round\", \"route\", \"route\", \"route\", \"route\", \"route\", \"route\", \"route\", \"route\", \"row\", \"row\", \"row\", \"row\", \"row\", \"row\", \"row\", \"row\", \"rowboat\", \"rowboat\", \"rowboat\", \"rpu\", \"rpu\", \"rpu\", \"rpu\", \"rpu\", \"rpu\", \"rule\", \"rule\", \"rule\", \"rule\", \"rule\", \"rule\", \"rule\", \"rule\", \"rumy\", \"rumy\", \"rumy\", \"runestones\", \"runestones\", \"sabertoth\", \"sabertoth\", \"saga\", \"saga\", \"saga\", \"saga\", \"saga\", \"saga\", \"saga\", \"saga\", \"sandpiper\", \"sandpiper\", \"sandpiper\", \"sandwich\", \"sandwich\", \"sandwich\", \"sandwich\", \"sandwich\", \"satrapy\", \"satrapy\", \"satrapy\", \"satrapy\", \"scenario\", \"scenario\", \"scenario\", \"scenario\", \"scenario\", \"scenario\", \"scenario\", \"scenario\", \"schnaps\", \"schnaps\", \"schnaps\", \"schnaps\", \"schnaps\", \"schnaps\", \"score\", \"score\", \"score\", \"score\", \"score\", \"score\", \"score\", \"score\", \"scouted\", \"scouted\", \"scouted\", \"scouted\", \"scouted\", \"scouted\", \"scouted\", \"scrapyard\", \"scrapyard\", \"scrapyard\", \"scrimage\", \"scutle\", \"scutle\", \"scutle\", \"scutle\", \"scutle\", \"se\", \"se\", \"se\", \"se\", \"se\", \"se\", \"se\", \"se\", \"seagras\", \"seagras\", \"seashel\", \"seashel\", \"seashel\", \"seashel\", \"seder\", \"seder\", \"seder\", \"seder\", \"seder\", \"semaphore\", \"sesterces\", \"setlement\", \"setlement\", \"setlement\", \"setlement\", \"setlement\", \"setlement\", \"setlement\", \"setlement\", \"shepdog\", \"shepdog\", \"ship\", \"ship\", \"ship\", \"ship\", \"ship\", \"ship\", \"ship\", \"ship\", \"shiper\", \"shiper\", \"side\", \"side\", \"side\", \"side\", \"side\", \"side\", \"side\", \"side\", \"singly\", \"singly\", \"singly\", \"singly\", \"singly\", \"skeletum\", \"skil\", \"skil\", \"skil\", \"skil\", \"skil\", \"skil\", \"skil\", \"skil\", \"skulk\", \"slamer\", \"slave\", \"slave\", \"slave\", \"slave\", \"slave\", \"slave\", \"slave\", \"slave\", \"smalfolk\", \"sock\", \"sock\", \"sock\", \"sock\", \"sock\", \"sock\", \"sock\", \"sock\", \"soldat\", \"soldat\", \"soldat\", \"sortie\", \"sortie\", \"sortie\", \"sortie\", \"sortie\", \"sortie\", \"sortie\", \"sotczh\", \"sotczh\", \"spael\", \"spawning\", \"spawning\", \"spawning\", \"spawning\", \"spawning\", \"spawning\", \"spawning\", \"spawning\", \"spawnpoint\", \"spawnpoint\", \"spawnpoint\", \"spawnpoint\", \"special\", \"special\", \"special\", \"special\", \"special\", \"special\", \"special\", \"special\", \"spice\", \"spice\", \"spice\", \"spice\", \"spice\", \"spice\", \"spice\", \"spice\", \"spiderweb\", \"spiderweb\", \"spiernatdio\", \"splaying\", \"spymaster\", \"spymaster\", \"spymaster\", \"spymaster\", \"spymaster\", \"spymaster\", \"squadron\", \"squadron\", \"squadron\", \"squadron\", \"squadron\", \"squadron\", \"squadron\", \"squadron\", \"square\", \"square\", \"square\", \"square\", \"square\", \"square\", \"square\", \"square\", \"squid\", \"squid\", \"squid\", \"squid\", \"squid\", \"squid\", \"squid\", \"squid\", \"staging\", \"staging\", \"staging\", \"staging\", \"staging\", \"staging\", \"staging\", \"stal\", \"stal\", \"stal\", \"stal\", \"stal\", \"stal\", \"stal\", \"stal\", \"stalion\", \"stand\", \"stand\", \"stand\", \"stand\", \"stand\", \"stand\", \"stand\", \"stand\", \"striker\", \"stroke\", \"stroke\", \"stroke\", \"stroke\", \"stroke\", \"stroke\", \"stroke\", \"stroke\", \"submits\", \"submits\", \"submits\", \"substitue\", \"sumoku\", \"sumoku\", \"suply\", \"suply\", \"suply\", \"suply\", \"suply\", \"suply\", \"suply\", \"suply\", \"survivor\", \"survivor\", \"survivor\", \"survivor\", \"survivor\", \"survivor\", \"survivor\", \"survivor\", \"swordsman\", \"swordsman\", \"swordsman\", \"swordsman\", \"swordsman\", \"swordsman\", \"swordsman\", \"swordsman\", \"sylvan\", \"sylvan\", \"sylvan\", \"sylvan\", \"sylvan\", \"sylvan\", \"synod\", \"tabo\", \"tabo\", \"take\", \"take\", \"take\", \"take\", \"take\", \"take\", \"take\", \"take\", \"takeover\", \"takeover\", \"takeover\", \"takeover\", \"takeover\", \"takeover\", \"takeover\", \"takeover\", \"tank\", \"tank\", \"tank\", \"tank\", \"tank\", \"tank\", \"tank\", \"tank\", \"team\", \"team\", \"team\", \"team\", \"team\", \"team\", \"team\", \"team\", \"temple\", \"temple\", \"temple\", \"temple\", \"temple\", \"temple\", \"temple\", \"temple\", \"tenant\", \"tenant\", \"tenant\", \"tenant\", \"tenant\", \"tenant\", \"teritory\", \"teritory\", \"teritory\", \"teritory\", \"teritory\", \"teritory\", \"teritory\", \"teritory\", \"test\", \"test\", \"test\", \"test\", \"test\", \"test\", \"test\", \"test\", \"textbok\", \"textbok\", \"textbok\", \"textbok\", \"thief\", \"thief\", \"thief\", \"thief\", \"thief\", \"thief\", \"thief\", \"thief\", \"ticket\", \"ticket\", \"ticket\", \"ticket\", \"ticket\", \"ticket\", \"ticket\", \"ticket\", \"time\", \"time\", \"time\", \"time\", \"time\", \"time\", \"time\", \"time\", \"title\", \"title\", \"title\", \"title\", \"title\", \"title\", \"title\", \"title\", \"toadstol\", \"toadstol\", \"toadstol\", \"tolbox\", \"tolbox\", \"tolbox\", \"tolbox\", \"tolbox\", \"tolbox\", \"toping\", \"toping\", \"toping\", \"touchdown\", \"touchdown\", \"touchdown\", \"toxic\", \"toxic\", \"toxic\", \"toxic\", \"toxic\", \"toxic\", \"toxic\", \"toxic\", \"track\", \"track\", \"track\", \"track\", \"track\", \"track\", \"track\", \"track\", \"tramway\", \"transferable\", \"transferable\", \"transferable\", \"transferable\", \"transferable\", \"transferable\", \"transferable\", \"treasure\", \"treasure\", \"treasure\", \"treasure\", \"treasure\", \"treasure\", \"treasure\", \"treasure\", \"trelis\", \"tretop\", \"tretop\", \"tretop\", \"tretop\", \"tretop\", \"tretop\", \"tributary\", \"tributary\", \"tributary\", \"tributary\", \"tributary\", \"trick\", \"trick\", \"trick\", \"trick\", \"trick\", \"trick\", \"trick\", \"trick\", \"tricolor\", \"tricolor\", \"tsv\", \"tumbler\", \"tumbler\", \"tuor\", \"tuor\", \"tuor\", \"tuor\", \"turnover\", \"turnover\", \"turnover\", \"turnover\", \"two\", \"two\", \"two\", \"two\", \"two\", \"two\", \"two\", \"two\", \"type\", \"type\", \"type\", \"type\", \"type\", \"type\", \"type\", \"type\", \"unacesible\", \"undercover\", \"undercover\", \"undercover\", \"undercover\", \"undercover\", \"undercover\", \"unfit\", \"unfit\", \"unfreze\", \"unhalowed\", \"unicorn\", \"unicorn\", \"unicorn\", \"unicorn\", \"unicorn\", \"unicorn\", \"unicorn\", \"unicorn\", \"unimproved\", \"unimproved\", \"unimproved\", \"unimproved\", \"unimproved\", \"unimproved\", \"unit\", \"unit\", \"unit\", \"unit\", \"unit\", \"unit\", \"unit\", \"unit\", \"unlinked\", \"unmasked\", \"unmasked\", \"unmasked\", \"unmasked\", \"unmasked\", \"unmasked\", \"unmasking\", \"unmasking\", \"unmasking\", \"unmortgaged\", \"unmortgaged\", \"unmortgaged\", \"unmortgaged\", \"unmortgaged\", \"unmortgaged\", \"unsealed\", \"untaunted\", \"untranslated\", \"uprot\", \"use\", \"use\", \"use\", \"use\", \"use\", \"use\", \"use\", \"use\", \"used\", \"used\", \"used\", \"used\", \"used\", \"used\", \"used\", \"used\", \"uxa\", \"value\", \"value\", \"value\", \"value\", \"value\", \"value\", \"value\", \"value\", \"vegie\", \"vegie\", \"vegie\", \"verifi\", \"verifi\", \"verifies\", \"verifies\", \"verifies\", \"verifies\", \"verifies\", \"victory\", \"victory\", \"victory\", \"victory\", \"victory\", \"victory\", \"victory\", \"victory\", \"visitors\", \"visitors\", \"visitors\", \"vitae\", \"vitae\", \"vitae\", \"vitae\", \"vitae\", \"vkp\", \"vpr\", \"vril\", \"vril\", \"vril\", \"waystation\", \"waystation\", \"wendigo\", \"wendigo\", \"wendigo\", \"wendigo\", \"wendigo\", \"wendigo\", \"werewolf\", \"werewolf\", \"werewolf\", \"werewolf\", \"werewolf\", \"werewolf\", \"werewolf\", \"werewolf\", \"wildling\", \"wildling\", \"wildling\", \"wildling\", \"wildling\", \"wildling\", \"wildling\", \"win\", \"win\", \"win\", \"win\", \"win\", \"win\", \"win\", \"win\", \"windfal\", \"windfal\", \"windfal\", \"windfal\", \"windfal\", \"windrose\", \"windrose\", \"windrose\", \"witcher\", \"witcher\", \"witcher\", \"witcher\", \"wolf\", \"wolf\", \"wolf\", \"wolf\", \"wolf\", \"wolf\", \"wolf\", \"wolf\", \"worker\", \"worker\", \"worker\", \"worker\", \"worker\", \"worker\", \"worker\", \"worker\", \"workman\", \"workman\", \"workman\", \"workman\", \"xaie\", \"yuan\", \"yuan\", \"yuan\", \"yuan\", \"yuan\", \"zoc\", \"zoc\", \"zoc\", \"zoc\", \"zoc\", \"zoc\", \"zoc\", \"zombicide\", \"zombicide\", \"zombicide\", \"zombicide\", \"zombicide\", \"zombicide\", \"zombicide\", \"zombie\", \"zombie\", \"zombie\", \"zombie\", \"zombie\", \"zombie\", \"zombie\", \"zombie\", \"zone\", \"zone\", \"zone\", \"zone\", \"zone\", \"zone\", \"zone\", \"zone\"]}, \"R\": 30, \"lambda.step\": 0.01, \"plot.opts\": {\"xlab\": \"PC1\", \"ylab\": \"PC2\"}, \"topic.order\": [5, 3, 6, 2, 1, 8, 4, 7]};\n",
       "\n",
       "function LDAvis_load_lib(url, callback){\n",
       "  var s = document.createElement('script');\n",
       "  s.src = url;\n",
       "  s.async = true;\n",
       "  s.onreadystatechange = s.onload = callback;\n",
       "  s.onerror = function(){console.warn(\"failed to load library \" + url);};\n",
       "  document.getElementsByTagName(\"head\")[0].appendChild(s);\n",
       "}\n",
       "\n",
       "if(typeof(LDAvis) !== \"undefined\"){\n",
       "   // already loaded: just create the visualization\n",
       "   !function(LDAvis){\n",
       "       new LDAvis(\"#\" + \"ldavis_el516825436040538569663666048\", ldavis_el516825436040538569663666048_data);\n",
       "   }(LDAvis);\n",
       "}else if(typeof define === \"function\" && define.amd){\n",
       "   // require.js is available: use it to load d3/LDAvis\n",
       "   require.config({paths: {d3: \"https://d3js.org/d3.v5\"}});\n",
       "   require([\"d3\"], function(d3){\n",
       "      window.d3 = d3;\n",
       "      LDAvis_load_lib(\"https://cdn.jsdelivr.net/gh/bmabey/pyLDAvis@3.4.0/pyLDAvis/js/ldavis.v3.0.0.js\", function(){\n",
       "        new LDAvis(\"#\" + \"ldavis_el516825436040538569663666048\", ldavis_el516825436040538569663666048_data);\n",
       "      });\n",
       "    });\n",
       "}else{\n",
       "    // require.js not available: dynamically load d3 & LDAvis\n",
       "    LDAvis_load_lib(\"https://d3js.org/d3.v5.js\", function(){\n",
       "         LDAvis_load_lib(\"https://cdn.jsdelivr.net/gh/bmabey/pyLDAvis@3.4.0/pyLDAvis/js/ldavis.v3.0.0.js\", function(){\n",
       "                 new LDAvis(\"#\" + \"ldavis_el516825436040538569663666048\", ldavis_el516825436040538569663666048_data);\n",
       "            })\n",
       "         });\n",
       "}\n",
       "</script>"
      ],
      "text/plain": [
       "<IPython.core.display.HTML object>"
      ]
     },
     "execution_count": 14,
     "metadata": {},
     "output_type": "execute_result"
    }
   ],
   "source": [
    "pyLDAvis.enable_notebook()\n",
    "vis = gensimvis.prepare(lda_model, corpus, id2word)\n",
    "pyLDAvis.display(vis)"
   ]
  },
  {
   "cell_type": "markdown",
   "metadata": {},
   "source": [
    "## 2.4  Hierarchical Dirichlet Process (HDP)"
   ]
  },
  {
   "cell_type": "code",
   "execution_count": 13,
   "metadata": {},
   "outputs": [
    {
     "name": "stdout",
     "output_type": "stream",
     "text": [
      "Number of significant topics: 8\n",
      "Topic 3: 0.016*unit + 0.007*hex + 0.007*move + 0.006*batle + 0.006*god + 0.006*lore + 0.005*take + 0.005*round + 0.005*number + 0.005*must\n",
      "Topic 6: 0.021*investigator + 0.020*monster + 0.014*gate + 0.010*location + 0.009*encounter + 0.007*check + 0.007*arkham + 0.006*ancient + 0.006*item + 0.006*move\n",
      "Topic 25: 0.016*hero + 0.009*atack + 0.008*guild + 0.007*monster + 0.007*scenario + 0.004*inferno + 0.004*quest + 0.003*campaign + 0.003*move + 0.003*rulebok\n",
      "Topic 27: 0.018*building + 0.006*money + 0.006*play + 0.005*rule + 0.005*wal + 0.004*extension + 0.004*new + 0.004*scoring + 0.004*module + 0.004*change\n",
      "Topic 37: 0.014*investigator + 0.006*enemy + 0.005*deck + 0.005*location + 0.004*test + 0.003*copy + 0.003*play + 0.003*skil + 0.003*scenario + 0.002*fg\n",
      "Topic 38: 0.015*unit + 0.005*lore + 0.005*hex + 0.004*deployment + 0.004*scenario + 0.003*step + 0.003*comand + 0.003*must + 0.003*terain + 0.003*atack\n",
      "Topic 39: 0.015*technology + 0.009*enginer + 0.006*launch + 0.006*mision + 0.005*rocket + 0.005*stage + 0.005*authority + 0.004*round + 0.004*event + 0.004*reserve\n",
      "Topic 48: 0.019*rom + 0.011*per + 0.009*castle + 0.004*score + 0.004*throne + 0.003*bonus + 0.003*type + 0.002*placed + 0.002*living + 0.002*level\n"
     ]
    }
   ],
   "source": [
    "# extract the clean_textbook column\n",
    "texts = rulebook_data_cleaned['clean_rulebook'].str.split()\n",
    "\n",
    "# create a gensim dictionary and corpus\n",
    "dictionary = Dictionary(texts)\n",
    "corpus = [dictionary.doc2bow(text) for text in texts]\n",
    "\n",
    "# build HDP model\n",
    "hdp_model = HdpModel(corpus=corpus, id2word=dictionary, random_state=7)\n",
    "threshold = 0.013\n",
    "\n",
    "# extract all topics\n",
    "num_detected_topics = len(hdp_model.get_topics())\n",
    "all_topics = hdp_model.print_topics(num_topics=num_detected_topics, num_words=10)\n",
    "\n",
    "# filter significant topics based on the threshold\n",
    "significant_topics = []\n",
    "for i, topic in enumerate(all_topics):\n",
    "    topic_id, topic_details = topic\n",
    "    word_probs = [float(w.split(\"*\")[0]) for w in topic_details.split(\" + \")]\n",
    "    if max(word_probs) > threshold:\n",
    "        significant_topics.append((topic_id, topic_details))\n",
    "\n",
    "# print significant topics\n",
    "print(f\"Number of significant topics: {len(significant_topics)}\")\n",
    "for topic_id, topic_details in significant_topics:\n",
    "    print(f\"Topic {topic_id}: {topic_details}\")"
   ]
  },
  {
   "cell_type": "markdown",
   "metadata": {},
   "source": [
    "## 2.3 BERTopic"
   ]
  },
  {
   "cell_type": "code",
   "execution_count": 10,
   "metadata": {},
   "outputs": [
    {
     "name": "stderr",
     "output_type": "stream",
     "text": [
      "[nltk_data] Downloading package stopwords to\n",
      "[nltk_data]     C:\\Users\\marsone\\AppData\\Roaming\\nltk_data...\n",
      "[nltk_data]   Package stopwords is already up-to-date!\n"
     ]
    },
    {
     "name": "stdout",
     "output_type": "stream",
     "text": [
      "   Topic  Count                               Name  \\\n",
      "0     -1   1024              -1_take_play_end_must   \n",
      "1      0   1447              0_take_play_move_must   \n",
      "2      1     73    1_dice_ingredient_number_potion   \n",
      "3      2     55          2_property_bank_jail_rent   \n",
      "4      3     45         3_detective_case_clue_lead   \n",
      "5      4     22           4_child_animal_kid_piece   \n",
      "6      5     19  5_asasin_location_enemy_character   \n",
      "7      6     12            6_ghost_taoist_play_tao   \n",
      "8      7     12   7_patient_doctor_nurse_treatment   \n",
      "\n",
      "                                      Representation  \\\n",
      "0  [take, play, end, must, move, round, number, f...   \n",
      "1  [take, play, move, must, number, end, first, t...   \n",
      "2  [dice, ingredient, number, potion, rol, chip, ...   \n",
      "3  [property, bank, jail, rent, pay, title, must,...   \n",
      "4  [detective, case, clue, lead, character, inves...   \n",
      "5  [child, animal, kid, piece, fort, puzle, suit,...   \n",
      "6  [asasin, location, enemy, character, artefact,...   \n",
      "7  [ghost, taoist, play, tao, incarnation, haunt,...   \n",
      "8  [patient, doctor, nurse, treatment, ambulance,...   \n",
      "\n",
      "                                 Representative_Docs  \n",
      "0  [table content credit credit design nick overv...  \n",
      "1  [alexander second edition rulebok america cent...  \n",
      "2  [unoficial translation min clever dice year co...  \n",
      "3  [set like play fast age shufle suply chest cor...  \n",
      "4  [introduction welcome stret london fog spread ...  \n",
      "5  [original child exercise sense observation lea...  \n",
      "6  [component list find detailed list component i...  \n",
      "7  [content rulebok box double deck caled ghost m...  \n",
      "8  [introduction serious realistic expansion exte...  \n",
      "[('take', 0.011835066693237714), ('play', 0.01152877663080332), ('move', 0.011188513565845236), ('must', 0.011058369038676071), ('number', 0.010226466241689464), ('end', 0.010181558764077683), ('first', 0.009290431758126619), ('two', 0.009159236206163187), ('use', 0.009015647174950918), ('deck', 0.008929503835804393)]\n"
     ]
    },
    {
     "data": {
      "application/vnd.plotly.v1+json": {
       "config": {
        "plotlyServerURL": "https://plot.ly"
       },
       "data": [
        {
         "customdata": [
          [
           0,
           "take | play | move | must | number",
           1447
          ],
          [
           1,
           "dice | ingredient | number | potion | rol",
           73
          ],
          [
           2,
           "property | bank | jail | rent | pay",
           55
          ],
          [
           3,
           "detective | case | clue | lead | character",
           45
          ],
          [
           4,
           "child | animal | kid | piece | fort",
           22
          ],
          [
           5,
           "asasin | location | enemy | character | artefact",
           19
          ],
          [
           6,
           "ghost | taoist | play | tao | incarnation",
           12
          ],
          [
           7,
           "patient | doctor | nurse | treatment | ambulance",
           12
          ]
         ],
         "hovertemplate": "<b>Topic %{customdata[0]}</b><br>%{customdata[1]}<br>Size: %{customdata[2]}",
         "legendgroup": "",
         "marker": {
          "color": "#B0BEC5",
          "line": {
           "color": "DarkSlateGrey",
           "width": 2
          },
          "size": [
           1447,
           73,
           55,
           45,
           22,
           19,
           12,
           12
          ],
          "sizemode": "area",
          "sizeref": 0.904375,
          "symbol": "circle"
         },
         "mode": "markers",
         "name": "",
         "orientation": "v",
         "showlegend": false,
         "type": "scatter",
         "x": [
          21.468847274780273,
          20.67429542541504,
          16.996286392211914,
          19.133426666259766,
          17.917068481445312,
          20.89159393310547,
          18.82535743713379,
          20.481800079345703
         ],
         "xaxis": "x",
         "y": [
          7.5244245529174805,
          8.559012413024902,
          6.677853584289551,
          7.719614505767822,
          8.472273826599121,
          7.778284072875977,
          6.317248344421387,
          6.991214752197266
         ],
         "yaxis": "y"
        }
       ],
       "layout": {
        "annotations": [
         {
          "showarrow": false,
          "text": "D1",
          "x": 14.446843433380128,
          "y": 7.606262683868408,
          "yshift": 10
         },
         {
          "showarrow": false,
          "text": "D2",
          "x": 19.56800889968872,
          "xshift": 10,
          "y": 9.842864274978638
         }
        ],
        "height": 650,
        "hoverlabel": {
         "bgcolor": "white",
         "font": {
          "family": "Rockwell",
          "size": 16
         }
        },
        "legend": {
         "itemsizing": "constant",
         "tracegroupgap": 0
        },
        "margin": {
         "t": 60
        },
        "shapes": [
         {
          "line": {
           "color": "#CFD8DC",
           "width": 2
          },
          "type": "line",
          "x0": 19.56800889968872,
          "x1": 19.56800889968872,
          "y0": 5.369661092758179,
          "y1": 9.842864274978638
         },
         {
          "line": {
           "color": "#9E9E9E",
           "width": 2
          },
          "type": "line",
          "x0": 14.446843433380128,
          "x1": 24.689174365997314,
          "y0": 7.606262683868408,
          "y1": 7.606262683868408
         }
        ],
        "sliders": [
         {
          "active": 0,
          "pad": {
           "t": 50
          },
          "steps": [
           {
            "args": [
             {
              "marker.color": [
               [
                "red",
                "#B0BEC5",
                "#B0BEC5",
                "#B0BEC5",
                "#B0BEC5",
                "#B0BEC5",
                "#B0BEC5",
                "#B0BEC5"
               ]
              ]
             }
            ],
            "label": "Topic 0",
            "method": "update"
           },
           {
            "args": [
             {
              "marker.color": [
               [
                "#B0BEC5",
                "red",
                "#B0BEC5",
                "#B0BEC5",
                "#B0BEC5",
                "#B0BEC5",
                "#B0BEC5",
                "#B0BEC5"
               ]
              ]
             }
            ],
            "label": "Topic 1",
            "method": "update"
           },
           {
            "args": [
             {
              "marker.color": [
               [
                "#B0BEC5",
                "#B0BEC5",
                "red",
                "#B0BEC5",
                "#B0BEC5",
                "#B0BEC5",
                "#B0BEC5",
                "#B0BEC5"
               ]
              ]
             }
            ],
            "label": "Topic 2",
            "method": "update"
           },
           {
            "args": [
             {
              "marker.color": [
               [
                "#B0BEC5",
                "#B0BEC5",
                "#B0BEC5",
                "red",
                "#B0BEC5",
                "#B0BEC5",
                "#B0BEC5",
                "#B0BEC5"
               ]
              ]
             }
            ],
            "label": "Topic 3",
            "method": "update"
           },
           {
            "args": [
             {
              "marker.color": [
               [
                "#B0BEC5",
                "#B0BEC5",
                "#B0BEC5",
                "#B0BEC5",
                "red",
                "#B0BEC5",
                "#B0BEC5",
                "#B0BEC5"
               ]
              ]
             }
            ],
            "label": "Topic 4",
            "method": "update"
           },
           {
            "args": [
             {
              "marker.color": [
               [
                "#B0BEC5",
                "#B0BEC5",
                "#B0BEC5",
                "#B0BEC5",
                "#B0BEC5",
                "red",
                "#B0BEC5",
                "#B0BEC5"
               ]
              ]
             }
            ],
            "label": "Topic 5",
            "method": "update"
           },
           {
            "args": [
             {
              "marker.color": [
               [
                "#B0BEC5",
                "#B0BEC5",
                "#B0BEC5",
                "#B0BEC5",
                "#B0BEC5",
                "#B0BEC5",
                "red",
                "#B0BEC5"
               ]
              ]
             }
            ],
            "label": "Topic 6",
            "method": "update"
           },
           {
            "args": [
             {
              "marker.color": [
               [
                "#B0BEC5",
                "#B0BEC5",
                "#B0BEC5",
                "#B0BEC5",
                "#B0BEC5",
                "#B0BEC5",
                "#B0BEC5",
                "red"
               ]
              ]
             }
            ],
            "label": "Topic 7",
            "method": "update"
           }
          ]
         }
        ],
        "template": {
         "data": {
          "bar": [
           {
            "error_x": {
             "color": "rgb(36,36,36)"
            },
            "error_y": {
             "color": "rgb(36,36,36)"
            },
            "marker": {
             "line": {
              "color": "white",
              "width": 0.5
             },
             "pattern": {
              "fillmode": "overlay",
              "size": 10,
              "solidity": 0.2
             }
            },
            "type": "bar"
           }
          ],
          "barpolar": [
           {
            "marker": {
             "line": {
              "color": "white",
              "width": 0.5
             },
             "pattern": {
              "fillmode": "overlay",
              "size": 10,
              "solidity": 0.2
             }
            },
            "type": "barpolar"
           }
          ],
          "carpet": [
           {
            "aaxis": {
             "endlinecolor": "rgb(36,36,36)",
             "gridcolor": "white",
             "linecolor": "white",
             "minorgridcolor": "white",
             "startlinecolor": "rgb(36,36,36)"
            },
            "baxis": {
             "endlinecolor": "rgb(36,36,36)",
             "gridcolor": "white",
             "linecolor": "white",
             "minorgridcolor": "white",
             "startlinecolor": "rgb(36,36,36)"
            },
            "type": "carpet"
           }
          ],
          "choropleth": [
           {
            "colorbar": {
             "outlinewidth": 1,
             "tickcolor": "rgb(36,36,36)",
             "ticks": "outside"
            },
            "type": "choropleth"
           }
          ],
          "contour": [
           {
            "colorbar": {
             "outlinewidth": 1,
             "tickcolor": "rgb(36,36,36)",
             "ticks": "outside"
            },
            "colorscale": [
             [
              0,
              "#440154"
             ],
             [
              0.1111111111111111,
              "#482878"
             ],
             [
              0.2222222222222222,
              "#3e4989"
             ],
             [
              0.3333333333333333,
              "#31688e"
             ],
             [
              0.4444444444444444,
              "#26828e"
             ],
             [
              0.5555555555555556,
              "#1f9e89"
             ],
             [
              0.6666666666666666,
              "#35b779"
             ],
             [
              0.7777777777777778,
              "#6ece58"
             ],
             [
              0.8888888888888888,
              "#b5de2b"
             ],
             [
              1,
              "#fde725"
             ]
            ],
            "type": "contour"
           }
          ],
          "contourcarpet": [
           {
            "colorbar": {
             "outlinewidth": 1,
             "tickcolor": "rgb(36,36,36)",
             "ticks": "outside"
            },
            "type": "contourcarpet"
           }
          ],
          "heatmap": [
           {
            "colorbar": {
             "outlinewidth": 1,
             "tickcolor": "rgb(36,36,36)",
             "ticks": "outside"
            },
            "colorscale": [
             [
              0,
              "#440154"
             ],
             [
              0.1111111111111111,
              "#482878"
             ],
             [
              0.2222222222222222,
              "#3e4989"
             ],
             [
              0.3333333333333333,
              "#31688e"
             ],
             [
              0.4444444444444444,
              "#26828e"
             ],
             [
              0.5555555555555556,
              "#1f9e89"
             ],
             [
              0.6666666666666666,
              "#35b779"
             ],
             [
              0.7777777777777778,
              "#6ece58"
             ],
             [
              0.8888888888888888,
              "#b5de2b"
             ],
             [
              1,
              "#fde725"
             ]
            ],
            "type": "heatmap"
           }
          ],
          "heatmapgl": [
           {
            "colorbar": {
             "outlinewidth": 1,
             "tickcolor": "rgb(36,36,36)",
             "ticks": "outside"
            },
            "colorscale": [
             [
              0,
              "#440154"
             ],
             [
              0.1111111111111111,
              "#482878"
             ],
             [
              0.2222222222222222,
              "#3e4989"
             ],
             [
              0.3333333333333333,
              "#31688e"
             ],
             [
              0.4444444444444444,
              "#26828e"
             ],
             [
              0.5555555555555556,
              "#1f9e89"
             ],
             [
              0.6666666666666666,
              "#35b779"
             ],
             [
              0.7777777777777778,
              "#6ece58"
             ],
             [
              0.8888888888888888,
              "#b5de2b"
             ],
             [
              1,
              "#fde725"
             ]
            ],
            "type": "heatmapgl"
           }
          ],
          "histogram": [
           {
            "marker": {
             "line": {
              "color": "white",
              "width": 0.6
             }
            },
            "type": "histogram"
           }
          ],
          "histogram2d": [
           {
            "colorbar": {
             "outlinewidth": 1,
             "tickcolor": "rgb(36,36,36)",
             "ticks": "outside"
            },
            "colorscale": [
             [
              0,
              "#440154"
             ],
             [
              0.1111111111111111,
              "#482878"
             ],
             [
              0.2222222222222222,
              "#3e4989"
             ],
             [
              0.3333333333333333,
              "#31688e"
             ],
             [
              0.4444444444444444,
              "#26828e"
             ],
             [
              0.5555555555555556,
              "#1f9e89"
             ],
             [
              0.6666666666666666,
              "#35b779"
             ],
             [
              0.7777777777777778,
              "#6ece58"
             ],
             [
              0.8888888888888888,
              "#b5de2b"
             ],
             [
              1,
              "#fde725"
             ]
            ],
            "type": "histogram2d"
           }
          ],
          "histogram2dcontour": [
           {
            "colorbar": {
             "outlinewidth": 1,
             "tickcolor": "rgb(36,36,36)",
             "ticks": "outside"
            },
            "colorscale": [
             [
              0,
              "#440154"
             ],
             [
              0.1111111111111111,
              "#482878"
             ],
             [
              0.2222222222222222,
              "#3e4989"
             ],
             [
              0.3333333333333333,
              "#31688e"
             ],
             [
              0.4444444444444444,
              "#26828e"
             ],
             [
              0.5555555555555556,
              "#1f9e89"
             ],
             [
              0.6666666666666666,
              "#35b779"
             ],
             [
              0.7777777777777778,
              "#6ece58"
             ],
             [
              0.8888888888888888,
              "#b5de2b"
             ],
             [
              1,
              "#fde725"
             ]
            ],
            "type": "histogram2dcontour"
           }
          ],
          "mesh3d": [
           {
            "colorbar": {
             "outlinewidth": 1,
             "tickcolor": "rgb(36,36,36)",
             "ticks": "outside"
            },
            "type": "mesh3d"
           }
          ],
          "parcoords": [
           {
            "line": {
             "colorbar": {
              "outlinewidth": 1,
              "tickcolor": "rgb(36,36,36)",
              "ticks": "outside"
             }
            },
            "type": "parcoords"
           }
          ],
          "pie": [
           {
            "automargin": true,
            "type": "pie"
           }
          ],
          "scatter": [
           {
            "fillpattern": {
             "fillmode": "overlay",
             "size": 10,
             "solidity": 0.2
            },
            "type": "scatter"
           }
          ],
          "scatter3d": [
           {
            "line": {
             "colorbar": {
              "outlinewidth": 1,
              "tickcolor": "rgb(36,36,36)",
              "ticks": "outside"
             }
            },
            "marker": {
             "colorbar": {
              "outlinewidth": 1,
              "tickcolor": "rgb(36,36,36)",
              "ticks": "outside"
             }
            },
            "type": "scatter3d"
           }
          ],
          "scattercarpet": [
           {
            "marker": {
             "colorbar": {
              "outlinewidth": 1,
              "tickcolor": "rgb(36,36,36)",
              "ticks": "outside"
             }
            },
            "type": "scattercarpet"
           }
          ],
          "scattergeo": [
           {
            "marker": {
             "colorbar": {
              "outlinewidth": 1,
              "tickcolor": "rgb(36,36,36)",
              "ticks": "outside"
             }
            },
            "type": "scattergeo"
           }
          ],
          "scattergl": [
           {
            "marker": {
             "colorbar": {
              "outlinewidth": 1,
              "tickcolor": "rgb(36,36,36)",
              "ticks": "outside"
             }
            },
            "type": "scattergl"
           }
          ],
          "scattermapbox": [
           {
            "marker": {
             "colorbar": {
              "outlinewidth": 1,
              "tickcolor": "rgb(36,36,36)",
              "ticks": "outside"
             }
            },
            "type": "scattermapbox"
           }
          ],
          "scatterpolar": [
           {
            "marker": {
             "colorbar": {
              "outlinewidth": 1,
              "tickcolor": "rgb(36,36,36)",
              "ticks": "outside"
             }
            },
            "type": "scatterpolar"
           }
          ],
          "scatterpolargl": [
           {
            "marker": {
             "colorbar": {
              "outlinewidth": 1,
              "tickcolor": "rgb(36,36,36)",
              "ticks": "outside"
             }
            },
            "type": "scatterpolargl"
           }
          ],
          "scatterternary": [
           {
            "marker": {
             "colorbar": {
              "outlinewidth": 1,
              "tickcolor": "rgb(36,36,36)",
              "ticks": "outside"
             }
            },
            "type": "scatterternary"
           }
          ],
          "surface": [
           {
            "colorbar": {
             "outlinewidth": 1,
             "tickcolor": "rgb(36,36,36)",
             "ticks": "outside"
            },
            "colorscale": [
             [
              0,
              "#440154"
             ],
             [
              0.1111111111111111,
              "#482878"
             ],
             [
              0.2222222222222222,
              "#3e4989"
             ],
             [
              0.3333333333333333,
              "#31688e"
             ],
             [
              0.4444444444444444,
              "#26828e"
             ],
             [
              0.5555555555555556,
              "#1f9e89"
             ],
             [
              0.6666666666666666,
              "#35b779"
             ],
             [
              0.7777777777777778,
              "#6ece58"
             ],
             [
              0.8888888888888888,
              "#b5de2b"
             ],
             [
              1,
              "#fde725"
             ]
            ],
            "type": "surface"
           }
          ],
          "table": [
           {
            "cells": {
             "fill": {
              "color": "rgb(237,237,237)"
             },
             "line": {
              "color": "white"
             }
            },
            "header": {
             "fill": {
              "color": "rgb(217,217,217)"
             },
             "line": {
              "color": "white"
             }
            },
            "type": "table"
           }
          ]
         },
         "layout": {
          "annotationdefaults": {
           "arrowhead": 0,
           "arrowwidth": 1
          },
          "autotypenumbers": "strict",
          "coloraxis": {
           "colorbar": {
            "outlinewidth": 1,
            "tickcolor": "rgb(36,36,36)",
            "ticks": "outside"
           }
          },
          "colorscale": {
           "diverging": [
            [
             0,
             "rgb(103,0,31)"
            ],
            [
             0.1,
             "rgb(178,24,43)"
            ],
            [
             0.2,
             "rgb(214,96,77)"
            ],
            [
             0.3,
             "rgb(244,165,130)"
            ],
            [
             0.4,
             "rgb(253,219,199)"
            ],
            [
             0.5,
             "rgb(247,247,247)"
            ],
            [
             0.6,
             "rgb(209,229,240)"
            ],
            [
             0.7,
             "rgb(146,197,222)"
            ],
            [
             0.8,
             "rgb(67,147,195)"
            ],
            [
             0.9,
             "rgb(33,102,172)"
            ],
            [
             1,
             "rgb(5,48,97)"
            ]
           ],
           "sequential": [
            [
             0,
             "#440154"
            ],
            [
             0.1111111111111111,
             "#482878"
            ],
            [
             0.2222222222222222,
             "#3e4989"
            ],
            [
             0.3333333333333333,
             "#31688e"
            ],
            [
             0.4444444444444444,
             "#26828e"
            ],
            [
             0.5555555555555556,
             "#1f9e89"
            ],
            [
             0.6666666666666666,
             "#35b779"
            ],
            [
             0.7777777777777778,
             "#6ece58"
            ],
            [
             0.8888888888888888,
             "#b5de2b"
            ],
            [
             1,
             "#fde725"
            ]
           ],
           "sequentialminus": [
            [
             0,
             "#440154"
            ],
            [
             0.1111111111111111,
             "#482878"
            ],
            [
             0.2222222222222222,
             "#3e4989"
            ],
            [
             0.3333333333333333,
             "#31688e"
            ],
            [
             0.4444444444444444,
             "#26828e"
            ],
            [
             0.5555555555555556,
             "#1f9e89"
            ],
            [
             0.6666666666666666,
             "#35b779"
            ],
            [
             0.7777777777777778,
             "#6ece58"
            ],
            [
             0.8888888888888888,
             "#b5de2b"
            ],
            [
             1,
             "#fde725"
            ]
           ]
          },
          "colorway": [
           "#1F77B4",
           "#FF7F0E",
           "#2CA02C",
           "#D62728",
           "#9467BD",
           "#8C564B",
           "#E377C2",
           "#7F7F7F",
           "#BCBD22",
           "#17BECF"
          ],
          "font": {
           "color": "rgb(36,36,36)"
          },
          "geo": {
           "bgcolor": "white",
           "lakecolor": "white",
           "landcolor": "white",
           "showlakes": true,
           "showland": true,
           "subunitcolor": "white"
          },
          "hoverlabel": {
           "align": "left"
          },
          "hovermode": "closest",
          "mapbox": {
           "style": "light"
          },
          "paper_bgcolor": "white",
          "plot_bgcolor": "white",
          "polar": {
           "angularaxis": {
            "gridcolor": "rgb(232,232,232)",
            "linecolor": "rgb(36,36,36)",
            "showgrid": false,
            "showline": true,
            "ticks": "outside"
           },
           "bgcolor": "white",
           "radialaxis": {
            "gridcolor": "rgb(232,232,232)",
            "linecolor": "rgb(36,36,36)",
            "showgrid": false,
            "showline": true,
            "ticks": "outside"
           }
          },
          "scene": {
           "xaxis": {
            "backgroundcolor": "white",
            "gridcolor": "rgb(232,232,232)",
            "gridwidth": 2,
            "linecolor": "rgb(36,36,36)",
            "showbackground": true,
            "showgrid": false,
            "showline": true,
            "ticks": "outside",
            "zeroline": false,
            "zerolinecolor": "rgb(36,36,36)"
           },
           "yaxis": {
            "backgroundcolor": "white",
            "gridcolor": "rgb(232,232,232)",
            "gridwidth": 2,
            "linecolor": "rgb(36,36,36)",
            "showbackground": true,
            "showgrid": false,
            "showline": true,
            "ticks": "outside",
            "zeroline": false,
            "zerolinecolor": "rgb(36,36,36)"
           },
           "zaxis": {
            "backgroundcolor": "white",
            "gridcolor": "rgb(232,232,232)",
            "gridwidth": 2,
            "linecolor": "rgb(36,36,36)",
            "showbackground": true,
            "showgrid": false,
            "showline": true,
            "ticks": "outside",
            "zeroline": false,
            "zerolinecolor": "rgb(36,36,36)"
           }
          },
          "shapedefaults": {
           "fillcolor": "black",
           "line": {
            "width": 0
           },
           "opacity": 0.3
          },
          "ternary": {
           "aaxis": {
            "gridcolor": "rgb(232,232,232)",
            "linecolor": "rgb(36,36,36)",
            "showgrid": false,
            "showline": true,
            "ticks": "outside"
           },
           "baxis": {
            "gridcolor": "rgb(232,232,232)",
            "linecolor": "rgb(36,36,36)",
            "showgrid": false,
            "showline": true,
            "ticks": "outside"
           },
           "bgcolor": "white",
           "caxis": {
            "gridcolor": "rgb(232,232,232)",
            "linecolor": "rgb(36,36,36)",
            "showgrid": false,
            "showline": true,
            "ticks": "outside"
           }
          },
          "title": {
           "x": 0.05
          },
          "xaxis": {
           "automargin": true,
           "gridcolor": "rgb(232,232,232)",
           "linecolor": "rgb(36,36,36)",
           "showgrid": false,
           "showline": true,
           "ticks": "outside",
           "title": {
            "standoff": 15
           },
           "zeroline": false,
           "zerolinecolor": "rgb(36,36,36)"
          },
          "yaxis": {
           "automargin": true,
           "gridcolor": "rgb(232,232,232)",
           "linecolor": "rgb(36,36,36)",
           "showgrid": false,
           "showline": true,
           "ticks": "outside",
           "title": {
            "standoff": 15
           },
           "zeroline": false,
           "zerolinecolor": "rgb(36,36,36)"
          }
         }
        },
        "title": {
         "font": {
          "color": "Black",
          "size": 22
         },
         "text": "<b>Intertopic Distance Map</b>",
         "x": 0.5,
         "xanchor": "center",
         "y": 0.95,
         "yanchor": "top"
        },
        "width": 650,
        "xaxis": {
         "anchor": "y",
         "domain": [
          0,
          1
         ],
         "range": [
          14.446843433380128,
          24.689174365997314
         ],
         "title": {
          "text": ""
         },
         "visible": false
        },
        "yaxis": {
         "anchor": "x",
         "domain": [
          0,
          1
         ],
         "range": [
          5.369661092758179,
          9.842864274978638
         ],
         "title": {
          "text": ""
         },
         "visible": false
        }
       }
      }
     },
     "metadata": {},
     "output_type": "display_data"
    }
   ],
   "source": [
    "# Set seeds for reproducibility\n",
    "SEED = 13\n",
    "random.seed(SEED)\n",
    "np.random.seed(SEED)\n",
    "\n",
    "# Extract the cleaned rulebook text\n",
    "documents = rulebook_data_cleaned['clean_rulebook'].tolist()\n",
    "\n",
    "# Configure UMAP with a fixed random state\n",
    "umap_model = UMAP(random_state=SEED, n_neighbors=15, metric='cosine')\n",
    "\n",
    "# Initialize BERTopic with parameters to reduce topics\n",
    "vectorizer_model = CountVectorizer(ngram_range=(1, 2))\n",
    "\n",
    "# Using min_topic_size and nr_topics to reduce the number of topics\n",
    "topic_model = BERTopic(vectorizer_model=vectorizer_model,\n",
    "                       umap_model=umap_model,\n",
    "                       nr_topics=9)  \n",
    "\n",
    "# Fit and transform\n",
    "topics, probs = topic_model.fit_transform(documents)\n",
    "\n",
    "# Summary of topics\n",
    "print(topic_model.get_topic_info())\n",
    "topic_model.visualize_topics()"
   ]
  },
  {
   "cell_type": "code",
   "execution_count": 11,
   "metadata": {},
   "outputs": [
    {
     "data": {
      "application/vnd.plotly.v1+json": {
       "config": {
        "plotlyServerURL": "https://plot.ly"
       },
       "data": [
        {
         "marker": {
          "color": "#D55E00"
         },
         "orientation": "h",
         "type": "bar",
         "x": [
          0.008929503835804393,
          0.009015647174950918,
          0.009159236206163187,
          0.009290431758126619,
          0.010181558764077683,
          0.010226466241689464,
          0.011058369038676071,
          0.011188513565845236,
          0.01152877663080332,
          0.011835066693237714
         ],
         "xaxis": "x",
         "y": [
          "deck  ",
          "use  ",
          "two  ",
          "first  ",
          "end  ",
          "number  ",
          "must  ",
          "move  ",
          "play  ",
          "take  "
         ],
         "yaxis": "y"
        },
        {
         "marker": {
          "color": "#0072B2"
         },
         "orientation": "h",
         "type": "bar",
         "x": [
          0.01383770880878812,
          0.014586203793423238,
          0.015079240463295503,
          0.016033052951020216,
          0.016731566113606235,
          0.018989319500276887,
          0.019993775500467218,
          0.020650103413832784,
          0.03575615352544797,
          0.05010514438060792
         ],
         "xaxis": "x2",
         "y": [
          "must  ",
          "round  ",
          "take  ",
          "end  ",
          "chip  ",
          "rol  ",
          "potion  ",
          "number  ",
          "ingredient  ",
          "dice  "
         ],
         "yaxis": "y2"
        },
        {
         "marker": {
          "color": "#CC79A7"
         },
         "orientation": "h",
         "type": "bar",
         "x": [
          0.017908252257392194,
          0.018755572061918007,
          0.01904640992732451,
          0.020867243884015348,
          0.020875439804968483,
          0.02239422050490174,
          0.02409034078811941,
          0.02880497633110223,
          0.031344448972163166,
          0.049259221614216836
         ],
         "xaxis": "x3",
         "y": [
          "vilage  ",
          "ded  ",
          "title ded  ",
          "must  ",
          "title  ",
          "pay  ",
          "rent  ",
          "jail  ",
          "bank  ",
          "property  "
         ],
         "yaxis": "y3"
        },
        {
         "marker": {
          "color": "#E69F00"
         },
         "orientation": "h",
         "type": "bar",
         "x": [
          0.015375879993547063,
          0.015380952013357744,
          0.015778632096901047,
          0.01803759182640957,
          0.018414519319362273,
          0.019034289657201862,
          0.022946995425745256,
          0.02625975144511647,
          0.03383769040898954,
          0.036226111186045046
         ],
         "xaxis": "x4",
         "y": [
          "word  ",
          "agent  ",
          "gues  ",
          "suspect  ",
          "investigation  ",
          "character  ",
          "lead  ",
          "clue  ",
          "case  ",
          "detective  "
         ],
         "yaxis": "y4"
        },
        {
         "marker": {
          "color": "#56B4E9"
         },
         "orientation": "h",
         "type": "bar",
         "x": [
          0.01830548356941468,
          0.01938658673721547,
          0.02119475320621201,
          0.021639771565962685,
          0.022619821869404918,
          0.02335136980076594,
          0.026145675591876232,
          0.0420525477907303,
          0.0438043057975696,
          0.0871153770867048
         ],
         "xaxis": "x5",
         "y": [
          "end  ",
          "word  ",
          "fort level  ",
          "suit  ",
          "puzle  ",
          "fort  ",
          "piece  ",
          "kid  ",
          "animal  ",
          "child  "
         ],
         "yaxis": "y5"
        },
        {
         "marker": {
          "color": "#009E73"
         },
         "orientation": "h",
         "type": "bar",
         "x": [
          0.009809897787783895,
          0.010272722645046837,
          0.010855826031123696,
          0.010933148578879223,
          0.011047035581864586,
          0.011545806699731152,
          0.012579352607847065,
          0.012905394712362748,
          0.014983679221094373,
          0.01777906054887428
         ],
         "xaxis": "x6",
         "y": [
          "square  ",
          "play  ",
          "deck  ",
          "campaign  ",
          "quest  ",
          "artefact  ",
          "character  ",
          "enemy  ",
          "location  ",
          "asasin  "
         ],
         "yaxis": "y6"
        },
        {
         "marker": {
          "color": "#F0E442"
         },
         "orientation": "h",
         "type": "bar",
         "x": [
          0.018563743818941388,
          0.019152562077539736,
          0.020959752766219697,
          0.021250313769211333,
          0.021478324843662668,
          0.022354973815226525,
          0.023015622614055705,
          0.023935733679872912,
          0.038620787682825626,
          0.17132938841470524
         ],
         "xaxis": "x7",
         "y": [
          "level  ",
          "spoky  ",
          "mansion  ",
          "use  ",
          "haunt  ",
          "incarnation  ",
          "tao  ",
          "play  ",
          "taoist  ",
          "ghost  "
         ],
         "yaxis": "y7"
        },
        {
         "marker": {
          "color": "#D55E00"
         },
         "orientation": "h",
         "type": "bar",
         "x": [
          0.021624576790742766,
          0.021772356922407126,
          0.02240894045687154,
          0.023940511154304067,
          0.024713380552943337,
          0.0260101566566341,
          0.03014936398617158,
          0.031067799086734963,
          0.05194590241177825,
          0.16133226371566434
         ],
         "xaxis": "x8",
         "y": [
          "department  ",
          "module  ",
          "ward  ",
          "hospital  ",
          "rom  ",
          "ambulance  ",
          "treatment  ",
          "nurse  ",
          "doctor  ",
          "patient  "
         ],
         "yaxis": "y8"
        }
       ],
       "layout": {
        "annotations": [
         {
          "font": {
           "size": 16
          },
          "showarrow": false,
          "text": "Topic 0",
          "x": 0.0875,
          "xanchor": "center",
          "xref": "paper",
          "y": 1,
          "yanchor": "bottom",
          "yref": "paper"
         },
         {
          "font": {
           "size": 16
          },
          "showarrow": false,
          "text": "Topic 1",
          "x": 0.36250000000000004,
          "xanchor": "center",
          "xref": "paper",
          "y": 1,
          "yanchor": "bottom",
          "yref": "paper"
         },
         {
          "font": {
           "size": 16
          },
          "showarrow": false,
          "text": "Topic 2",
          "x": 0.6375000000000001,
          "xanchor": "center",
          "xref": "paper",
          "y": 1,
          "yanchor": "bottom",
          "yref": "paper"
         },
         {
          "font": {
           "size": 16
          },
          "showarrow": false,
          "text": "Topic 3",
          "x": 0.9125,
          "xanchor": "center",
          "xref": "paper",
          "y": 1,
          "yanchor": "bottom",
          "yref": "paper"
         },
         {
          "font": {
           "size": 16
          },
          "showarrow": false,
          "text": "Topic 4",
          "x": 0.0875,
          "xanchor": "center",
          "xref": "paper",
          "y": 0.4,
          "yanchor": "bottom",
          "yref": "paper"
         },
         {
          "font": {
           "size": 16
          },
          "showarrow": false,
          "text": "Topic 5",
          "x": 0.36250000000000004,
          "xanchor": "center",
          "xref": "paper",
          "y": 0.4,
          "yanchor": "bottom",
          "yref": "paper"
         },
         {
          "font": {
           "size": 16
          },
          "showarrow": false,
          "text": "Topic 6",
          "x": 0.6375000000000001,
          "xanchor": "center",
          "xref": "paper",
          "y": 0.4,
          "yanchor": "bottom",
          "yref": "paper"
         },
         {
          "font": {
           "size": 16
          },
          "showarrow": false,
          "text": "Topic 7",
          "x": 0.9125,
          "xanchor": "center",
          "xref": "paper",
          "y": 0.4,
          "yanchor": "bottom",
          "yref": "paper"
         }
        ],
        "height": 500,
        "hoverlabel": {
         "bgcolor": "white",
         "font": {
          "family": "Rockwell",
          "size": 16
         }
        },
        "showlegend": false,
        "template": {
         "data": {
          "bar": [
           {
            "error_x": {
             "color": "#2a3f5f"
            },
            "error_y": {
             "color": "#2a3f5f"
            },
            "marker": {
             "line": {
              "color": "white",
              "width": 0.5
             },
             "pattern": {
              "fillmode": "overlay",
              "size": 10,
              "solidity": 0.2
             }
            },
            "type": "bar"
           }
          ],
          "barpolar": [
           {
            "marker": {
             "line": {
              "color": "white",
              "width": 0.5
             },
             "pattern": {
              "fillmode": "overlay",
              "size": 10,
              "solidity": 0.2
             }
            },
            "type": "barpolar"
           }
          ],
          "carpet": [
           {
            "aaxis": {
             "endlinecolor": "#2a3f5f",
             "gridcolor": "#C8D4E3",
             "linecolor": "#C8D4E3",
             "minorgridcolor": "#C8D4E3",
             "startlinecolor": "#2a3f5f"
            },
            "baxis": {
             "endlinecolor": "#2a3f5f",
             "gridcolor": "#C8D4E3",
             "linecolor": "#C8D4E3",
             "minorgridcolor": "#C8D4E3",
             "startlinecolor": "#2a3f5f"
            },
            "type": "carpet"
           }
          ],
          "choropleth": [
           {
            "colorbar": {
             "outlinewidth": 0,
             "ticks": ""
            },
            "type": "choropleth"
           }
          ],
          "contour": [
           {
            "colorbar": {
             "outlinewidth": 0,
             "ticks": ""
            },
            "colorscale": [
             [
              0,
              "#0d0887"
             ],
             [
              0.1111111111111111,
              "#46039f"
             ],
             [
              0.2222222222222222,
              "#7201a8"
             ],
             [
              0.3333333333333333,
              "#9c179e"
             ],
             [
              0.4444444444444444,
              "#bd3786"
             ],
             [
              0.5555555555555556,
              "#d8576b"
             ],
             [
              0.6666666666666666,
              "#ed7953"
             ],
             [
              0.7777777777777778,
              "#fb9f3a"
             ],
             [
              0.8888888888888888,
              "#fdca26"
             ],
             [
              1,
              "#f0f921"
             ]
            ],
            "type": "contour"
           }
          ],
          "contourcarpet": [
           {
            "colorbar": {
             "outlinewidth": 0,
             "ticks": ""
            },
            "type": "contourcarpet"
           }
          ],
          "heatmap": [
           {
            "colorbar": {
             "outlinewidth": 0,
             "ticks": ""
            },
            "colorscale": [
             [
              0,
              "#0d0887"
             ],
             [
              0.1111111111111111,
              "#46039f"
             ],
             [
              0.2222222222222222,
              "#7201a8"
             ],
             [
              0.3333333333333333,
              "#9c179e"
             ],
             [
              0.4444444444444444,
              "#bd3786"
             ],
             [
              0.5555555555555556,
              "#d8576b"
             ],
             [
              0.6666666666666666,
              "#ed7953"
             ],
             [
              0.7777777777777778,
              "#fb9f3a"
             ],
             [
              0.8888888888888888,
              "#fdca26"
             ],
             [
              1,
              "#f0f921"
             ]
            ],
            "type": "heatmap"
           }
          ],
          "heatmapgl": [
           {
            "colorbar": {
             "outlinewidth": 0,
             "ticks": ""
            },
            "colorscale": [
             [
              0,
              "#0d0887"
             ],
             [
              0.1111111111111111,
              "#46039f"
             ],
             [
              0.2222222222222222,
              "#7201a8"
             ],
             [
              0.3333333333333333,
              "#9c179e"
             ],
             [
              0.4444444444444444,
              "#bd3786"
             ],
             [
              0.5555555555555556,
              "#d8576b"
             ],
             [
              0.6666666666666666,
              "#ed7953"
             ],
             [
              0.7777777777777778,
              "#fb9f3a"
             ],
             [
              0.8888888888888888,
              "#fdca26"
             ],
             [
              1,
              "#f0f921"
             ]
            ],
            "type": "heatmapgl"
           }
          ],
          "histogram": [
           {
            "marker": {
             "pattern": {
              "fillmode": "overlay",
              "size": 10,
              "solidity": 0.2
             }
            },
            "type": "histogram"
           }
          ],
          "histogram2d": [
           {
            "colorbar": {
             "outlinewidth": 0,
             "ticks": ""
            },
            "colorscale": [
             [
              0,
              "#0d0887"
             ],
             [
              0.1111111111111111,
              "#46039f"
             ],
             [
              0.2222222222222222,
              "#7201a8"
             ],
             [
              0.3333333333333333,
              "#9c179e"
             ],
             [
              0.4444444444444444,
              "#bd3786"
             ],
             [
              0.5555555555555556,
              "#d8576b"
             ],
             [
              0.6666666666666666,
              "#ed7953"
             ],
             [
              0.7777777777777778,
              "#fb9f3a"
             ],
             [
              0.8888888888888888,
              "#fdca26"
             ],
             [
              1,
              "#f0f921"
             ]
            ],
            "type": "histogram2d"
           }
          ],
          "histogram2dcontour": [
           {
            "colorbar": {
             "outlinewidth": 0,
             "ticks": ""
            },
            "colorscale": [
             [
              0,
              "#0d0887"
             ],
             [
              0.1111111111111111,
              "#46039f"
             ],
             [
              0.2222222222222222,
              "#7201a8"
             ],
             [
              0.3333333333333333,
              "#9c179e"
             ],
             [
              0.4444444444444444,
              "#bd3786"
             ],
             [
              0.5555555555555556,
              "#d8576b"
             ],
             [
              0.6666666666666666,
              "#ed7953"
             ],
             [
              0.7777777777777778,
              "#fb9f3a"
             ],
             [
              0.8888888888888888,
              "#fdca26"
             ],
             [
              1,
              "#f0f921"
             ]
            ],
            "type": "histogram2dcontour"
           }
          ],
          "mesh3d": [
           {
            "colorbar": {
             "outlinewidth": 0,
             "ticks": ""
            },
            "type": "mesh3d"
           }
          ],
          "parcoords": [
           {
            "line": {
             "colorbar": {
              "outlinewidth": 0,
              "ticks": ""
             }
            },
            "type": "parcoords"
           }
          ],
          "pie": [
           {
            "automargin": true,
            "type": "pie"
           }
          ],
          "scatter": [
           {
            "fillpattern": {
             "fillmode": "overlay",
             "size": 10,
             "solidity": 0.2
            },
            "type": "scatter"
           }
          ],
          "scatter3d": [
           {
            "line": {
             "colorbar": {
              "outlinewidth": 0,
              "ticks": ""
             }
            },
            "marker": {
             "colorbar": {
              "outlinewidth": 0,
              "ticks": ""
             }
            },
            "type": "scatter3d"
           }
          ],
          "scattercarpet": [
           {
            "marker": {
             "colorbar": {
              "outlinewidth": 0,
              "ticks": ""
             }
            },
            "type": "scattercarpet"
           }
          ],
          "scattergeo": [
           {
            "marker": {
             "colorbar": {
              "outlinewidth": 0,
              "ticks": ""
             }
            },
            "type": "scattergeo"
           }
          ],
          "scattergl": [
           {
            "marker": {
             "colorbar": {
              "outlinewidth": 0,
              "ticks": ""
             }
            },
            "type": "scattergl"
           }
          ],
          "scattermapbox": [
           {
            "marker": {
             "colorbar": {
              "outlinewidth": 0,
              "ticks": ""
             }
            },
            "type": "scattermapbox"
           }
          ],
          "scatterpolar": [
           {
            "marker": {
             "colorbar": {
              "outlinewidth": 0,
              "ticks": ""
             }
            },
            "type": "scatterpolar"
           }
          ],
          "scatterpolargl": [
           {
            "marker": {
             "colorbar": {
              "outlinewidth": 0,
              "ticks": ""
             }
            },
            "type": "scatterpolargl"
           }
          ],
          "scatterternary": [
           {
            "marker": {
             "colorbar": {
              "outlinewidth": 0,
              "ticks": ""
             }
            },
            "type": "scatterternary"
           }
          ],
          "surface": [
           {
            "colorbar": {
             "outlinewidth": 0,
             "ticks": ""
            },
            "colorscale": [
             [
              0,
              "#0d0887"
             ],
             [
              0.1111111111111111,
              "#46039f"
             ],
             [
              0.2222222222222222,
              "#7201a8"
             ],
             [
              0.3333333333333333,
              "#9c179e"
             ],
             [
              0.4444444444444444,
              "#bd3786"
             ],
             [
              0.5555555555555556,
              "#d8576b"
             ],
             [
              0.6666666666666666,
              "#ed7953"
             ],
             [
              0.7777777777777778,
              "#fb9f3a"
             ],
             [
              0.8888888888888888,
              "#fdca26"
             ],
             [
              1,
              "#f0f921"
             ]
            ],
            "type": "surface"
           }
          ],
          "table": [
           {
            "cells": {
             "fill": {
              "color": "#EBF0F8"
             },
             "line": {
              "color": "white"
             }
            },
            "header": {
             "fill": {
              "color": "#C8D4E3"
             },
             "line": {
              "color": "white"
             }
            },
            "type": "table"
           }
          ]
         },
         "layout": {
          "annotationdefaults": {
           "arrowcolor": "#2a3f5f",
           "arrowhead": 0,
           "arrowwidth": 1
          },
          "autotypenumbers": "strict",
          "coloraxis": {
           "colorbar": {
            "outlinewidth": 0,
            "ticks": ""
           }
          },
          "colorscale": {
           "diverging": [
            [
             0,
             "#8e0152"
            ],
            [
             0.1,
             "#c51b7d"
            ],
            [
             0.2,
             "#de77ae"
            ],
            [
             0.3,
             "#f1b6da"
            ],
            [
             0.4,
             "#fde0ef"
            ],
            [
             0.5,
             "#f7f7f7"
            ],
            [
             0.6,
             "#e6f5d0"
            ],
            [
             0.7,
             "#b8e186"
            ],
            [
             0.8,
             "#7fbc41"
            ],
            [
             0.9,
             "#4d9221"
            ],
            [
             1,
             "#276419"
            ]
           ],
           "sequential": [
            [
             0,
             "#0d0887"
            ],
            [
             0.1111111111111111,
             "#46039f"
            ],
            [
             0.2222222222222222,
             "#7201a8"
            ],
            [
             0.3333333333333333,
             "#9c179e"
            ],
            [
             0.4444444444444444,
             "#bd3786"
            ],
            [
             0.5555555555555556,
             "#d8576b"
            ],
            [
             0.6666666666666666,
             "#ed7953"
            ],
            [
             0.7777777777777778,
             "#fb9f3a"
            ],
            [
             0.8888888888888888,
             "#fdca26"
            ],
            [
             1,
             "#f0f921"
            ]
           ],
           "sequentialminus": [
            [
             0,
             "#0d0887"
            ],
            [
             0.1111111111111111,
             "#46039f"
            ],
            [
             0.2222222222222222,
             "#7201a8"
            ],
            [
             0.3333333333333333,
             "#9c179e"
            ],
            [
             0.4444444444444444,
             "#bd3786"
            ],
            [
             0.5555555555555556,
             "#d8576b"
            ],
            [
             0.6666666666666666,
             "#ed7953"
            ],
            [
             0.7777777777777778,
             "#fb9f3a"
            ],
            [
             0.8888888888888888,
             "#fdca26"
            ],
            [
             1,
             "#f0f921"
            ]
           ]
          },
          "colorway": [
           "#636efa",
           "#EF553B",
           "#00cc96",
           "#ab63fa",
           "#FFA15A",
           "#19d3f3",
           "#FF6692",
           "#B6E880",
           "#FF97FF",
           "#FECB52"
          ],
          "font": {
           "color": "#2a3f5f"
          },
          "geo": {
           "bgcolor": "white",
           "lakecolor": "white",
           "landcolor": "white",
           "showlakes": true,
           "showland": true,
           "subunitcolor": "#C8D4E3"
          },
          "hoverlabel": {
           "align": "left"
          },
          "hovermode": "closest",
          "mapbox": {
           "style": "light"
          },
          "paper_bgcolor": "white",
          "plot_bgcolor": "white",
          "polar": {
           "angularaxis": {
            "gridcolor": "#EBF0F8",
            "linecolor": "#EBF0F8",
            "ticks": ""
           },
           "bgcolor": "white",
           "radialaxis": {
            "gridcolor": "#EBF0F8",
            "linecolor": "#EBF0F8",
            "ticks": ""
           }
          },
          "scene": {
           "xaxis": {
            "backgroundcolor": "white",
            "gridcolor": "#DFE8F3",
            "gridwidth": 2,
            "linecolor": "#EBF0F8",
            "showbackground": true,
            "ticks": "",
            "zerolinecolor": "#EBF0F8"
           },
           "yaxis": {
            "backgroundcolor": "white",
            "gridcolor": "#DFE8F3",
            "gridwidth": 2,
            "linecolor": "#EBF0F8",
            "showbackground": true,
            "ticks": "",
            "zerolinecolor": "#EBF0F8"
           },
           "zaxis": {
            "backgroundcolor": "white",
            "gridcolor": "#DFE8F3",
            "gridwidth": 2,
            "linecolor": "#EBF0F8",
            "showbackground": true,
            "ticks": "",
            "zerolinecolor": "#EBF0F8"
           }
          },
          "shapedefaults": {
           "line": {
            "color": "#2a3f5f"
           }
          },
          "ternary": {
           "aaxis": {
            "gridcolor": "#DFE8F3",
            "linecolor": "#A2B1C6",
            "ticks": ""
           },
           "baxis": {
            "gridcolor": "#DFE8F3",
            "linecolor": "#A2B1C6",
            "ticks": ""
           },
           "bgcolor": "white",
           "caxis": {
            "gridcolor": "#DFE8F3",
            "linecolor": "#A2B1C6",
            "ticks": ""
           }
          },
          "title": {
           "x": 0.05
          },
          "xaxis": {
           "automargin": true,
           "gridcolor": "#EBF0F8",
           "linecolor": "#EBF0F8",
           "ticks": "",
           "title": {
            "standoff": 15
           },
           "zerolinecolor": "#EBF0F8",
           "zerolinewidth": 2
          },
          "yaxis": {
           "automargin": true,
           "gridcolor": "#EBF0F8",
           "linecolor": "#EBF0F8",
           "ticks": "",
           "title": {
            "standoff": 15
           },
           "zerolinecolor": "#EBF0F8",
           "zerolinewidth": 2
          }
         }
        },
        "title": {
         "font": {
          "color": "Black",
          "size": 22
         },
         "text": "Topic Word Scores",
         "x": 0.5,
         "xanchor": "center",
         "yanchor": "top"
        },
        "width": 1000,
        "xaxis": {
         "anchor": "y",
         "domain": [
          0,
          0.175
         ],
         "showgrid": true
        },
        "xaxis2": {
         "anchor": "y2",
         "domain": [
          0.275,
          0.45
         ],
         "showgrid": true
        },
        "xaxis3": {
         "anchor": "y3",
         "domain": [
          0.55,
          0.7250000000000001
         ],
         "showgrid": true
        },
        "xaxis4": {
         "anchor": "y4",
         "domain": [
          0.825,
          1
         ],
         "showgrid": true
        },
        "xaxis5": {
         "anchor": "y5",
         "domain": [
          0,
          0.175
         ],
         "showgrid": true
        },
        "xaxis6": {
         "anchor": "y6",
         "domain": [
          0.275,
          0.45
         ],
         "showgrid": true
        },
        "xaxis7": {
         "anchor": "y7",
         "domain": [
          0.55,
          0.7250000000000001
         ],
         "showgrid": true
        },
        "xaxis8": {
         "anchor": "y8",
         "domain": [
          0.825,
          1
         ],
         "showgrid": true
        },
        "yaxis": {
         "anchor": "x",
         "domain": [
          0.6000000000000001,
          1
         ],
         "showgrid": true
        },
        "yaxis2": {
         "anchor": "x2",
         "domain": [
          0.6000000000000001,
          1
         ],
         "showgrid": true
        },
        "yaxis3": {
         "anchor": "x3",
         "domain": [
          0.6000000000000001,
          1
         ],
         "showgrid": true
        },
        "yaxis4": {
         "anchor": "x4",
         "domain": [
          0.6000000000000001,
          1
         ],
         "showgrid": true
        },
        "yaxis5": {
         "anchor": "x5",
         "domain": [
          0,
          0.4
         ],
         "showgrid": true
        },
        "yaxis6": {
         "anchor": "x6",
         "domain": [
          0,
          0.4
         ],
         "showgrid": true
        },
        "yaxis7": {
         "anchor": "x7",
         "domain": [
          0,
          0.4
         ],
         "showgrid": true
        },
        "yaxis8": {
         "anchor": "x8",
         "domain": [
          0,
          0.4
         ],
         "showgrid": true
        }
       }
      }
     },
     "metadata": {},
     "output_type": "display_data"
    }
   ],
   "source": [
    "topic_model.visualize_barchart(n_words = 10)"
   ]
  }
 ],
 "metadata": {
  "colab": {
   "provenance": []
  },
  "kernelspec": {
   "display_name": "base",
   "language": "python",
   "name": "python3"
  },
  "language_info": {
   "codemirror_mode": {
    "name": "ipython",
    "version": 3
   },
   "file_extension": ".py",
   "mimetype": "text/x-python",
   "name": "python",
   "nbconvert_exporter": "python",
   "pygments_lexer": "ipython3",
   "version": "3.11.5"
  }
 },
 "nbformat": 4,
 "nbformat_minor": 0
}
