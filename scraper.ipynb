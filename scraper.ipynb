{
 "cells": [
  {
   "cell_type": "markdown",
   "metadata": {
    "id": "6WJJucacY9Y7"
   },
   "source": [
    "# Web Scraping"
   ]
  },
  {
   "cell_type": "code",
   "execution_count": 1,
   "metadata": {},
   "outputs": [],
   "source": [
    "import requests\n",
    "from bs4 import BeautifulSoup\n",
    "import pandas as pd\n",
    "import os\n",
    "import pdfplumber  # For extracting text from PDFs"
   ]
  },
  {
   "cell_type": "markdown",
   "metadata": {},
   "source": [
    "## 1. Extract Boardgame Names and Rulebook Links"
   ]
  },
  {
   "cell_type": "code",
   "execution_count": 2,
   "metadata": {},
   "outputs": [],
   "source": [
    "# Base URL of the website\n",
    "base_url = \"https://en.1jour-1jeu.com/rules?page=\"\n",
    "\n",
    "# Directory to save downloaded rulebooks\n",
    "os.makedirs(\"rulebooks\", exist_ok=True)\n",
    "\n",
    "# Initialize list for storing data\n",
    "boardgames_data = []\n",
    "\n",
    "# Number of pages (update this after checking total pages on the website)\n",
    "num_pages = 394"
   ]
  },
  {
   "cell_type": "code",
   "execution_count": 3,
   "metadata": {},
   "outputs": [
    {
     "name": "stdout",
     "output_type": "stream",
     "text": [
      "Error processing À l'Heure du Crime... Où Étiez-Vous ? Règle: [Errno 22] Invalid argument: \"rulebooks/À_l'Heure_du_Crime..._Où_Étiez-Vous_?_Règle.pdf\"\n",
      "Error processing BANG ! High Noon/A Fistful of Cards Rulebook: [Errno 2] No such file or directory: 'rulebooks/BANG_!_High_Noon/A_Fistful_of_Cards_Rulebook.pdf'\n",
      "Error processing C'est qui le Plus Fort ? Règle: [Errno 22] Invalid argument: \"rulebooks/C'est_qui_le_Plus_Fort_?_Règle.pdf\"\n",
      "Error processing Cluedo: 50 - 1949 / 1999 Règle: [Errno 22] Invalid argument: 'rulebooks/Cluedo:_50_-_1949_/_1999_Règle.pdf'\n",
      "Error processing Cluedo: Junior: L'affaire des Jouets Cachés ! Règle: [Errno 22] Invalid argument: \"rulebooks/Cluedo:_Junior:_L'affaire_des_Jouets_Cachés_!_Règle.pdf\"\n",
      "Error processing Conjudingo CM1/CM2 Règle: [Errno 2] No such file or directory: 'rulebooks/Conjudingo_CM1/CM2_Règle.pdf'\n",
      "Error processing Crazy Tower: Construction / Sabotage Règle: [Errno 22] Invalid argument: 'rulebooks/Crazy_Tower:_Construction_/_Sabotage_Règle.pdf'\n",
      "Error processing Da ist der Wurm drin Rulebook\tMultilingual: [Errno 22] Invalid argument: 'rulebooks/Da_ist_der_Wurm_drin_Rulebook\\tMultilingual.pdf'\n",
      "Error processing Déclic !? Évolution Règle: [Errno 22] Invalid argument: 'rulebooks/Déclic_!?_Évolution_Règle.pdf'\n",
      "Error processing Déclic !? Family Règle: [Errno 22] Invalid argument: 'rulebooks/Déclic_!?_Family_Règle.pdf'\n",
      "Error processing Déclic !? Règle: [Errno 22] Invalid argument: 'rulebooks/Déclic_!?_Règle.pdf'\n",
      "Error processing Deus - Carte: Port commercial (argile/bois) - Errata 1st Print: [Errno 22] Invalid argument: 'rulebooks/Deus_-_Carte:_Port_commercial_(argile/bois)_-_Errata_1st_Print.pdf'\n",
      "Error processing Énigmes ? Règle Multilingue: [Errno 22] Invalid argument: 'rulebooks/Énigmes_?_Règle_Multilingue.pdf'\n",
      "Error processing Escargots… Prêts ? Partez ! Règle: [Errno 22] Invalid argument: 'rulebooks/Escargots…_Prêts_?_Partez_!_Règle.pdf'\n",
      "Error processing Guess Who ? Rulebook: [Errno 22] Invalid argument: 'rulebooks/Guess_Who_?_Rulebook.pdf'\n",
      "Error processing Keskifé? Rulebook: [Errno 22] Invalid argument: 'rulebooks/Keskifé?_Rulebook.pdf'\n",
      "Error processing Kiki va Sortir les Poubelles ? Règle: [Errno 22] Invalid argument: 'rulebooks/Kiki_va_Sortir_les_Poubelles_?_Règle.pdf'\n",
      "Error processing King of Tokyo/New York: Monster Pack - Anubis Rulebook: [Errno 2] No such file or directory: 'rulebooks/King_of_Tokyo/New_York:_Monster_Pack_-_Anubis_Rulebook.pdf'\n",
      "Error processing King of Tokyo/New York: Monster Pack - Cthulhu Rulebook: [Errno 2] No such file or directory: 'rulebooks/King_of_Tokyo/New_York:_Monster_Pack_-_Cthulhu_Rulebook.pdf'\n",
      "Error processing King of Tokyo/New York: Monster Pack - Cybertooth Rulebook: [Errno 2] No such file or directory: 'rulebooks/King_of_Tokyo/New_York:_Monster_Pack_-_Cybertooth_Rulebook.pdf'\n",
      "Error processing King of Tokyo/New York: Monster Pack - King Kong Rulebook: [Errno 2] No such file or directory: 'rulebooks/King_of_Tokyo/New_York:_Monster_Pack_-_King_Kong_Rulebook.pdf'\n",
      "Error processing Konito ? Règle: [Errno 22] Invalid argument: 'rulebooks/Konito_?_Règle.pdf'\n",
      "Error processing Mais Il est Où ? Règle: [Errno 22] Invalid argument: 'rulebooks/Mais_Il_est_Où_?_Règle.pdf'\n",
      "Error processing Mémoire 44: Le Guide Tactique et Stratégique Morceau de Choix : \"Le choc des nations\": [Errno 22] Invalid argument: 'rulebooks/Mémoire_44:_Le_Guide_Tactique_et_Stratégique_Morceau_de_Choix_:_\"Le_choc_des_nations\".pdf'\n",
      "Error processing Mémoire 44: Plateau Hiver/Désert Règle Multilingue: [Errno 22] Invalid argument: 'rulebooks/Mémoire_44:_Plateau_Hiver/Désert_Règle_Multilingue.pdf'\n",
      "Error processing Mystères ? Règle: [Errno 22] Invalid argument: 'rulebooks/Mystères_?_Règle.pdf'\n",
      "Error processing Power Grid: Benelux/Central Europe Rulebook: [Errno 22] Invalid argument: 'rulebooks/Power_Grid:_Benelux/Central_Europe_Rulebook.pdf'\n",
      "Error processing Power Grid: France/Italy Rulebook: [Errno 22] Invalid argument: 'rulebooks/Power_Grid:_France/Italy_Rulebook.pdf'\n",
      "Error processing Privacy No Limit ?! Règle: [Errno 22] Invalid argument: 'rulebooks/Privacy_No_Limit_?!_Règle.pdf'\n",
      "Error processing Quelle Heure Est-il ? Règle: [Errno 22] Invalid argument: 'rulebooks/Quelle_Heure_Est-il_?_Règle.pdf'\n",
      "Error processing Qu'est-ce tu Veux Qu'j'te Dise ? Règle: [Errno 22] Invalid argument: \"rulebooks/Qu'est-ce_tu_Veux_Qu'j'te_Dise_?_Règle.pdf\"\n",
      "Error processing Race for the Galaxy\tRulebook: [Errno 22] Invalid argument: 'rulebooks/Race_for_the_Galaxy\\tRulebook.pdf'\n",
      "Error processing Schau mal! Was ist anders? Rulebook: [Errno 22] Invalid argument: 'rulebooks/Schau_mal!_Was_ist_anders?_Rulebook.pdf'\n",
      "Error processing Synodingo CE1/CE2 Manuel Pédagogique: [Errno 2] No such file or directory: 'rulebooks/Synodingo_CE1/CE2_Manuel_Pédagogique.pdf'\n",
      "Error processing Synodingo CE1/CE2 Règle: [Errno 2] No such file or directory: 'rulebooks/Synodingo_CE1/CE2_Règle.pdf'\n",
      "Error processing Tudikoa ? Règle: [Errno 22] Invalid argument: 'rulebooks/Tudikoa_?_Règle.pdf'\n",
      "Error processing Tu Préfères ?! Family Règle: [Errno 22] Invalid argument: 'rulebooks/Tu_Préfères_?!_Family_Règle.pdf'\n",
      "Error processing Vampire: The Masquerade – Rivals: Blood & Alchemy Rulebook: [Errno 22] Invalid argument: 'rulebooks/Vampire:_The_Masquerade_–_Rivals:_Blood_&_Alchemy_Rulebook.pdf'\n",
      "Error processing Vampire: The Masquerade – Rivals: The Wolf & The Rat Rulebook: [Errno 22] Invalid argument: 'rulebooks/Vampire:_The_Masquerade_–_Rivals:_The_Wolf_&_The_Rat_Rulebook.pdf'\n",
      "Error processing Vocadingo CM1/CM2 Manuel Pédagogique: [Errno 2] No such file or directory: 'rulebooks/Vocadingo_CM1/CM2_Manuel_Pédagogique.pdf'\n",
      "Error processing Vocadingo CM1/CM2 Règle: [Errno 2] No such file or directory: 'rulebooks/Vocadingo_CM1/CM2_Règle.pdf'\n",
      "Error processing Vocadingo CP/CM1 Manuel Pédagogique: [Errno 2] No such file or directory: 'rulebooks/Vocadingo_CP/CM1_Manuel_Pédagogique.pdf'\n",
      "Error processing What Do You Meme? Rulebook: [Errno 22] Invalid argument: 'rulebooks/What_Do_You_Meme?_Rulebook.pdf'\n",
      "Error processing What's Missing ? Rulebook: [Errno 22] Invalid argument: \"rulebooks/What's_Missing_?_Rulebook.pdf\"\n",
      "Error processing What's Missing? Rulebook: [Errno 22] Invalid argument: \"rulebooks/What's_Missing?_Rulebook.pdf\"\n",
      "Error processing What the Fake ?! Règle: [Errno 22] Invalid argument: 'rulebooks/What_the_Fake_?!_Règle.pdf'\n",
      "Error processing What? What! Rulebook: [Errno 22] Invalid argument: 'rulebooks/What?_What!_Rulebook.pdf'\n",
      "Error processing Who Did It? Rulebook: [Errno 22] Invalid argument: 'rulebooks/Who_Did_It?_Rulebook.pdf'\n",
      "Error processing Whoowasit? Rulebook: [Errno 22] Invalid argument: 'rulebooks/Whoowasit?_Rulebook.pdf'\n",
      "Error processing Zombicide: Invader Gaming Night #1 : Deep Breath: [Errno 22] Invalid argument: 'rulebooks/Zombicide:_Invader_Gaming_Night_#1_:_Deep_Breath.pdf'\n",
      "Dataset created successfully!\n"
     ]
    }
   ],
   "source": [
    "# Step 1: Scrape boardgame names and rulebook links\n",
    "for page in range(1, num_pages + 1):\n",
    "    url = base_url + str(page)\n",
    "    response = requests.get(url)\n",
    "    soup = BeautifulSoup(response.content, \"html.parser\")\n",
    "    \n",
    "    # Find all boardgame entries\n",
    "    games = soup.find_all(\"h3\", class_=\"mb-0\")      \n",
    "    for game in games:\n",
    "        name = game.text.strip()  # Extract boardgame name\n",
    "        parent = game.find_parent(\"div\", class_=\"col-center\")\n",
    "        link = parent.find(\"a\", href=True) \n",
    "        \n",
    "        if link:\n",
    "            rulebook_url = link[\"href\"]\n",
    "            boardgames_data.append({\"Name\": name, \"Rulebook_URL\": rulebook_url})\n",
    "\n",
    "# Convert to a DataFrame\n",
    "df = pd.DataFrame(boardgames_data)\n",
    "\n",
    "# Step 2: Download rulebooks and extract text\n",
    "df[\"Rulebook_Text\"] = \"\" \n",
    "\n",
    "for i, row in df.iterrows():\n",
    "    rulebook_url = row[\"Rulebook_URL\"]\n",
    "    try:\n",
    "        # Download the PDF\n",
    "        response = requests.get(rulebook_url)\n",
    "        file_path = f\"rulebooks/{row['Name'].replace(' ', '_')}.pdf\"\n",
    "        with open(file_path, \"wb\") as f:\n",
    "            f.write(response.content)\n",
    "        \n",
    "        # Extract text from PDF\n",
    "        with pdfplumber.open(file_path) as pdf:\n",
    "            text = \"\"\n",
    "            for page in pdf.pages:\n",
    "                text += page.extract_text() or \"\"  # Extract text from each page\n",
    "            df.at[i, \"Rulebook_Text\"] = text.strip()\n",
    "    except Exception as e:\n",
    "        print(f\"Error processing {row['Name']}: {e}\")\n",
    "\n",
    "# Step 3: Save final dataset\n",
    "df.drop(columns=[\"Rulebook_URL\"], inplace=True)\n",
    "df.to_csv(\"boardgames_with_rulebooks.csv\", index=False)\n",
    "\n",
    "print(\"Dataset created successfully!\")"
   ]
  }
 ],
 "metadata": {
  "colab": {
   "provenance": []
  },
  "kernelspec": {
   "display_name": "base",
   "language": "python",
   "name": "python3"
  },
  "language_info": {
   "codemirror_mode": {
    "name": "ipython",
    "version": 3
   },
   "file_extension": ".py",
   "mimetype": "text/x-python",
   "name": "python",
   "nbconvert_exporter": "python",
   "pygments_lexer": "ipython3",
   "version": "3.11.5"
  }
 },
 "nbformat": 4,
 "nbformat_minor": 0
}
